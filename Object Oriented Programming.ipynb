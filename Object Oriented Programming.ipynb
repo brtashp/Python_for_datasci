{
 "cells": [
  {
   "cell_type": "markdown",
   "metadata": {
    "id": "2GD2dZJEpnKh"
   },
   "source": [
    "# Python Object Oriented Programming"
   ]
  },
  {
   "cell_type": "markdown",
   "metadata": {
    "id": "YzwwSvg6pnKx"
   },
   "source": [
    "## Classes and Objects\n",
    "\n",
    "In Python, classes are created to bring together similar functions and attributes. A class is defined similarly to a function, though it uses the *class* keyword instead of *def*.\n",
    "\n",
    "Documentation: https://docs.python.org/3/tutorial/classes.html"
   ]
  },
  {
   "cell_type": "code",
   "execution_count": 22,
   "metadata": {
    "id": "L7lTEQcBpnKy"
   },
   "outputs": [],
   "source": [
    "class my_class: #this is how we define a class. very similar to defining a function except that we use class instead of def\n",
    "    my_attribute = 9 #a class attribute\n",
    "    def my_function(): #class function\n",
    "        print('Hello world!')"
   ]
  },
  {
   "cell_type": "code",
   "execution_count": 23,
   "metadata": {},
   "outputs": [
    {
     "data": {
      "text/plain": [
       "9"
      ]
     },
     "execution_count": 23,
     "metadata": {},
     "output_type": "execute_result"
    }
   ],
   "source": [
    "my_class.my_attribute"
   ]
  },
  {
   "cell_type": "code",
   "execution_count": 24,
   "metadata": {
    "id": "YO1AW9xLpnK4",
    "outputId": "daa77461-a714-4ea5-b6c8-9898507578b9",
    "scrolled": true
   },
   "outputs": [
    {
     "name": "stdout",
     "output_type": "stream",
     "text": [
      "Hello world!\n"
     ]
    }
   ],
   "source": [
    "my_class.my_function()"
   ]
  },
  {
   "cell_type": "markdown",
   "metadata": {
    "id": "pREKOEXQpnK6"
   },
   "source": [
    "* When we declare a class, we can also create an Instance of that class, which is also called **Object**. You can think of Object as a copy of the class. Then, the object will carry all the attributes and functions that were declared within the class. Creating an object with a predefined/structured classes will allow us to store the same type of data by group of objects.\n",
    "\n",
    "* We often want values to be initialized inside a class when we first create an object. In other words, when we create an object, we want that object to carry some default values. We accomplish this by declaring a special function called **\\__init\\__** inside the class. This function is automatically called when we create the new class. This function is used to initialize the values for the new object.\n",
    "\n",
    "* We can call the init method **constructor method** as well."
   ]
  },
  {
   "cell_type": "code",
   "execution_count": 28,
   "metadata": {},
   "outputs": [],
   "source": [
    "class my_class: #this is how we define a class. very similar to defining a function except that we use class instead of def\n",
    "    my_attribute = 9 #a class attribute\n",
    "    def my_function(): #class function\n",
    "        print('Hello world!',my_attribute)"
   ]
  },
  {
   "cell_type": "code",
   "execution_count": 29,
   "metadata": {},
   "outputs": [
    {
     "ename": "NameError",
     "evalue": "name 'my_attribute' is not defined",
     "output_type": "error",
     "traceback": [
      "\u001b[1;31m---------------------------------------------------------------------------\u001b[0m",
      "\u001b[1;31mNameError\u001b[0m                                 Traceback (most recent call last)",
      "Cell \u001b[1;32mIn[29], line 1\u001b[0m\n\u001b[1;32m----> 1\u001b[0m \u001b[43mmy_class\u001b[49m\u001b[38;5;241;43m.\u001b[39;49m\u001b[43mmy_function\u001b[49m\u001b[43m(\u001b[49m\u001b[43m)\u001b[49m\n",
      "Cell \u001b[1;32mIn[28], line 4\u001b[0m, in \u001b[0;36mmy_class.my_function\u001b[1;34m()\u001b[0m\n\u001b[0;32m      3\u001b[0m \u001b[38;5;28;01mdef\u001b[39;00m \u001b[38;5;21mmy_function\u001b[39m(): \u001b[38;5;66;03m#class function\u001b[39;00m\n\u001b[1;32m----> 4\u001b[0m     \u001b[38;5;28mprint\u001b[39m(\u001b[38;5;124m'\u001b[39m\u001b[38;5;124mHello world!\u001b[39m\u001b[38;5;124m'\u001b[39m,\u001b[43mmy_attribute\u001b[49m )\n",
      "\u001b[1;31mNameError\u001b[0m: name 'my_attribute' is not defined"
     ]
    }
   ],
   "source": [
    "my_class.my_function()"
   ]
  },
  {
   "cell_type": "code",
   "execution_count": 30,
   "metadata": {},
   "outputs": [],
   "source": [
    "class my_class: #this is how we define a class. very similar to defining a function except that we use class instead of def\n",
    "    \n",
    "    def __init__(self):\n",
    "        self.my_attribute = 9 #a class attribute\n",
    "        \n",
    "    def my_function(self): #class function\n",
    "        print('Hello world!',self.my_attribute )"
   ]
  },
  {
   "cell_type": "code",
   "execution_count": 34,
   "metadata": {},
   "outputs": [],
   "source": [
    "new_instance = my_class()"
   ]
  },
  {
   "cell_type": "code",
   "execution_count": 35,
   "metadata": {},
   "outputs": [
    {
     "data": {
      "text/plain": [
       "9"
      ]
     },
     "execution_count": 35,
     "metadata": {},
     "output_type": "execute_result"
    }
   ],
   "source": [
    "new_instance.my_attribute"
   ]
  },
  {
   "cell_type": "code",
   "execution_count": 36,
   "metadata": {},
   "outputs": [
    {
     "name": "stdout",
     "output_type": "stream",
     "text": [
      "Hello world! 9\n"
     ]
    }
   ],
   "source": [
    "new_instance.my_function()"
   ]
  },
  {
   "cell_type": "code",
   "execution_count": 37,
   "metadata": {},
   "outputs": [],
   "source": [
    "class my_class: #this is how we define a class. very similar to defining a function except that we use class instead of def\n",
    "    \n",
    "    def __init__(self):\n",
    "        self.my_attribute = 9 #a class attribute\n",
    "        \n",
    "    def my_function(self, param1, param2=2): #class function\n",
    "        print('Hello world!',self.my_attribute, param1, param2)"
   ]
  },
  {
   "cell_type": "code",
   "execution_count": 38,
   "metadata": {},
   "outputs": [],
   "source": [
    "new_instance = my_class()"
   ]
  },
  {
   "cell_type": "code",
   "execution_count": 45,
   "metadata": {},
   "outputs": [
    {
     "name": "stdout",
     "output_type": "stream",
     "text": [
      "Hello world! 9 1 3\n"
     ]
    }
   ],
   "source": [
    "new_instance.my_function(param1=1,param2=3)"
   ]
  },
  {
   "cell_type": "code",
   "execution_count": 50,
   "metadata": {},
   "outputs": [],
   "source": [
    "class my_class: #this is how we define a class. very similar to defining a function except that we use class instead of def\n",
    "    \n",
    "    def __init__(self):\n",
    "        self.my_attribute = 9 #a class attribute\n",
    "        \n",
    "    def my_function(self, param1, param2 = 2): #class function\n",
    "        return self.my_attribute*param1/param2"
   ]
  },
  {
   "cell_type": "code",
   "execution_count": 51,
   "metadata": {},
   "outputs": [],
   "source": [
    "new_instance = my_class()"
   ]
  },
  {
   "cell_type": "code",
   "execution_count": 53,
   "metadata": {},
   "outputs": [],
   "source": [
    "z = new_instance.my_function(param1=4,param2=3)"
   ]
  },
  {
   "cell_type": "code",
   "execution_count": 55,
   "metadata": {
    "id": "wAYHi_sapnK7"
   },
   "outputs": [],
   "source": [
    "class my_new_class:\n",
    "    \n",
    "    def __init__(self): #define an __init__ function\n",
    "        self.value = 9\n",
    "        \n",
    "    def set_multiply(self, value1, value2): #define a custom function (so-called setter function)\n",
    "        self.value = value1*value2"
   ]
  },
  {
   "cell_type": "code",
   "execution_count": 56,
   "metadata": {},
   "outputs": [],
   "source": [
    "new_instance = my_new_class()"
   ]
  },
  {
   "cell_type": "code",
   "execution_count": 57,
   "metadata": {},
   "outputs": [
    {
     "data": {
      "text/plain": [
       "9"
      ]
     },
     "execution_count": 57,
     "metadata": {},
     "output_type": "execute_result"
    }
   ],
   "source": [
    "new_instance.value"
   ]
  },
  {
   "cell_type": "code",
   "execution_count": 59,
   "metadata": {},
   "outputs": [],
   "source": [
    "new_instance.set_multiply(3,2)"
   ]
  },
  {
   "cell_type": "code",
   "execution_count": 60,
   "metadata": {},
   "outputs": [
    {
     "data": {
      "text/plain": [
       "6"
      ]
     },
     "execution_count": 60,
     "metadata": {},
     "output_type": "execute_result"
    }
   ],
   "source": [
    "new_instance.value"
   ]
  },
  {
   "cell_type": "markdown",
   "metadata": {
    "id": "Pg79NtlypnK9"
   },
   "source": [
    "* Objects are instances of a class. We create an instance by calling the class."
   ]
  },
  {
   "cell_type": "markdown",
   "metadata": {
    "id": "BFjzfNjFAUDL"
   },
   "source": [
    "### **Example 1:** Let's create two objects from the above defined class."
   ]
  },
  {
   "cell_type": "code",
   "execution_count": 61,
   "metadata": {
    "id": "6zJLQ3zWpnK-"
   },
   "outputs": [],
   "source": [
    "object1 = my_new_class() #create an instance of the above defined class\n",
    "object2 = my_new_class() #create another instance of the above defined class"
   ]
  },
  {
   "cell_type": "code",
   "execution_count": 62,
   "metadata": {
    "id": "6N1TyZBQpnK_",
    "outputId": "945be1c7-d12c-492a-cd39-ee1b9a235c47",
    "scrolled": true
   },
   "outputs": [
    {
     "data": {
      "text/plain": [
       "9"
      ]
     },
     "execution_count": 62,
     "metadata": {},
     "output_type": "execute_result"
    }
   ],
   "source": [
    "object1.value #this object's value attribute is automatically initialized due to _init_"
   ]
  },
  {
   "cell_type": "code",
   "execution_count": 63,
   "metadata": {
    "id": "bxGTYY8zpnLA",
    "outputId": "1982679b-aada-4ff1-88b2-096850b927a0"
   },
   "outputs": [
    {
     "data": {
      "text/plain": [
       "9"
      ]
     },
     "execution_count": 63,
     "metadata": {},
     "output_type": "execute_result"
    }
   ],
   "source": [
    "object2.value #this object's value attribute is also automatically initialized due to _init_"
   ]
  },
  {
   "cell_type": "code",
   "execution_count": 64,
   "metadata": {
    "id": "CkF6XOB6pnLB"
   },
   "outputs": [],
   "source": [
    "object2.set_multiply(10,11) #let's set second object's attribute as 10"
   ]
  },
  {
   "cell_type": "code",
   "execution_count": 68,
   "metadata": {
    "id": "raVMH7MXpnLC",
    "outputId": "463a4894-e6c2-4add-c883-c543c8631567"
   },
   "outputs": [
    {
     "data": {
      "text/plain": [
       "12"
      ]
     },
     "execution_count": 68,
     "metadata": {},
     "output_type": "execute_result"
    }
   ],
   "source": [
    "object1.value #will only hold the initialized value"
   ]
  },
  {
   "cell_type": "code",
   "execution_count": 65,
   "metadata": {
    "id": "aSqclV-fpnLD",
    "outputId": "509c8d29-3272-45ed-dac2-dfdcf9a48470"
   },
   "outputs": [
    {
     "data": {
      "text/plain": [
       "110"
      ]
     },
     "execution_count": 65,
     "metadata": {},
     "output_type": "execute_result"
    }
   ],
   "source": [
    "object2.value #will hold the newly set value"
   ]
  },
  {
   "cell_type": "code",
   "execution_count": 67,
   "metadata": {},
   "outputs": [],
   "source": [
    "object1.value = 12"
   ]
  },
  {
   "cell_type": "markdown",
   "metadata": {
    "id": "KuTPZpH3pnLE"
   },
   "source": [
    "* Keyword *self* is used in a class to attach a variable to the object. That variable will always be attached to the object. Any other variables defined in class will be local with in a function.<br/>"
   ]
  },
  {
   "cell_type": "markdown",
   "metadata": {
    "id": "DvuQXAD_pnLF"
   },
   "source": [
    "* We can pass along additional arguments through \\__init__ other than self so that the new objects can be initialized differently.<br/>"
   ]
  },
  {
   "cell_type": "markdown",
   "metadata": {
    "id": "fi5lxrn4Akeu"
   },
   "source": [
    "### **Example 2:** (a) Let's define a class named \"person\" and pass additional attributes along with a default one."
   ]
  },
  {
   "cell_type": "code",
   "execution_count": 69,
   "metadata": {
    "id": "Fqk5Pso8pnLG"
   },
   "outputs": [],
   "source": [
    "class person:\n",
    "    def __init__(self, first_name, second_name, gender='Male'):\n",
    "        self.gender = gender #default gender is Male\n",
    "        self.first_name = first_name #additional attribute\n",
    "        self.second_name = second_name #additional attribute"
   ]
  },
  {
   "cell_type": "code",
   "execution_count": 70,
   "metadata": {
    "id": "8iTRTd_ypnLH"
   },
   "outputs": [],
   "source": [
    "person1 = person(\"James\", \"Cook\")"
   ]
  },
  {
   "cell_type": "code",
   "execution_count": 71,
   "metadata": {
    "id": "Wsu6bDurpnLI",
    "outputId": "f140fd70-a139-4fcf-ac58-ed873ce3be84"
   },
   "outputs": [
    {
     "data": {
      "text/plain": [
       "'Male'"
      ]
     },
     "execution_count": 71,
     "metadata": {},
     "output_type": "execute_result"
    }
   ],
   "source": [
    "person1.gender"
   ]
  },
  {
   "cell_type": "code",
   "execution_count": 72,
   "metadata": {
    "id": "6MEjpqu4pnLI",
    "outputId": "de51381f-4bf7-4d95-e8d7-ee4a8c126389",
    "scrolled": true
   },
   "outputs": [
    {
     "data": {
      "text/plain": [
       "'James'"
      ]
     },
     "execution_count": 72,
     "metadata": {},
     "output_type": "execute_result"
    }
   ],
   "source": [
    "person1.first_name"
   ]
  },
  {
   "cell_type": "code",
   "execution_count": 73,
   "metadata": {
    "id": "_d-xJtXlpnLK",
    "outputId": "21dc8a49-8caf-4a60-a620-e6bf3fdf101f"
   },
   "outputs": [
    {
     "data": {
      "text/plain": [
       "'Cook'"
      ]
     },
     "execution_count": 73,
     "metadata": {},
     "output_type": "execute_result"
    }
   ],
   "source": [
    "person1.second_name"
   ]
  },
  {
   "cell_type": "markdown",
   "metadata": {
    "id": "qK5lB6VjpnLK"
   },
   "source": [
    "The special method \\__str__(self) can be defined to override how the object is displayed when\n",
    "printed. \n",
    "Let's look at Man class to see how it looks by default"
   ]
  },
  {
   "cell_type": "code",
   "execution_count": 74,
   "metadata": {
    "id": "Q_jninoCpnLL",
    "outputId": "8c4a83a0-5b8f-4f15-a872-3b3e1ad4004c",
    "scrolled": true
   },
   "outputs": [
    {
     "name": "stdout",
     "output_type": "stream",
     "text": [
      "<__main__.person object at 0x00000223E6111A20>\n"
     ]
    }
   ],
   "source": [
    "print(person1) #looks not very meaningful"
   ]
  },
  {
   "cell_type": "markdown",
   "metadata": {
    "id": "YZGp500zpnLM"
   },
   "source": [
    "### **Example 2:** (b)Let's use \\__str__(self) method to change how it prints by defauly"
   ]
  },
  {
   "cell_type": "code",
   "execution_count": 75,
   "metadata": {
    "id": "478QjuUApnLM"
   },
   "outputs": [],
   "source": [
    "class person:\n",
    "    def __init__(self, first_name, second_name, gender='Male'):\n",
    "        self.gender = gender #default gender is Male\n",
    "        self.first_name = first_name #additional attribute\n",
    "        self.second_name = second_name #additional attribute\n",
    "    \n",
    "    def __str__(self):\n",
    "        return 'This is an object with gender {}'.format(self.gender) "
   ]
  },
  {
   "cell_type": "code",
   "execution_count": 78,
   "metadata": {
    "id": "9VaLo99apnLN"
   },
   "outputs": [],
   "source": [
    "person1 = person(\"James\", \"Cook\", 'Male')"
   ]
  },
  {
   "cell_type": "code",
   "execution_count": 79,
   "metadata": {
    "id": "hk0Q9ICgpnLO",
    "outputId": "f727e55b-b0af-4d7a-a2cf-d756472441dd",
    "scrolled": false
   },
   "outputs": [
    {
     "name": "stdout",
     "output_type": "stream",
     "text": [
      "This is an object with gender Male\n"
     ]
    }
   ],
   "source": [
    "print(person1) #The defualt looks of the class is a more meaningful output"
   ]
  },
  {
   "cell_type": "markdown",
   "metadata": {
    "id": "l24OhPNZpnLP"
   },
   "source": [
    "## Example 3:\n",
    "\n",
    "As an example, a Publication class has its own attributes that defines what is a Publication object. Title of the publication, the name of the author, the year of the publication (default), the publisher, max number of allowed pages, the number of pages are all attributes of a Publication."
   ]
  },
  {
   "cell_type": "code",
   "execution_count": 80,
   "metadata": {
    "id": "JFYDKGbfpnLQ"
   },
   "outputs": [],
   "source": [
    "class Publication:\n",
    "    def __init__(self, title, author, year, publisher, number_of_pages):\n",
    "        self.title = title\n",
    "        self.author = author\n",
    "        self.year = year\n",
    "        self.publisher = publisher\n",
    "        self.number_of_pages = number_of_pages\n",
    "        self.max_allowed_pages = 300 #default attribute\n",
    "\n",
    "    def __str__(self):\n",
    "        return '{} by {}, {}'.format(self.title, self.author, self.year)"
   ]
  },
  {
   "cell_type": "markdown",
   "metadata": {
    "id": "w9Enj1NdpnLR"
   },
   "source": [
    "Let's create a specific object out of this class."
   ]
  },
  {
   "cell_type": "code",
   "execution_count": 81,
   "metadata": {
    "colab": {
     "base_uri": "https://localhost:8080/"
    },
    "id": "Rf5X3Il2pnLR",
    "outputId": "e6cb80f2-b0b7-415e-a970-ae41dc79e202"
   },
   "outputs": [
    {
     "name": "stdout",
     "output_type": "stream",
     "text": [
      "Transit by Anna Seghers, 1951\n"
     ]
    }
   ],
   "source": [
    "my_book = Publication('Transit', 'Anna Seghers', '1951', 'The New York Review of Books', '257')\n",
    "\n",
    "print(my_book)"
   ]
  },
  {
   "cell_type": "markdown",
   "metadata": {
    "id": "4B0ga09mpnLS"
   },
   "source": [
    "* We pass along all the attributes into Publication class and create a new object.<br/> \n",
    "\n",
    "* How to access the values of the attributes?\n",
    "\n",
    "* Let's try the same method that we tried before: Calling by attribute name."
   ]
  },
  {
   "cell_type": "code",
   "execution_count": 82,
   "metadata": {
    "colab": {
     "base_uri": "https://localhost:8080/",
     "height": 35
    },
    "id": "53ARoDpIpnLT",
    "outputId": "c7e509f4-ea74-4ccb-e5e0-ab75cdec1b95"
   },
   "outputs": [
    {
     "data": {
      "text/plain": [
       "'257'"
      ]
     },
     "execution_count": 82,
     "metadata": {},
     "output_type": "execute_result"
    }
   ],
   "source": [
    "my_book.number_of_pages"
   ]
  },
  {
   "cell_type": "code",
   "execution_count": 87,
   "metadata": {
    "colab": {
     "base_uri": "https://localhost:8080/",
     "height": 35
    },
    "id": "ep31u0xPpnLT",
    "outputId": "5cae6c93-9b65-4d4a-f4b2-50d1b50dabcd",
    "scrolled": true
   },
   "outputs": [
    {
     "data": {
      "text/plain": [
       "200"
      ]
     },
     "execution_count": 87,
     "metadata": {},
     "output_type": "execute_result"
    }
   ],
   "source": [
    "my_book.max_allowed_pages = 20"
   ]
  },
  {
   "cell_type": "markdown",
   "metadata": {
    "id": "3QjPqKa4pnLU"
   },
   "source": [
    "* As a more preferred method, we can call functions inside the class. These methods are attached to the object once the object is created.\n",
    "\n",
    "* We call these functions methods. They are responsible for identifying the underlying object's behaviors ant other things."
   ]
  },
  {
   "cell_type": "markdown",
   "metadata": {
    "id": "CDkw2zqBpnLU"
   },
   "source": [
    "Let's implement some methods inside the class."
   ]
  },
  {
   "cell_type": "code",
   "execution_count": 88,
   "metadata": {
    "id": "dr0NyIptpnLU"
   },
   "outputs": [],
   "source": [
    "class Publication:\n",
    "    def __init__(self, title, author, year, publisher, number_of_pages):\n",
    "        self.title = title\n",
    "        self.author = author\n",
    "        self.year = year\n",
    "        self.publisher = publisher\n",
    "        self.number_of_pages = number_of_pages\n",
    "        self.max_allowed_pages = 300 #default attribute\n",
    "\n",
    "    def get_year_of_publication(self): #a getter function, which is a method\n",
    "        return self.year\n",
    "    \n",
    "    def get_max_allowed_pages(self): #another getter function, which is a method\n",
    "        return self.max_allowed_pages\n",
    "\n",
    "    def __str__(self):\n",
    "        return '{} by {}, {}'.format(self.title, self.author, self.year)"
   ]
  },
  {
   "cell_type": "code",
   "execution_count": 89,
   "metadata": {
    "id": "tA3dh43-pnLV"
   },
   "outputs": [],
   "source": [
    "my_book = Publication('Transit', 'Anna Seghers', '1951', 'The New York Review of Books', '257')"
   ]
  },
  {
   "cell_type": "code",
   "execution_count": 92,
   "metadata": {
    "colab": {
     "base_uri": "https://localhost:8080/",
     "height": 35
    },
    "id": "5VuXtd3kpnLV",
    "outputId": "d2c8236c-ea52-46f1-82da-6bdd3cd686cc",
    "scrolled": true
   },
   "outputs": [],
   "source": [
    "z = my_book.get_year_of_publication() #we get the publication year information via calling a method"
   ]
  },
  {
   "cell_type": "code",
   "execution_count": 96,
   "metadata": {
    "colab": {
     "base_uri": "https://localhost:8080/"
    },
    "id": "XqRv0DfapnLW",
    "outputId": "a16010c6-8d6f-43bd-c169-3c7714b147fb"
   },
   "outputs": [
    {
     "data": {
      "text/plain": [
       "'Transit'"
      ]
     },
     "execution_count": 96,
     "metadata": {},
     "output_type": "execute_result"
    }
   ],
   "source": [
    "my_book.title"
   ]
  },
  {
   "cell_type": "markdown",
   "metadata": {
    "id": "3l3z6ITJpnLW"
   },
   "source": [
    "* We get the publication year information via calling a method. This type of methods within a class are called \"getters\".  \n",
    "\n",
    "* Another method that we can define in a class are so-called \"setter\"."
   ]
  },
  {
   "cell_type": "code",
   "execution_count": 97,
   "metadata": {
    "id": "v7H31cPGpnLX"
   },
   "outputs": [],
   "source": [
    "class Publication:\n",
    "    def __init__(self, title, author, year, publisher, number_of_pages):\n",
    "        self.title = title\n",
    "        self.author = author\n",
    "        self.year = year\n",
    "        self.publisher = publisher\n",
    "        self.number_of_pages = number_of_pages\n",
    "        self.max_allowed_pages = 300 #default attribute\n",
    "    \n",
    "    def set_year_of_publication(self, nmbr): #a setter function, which is a method in this class.\n",
    "            self.year = nmbr\n",
    "            \n",
    "    def get_year_of_publication(self): #a getter function, which is a method in this class. \n",
    "        return self.year\n",
    "\n",
    "    def __str__(self):\n",
    "        return '{} by {}, {}'.format(self.title, self.author, self.year)"
   ]
  },
  {
   "cell_type": "code",
   "execution_count": 98,
   "metadata": {
    "id": "6Tfrg_SapnLX"
   },
   "outputs": [],
   "source": [
    "my_book = Publication('Transit', 'Anna Seghers', '1951', 'The New York Review of Books', '257')"
   ]
  },
  {
   "cell_type": "code",
   "execution_count": 99,
   "metadata": {},
   "outputs": [
    {
     "data": {
      "text/plain": [
       "'1951'"
      ]
     },
     "execution_count": 99,
     "metadata": {},
     "output_type": "execute_result"
    }
   ],
   "source": [
    "my_book.get_year_of_publication()"
   ]
  },
  {
   "cell_type": "code",
   "execution_count": 100,
   "metadata": {
    "id": "wSEaRVNLpnLY"
   },
   "outputs": [],
   "source": [
    "my_book.set_year_of_publication('1951a')"
   ]
  },
  {
   "cell_type": "code",
   "execution_count": 103,
   "metadata": {
    "colab": {
     "base_uri": "https://localhost:8080/",
     "height": 35
    },
    "id": "I1-xOd0ipnLY",
    "outputId": "83aba3e9-582f-478f-e253-8ed422e87e93",
    "scrolled": true
   },
   "outputs": [
    {
     "data": {
      "text/plain": [
       "'2000'"
      ]
     },
     "execution_count": 103,
     "metadata": {},
     "output_type": "execute_result"
    }
   ],
   "source": [
    "my_book.get_year_of_publication()"
   ]
  },
  {
   "cell_type": "code",
   "execution_count": 102,
   "metadata": {
    "colab": {
     "base_uri": "https://localhost:8080/"
    },
    "id": "1wNVJeKCpnLZ",
    "outputId": "43c77449-5e30-491c-9e06-9bedadabe8bd"
   },
   "outputs": [],
   "source": [
    "my_book.year = '2000'"
   ]
  },
  {
   "cell_type": "markdown",
   "metadata": {
    "id": "u9Wb0dg-pnLZ"
   },
   "source": [
    "We can also define any method that helps define the object."
   ]
  },
  {
   "cell_type": "code",
   "execution_count": 104,
   "metadata": {
    "id": "gjnnZyJcpnLZ"
   },
   "outputs": [],
   "source": [
    "class Publication:\n",
    "    def __init__(self, title, author, year, publisher, number_of_pages):\n",
    "        self.title = title\n",
    "        self.author = author\n",
    "        self.year = year\n",
    "        self.publisher = publisher\n",
    "        self.number_of_pages = number_of_pages\n",
    "        self.max_allowed_pages = 300 #default attribute\n",
    "    \n",
    "    def set_year_of_publication(self, nmbr): #a setter function, which is a method in this class.\n",
    "            self.year = nmbr\n",
    "            \n",
    "    def get_year_of_publication(self): #a getter function, which is a method in this class. \n",
    "        return self.year\n",
    "    \n",
    "    def plot(self):\n",
    "        print('The novel takes place in France after the German invasion. The twenty-seven year old unnamed narrator has escaped from a Nazi concentration camp. Along the way to Marseilles, he meets one of his friends, Paul. Paul then asks the narrator to deliver a letter to a writer named Weidel in Paris. When the narrator goes to deliver the letter, he finds out that Weidel has committed suicide. The narrator also finds that Weidel left behind a suitcase full of letters and an unfinished manuscript for a novel.')\n",
    "\n",
    "    def __str__(self):\n",
    "        return '{} by {}, {}'.format(self.title, self.author, self.year)"
   ]
  },
  {
   "cell_type": "code",
   "execution_count": 105,
   "metadata": {
    "id": "-8q5tzElpnLa"
   },
   "outputs": [],
   "source": [
    "my_book = Publication('Transit', 'Anna Seghers', '1951', 'The New York Review of Books', '257')"
   ]
  },
  {
   "cell_type": "code",
   "execution_count": 106,
   "metadata": {
    "colab": {
     "base_uri": "https://localhost:8080/"
    },
    "id": "JynDa_XapnLa",
    "outputId": "b601961c-4af8-44ef-abd5-3eae314bf880",
    "scrolled": true
   },
   "outputs": [
    {
     "name": "stdout",
     "output_type": "stream",
     "text": [
      "The novel takes place in France after the German invasion. The twenty-seven year old unnamed narrator has escaped from a Nazi concentration camp. Along the way to Marseilles, he meets one of his friends, Paul. Paul then asks the narrator to deliver a letter to a writer named Weidel in Paris. When the narrator goes to deliver the letter, he finds out that Weidel has committed suicide. The narrator also finds that Weidel left behind a suitcase full of letters and an unfinished manuscript for a novel.\n"
     ]
    }
   ],
   "source": [
    "my_book.plot()"
   ]
  },
  {
   "cell_type": "code",
   "execution_count": 107,
   "metadata": {},
   "outputs": [],
   "source": [
    "my_book2 = Publication('aaa', 'bbAnna Seghers', '11951', 'Tshe New York Review of Books', '2257')"
   ]
  },
  {
   "cell_type": "code",
   "execution_count": 108,
   "metadata": {},
   "outputs": [
    {
     "name": "stdout",
     "output_type": "stream",
     "text": [
      "The novel takes place in France after the German invasion. The twenty-seven year old unnamed narrator has escaped from a Nazi concentration camp. Along the way to Marseilles, he meets one of his friends, Paul. Paul then asks the narrator to deliver a letter to a writer named Weidel in Paris. When the narrator goes to deliver the letter, he finds out that Weidel has committed suicide. The narrator also finds that Weidel left behind a suitcase full of letters and an unfinished manuscript for a novel.\n"
     ]
    }
   ],
   "source": [
    "my_book.plot()"
   ]
  },
  {
   "cell_type": "code",
   "execution_count": null,
   "metadata": {
    "id": "8GpAZh2dpnLd"
   },
   "outputs": [],
   "source": [
    "my_book.year = 1912"
   ]
  },
  {
   "cell_type": "code",
   "execution_count": null,
   "metadata": {
    "colab": {
     "base_uri": "https://localhost:8080/"
    },
    "id": "P8ANrYeRpnLe",
    "outputId": "1febbfb9-c616-48b2-e81c-9cd768f6f332"
   },
   "outputs": [],
   "source": [
    "my_book.year"
   ]
  },
  {
   "cell_type": "markdown",
   "metadata": {
    "id": "TgucEl4_pnLf"
   },
   "source": [
    "## Inheritance\n",
    "\n",
    "We can build other classes (child) based on previously created classes (parent). We prefer to do so, when multiple classes share the common functionality but still different in some way. \n",
    "\n",
    "A child class inherits all attributes and methods from a parent class. \n",
    "\n",
    "To illustrate Inheritance concept, we will regard Publication class as our parent class. We will create two child classes named Books and Articles which inherit all attributes and methods from Publication class. Both would have a title and an author."
   ]
  },
  {
   "cell_type": "markdown",
   "metadata": {
    "id": "ONxyNfpxpnLg"
   },
   "source": [
    "### Example 4"
   ]
  },
  {
   "cell_type": "markdown",
   "metadata": {
    "id": "TKh48ehcpnLg"
   },
   "source": [
    "Parent Class: Publication"
   ]
  },
  {
   "cell_type": "code",
   "execution_count": 110,
   "metadata": {
    "id": "Z7xDma4vpnLh"
   },
   "outputs": [],
   "source": [
    "class Publication:\n",
    "    def __init__(self, title, author, year, publisher, number_of_pages):\n",
    "        self.title = title\n",
    "        self.author = author\n",
    "        self.year = year\n",
    "        self.publisher = publisher\n",
    "        self.number_of_pages = number_of_pages\n",
    "        self.max_allowed_pages = 300 #default attribute\n",
    "    \n",
    "    def what_class_is_this(self):\n",
    "        print('This is a Publication class.')\n",
    "    \n",
    "    def __str__(self):\n",
    "        return '{} by {}, {}'.format(self.title, self.author, self.year)"
   ]
  },
  {
   "cell_type": "markdown",
   "metadata": {
    "id": "EJknZNzjpnLi"
   },
   "source": [
    "A Child Class: Article"
   ]
  },
  {
   "cell_type": "code",
   "execution_count": 111,
   "metadata": {
    "id": "dTu7o2tCpnLi"
   },
   "outputs": [],
   "source": [
    "class Article(Publication):\n",
    "    def __init__(self, title, author, year, publisher, number_of_pages, number_of_citations): #we can add additional attributes\n",
    "        Publication.__init__(self, title, author, year, publisher, number_of_pages)\n",
    "        self.number_of_citations = number_of_citations #that's how we create additional constructor. \n",
    "    \n",
    "    #we can create additional methods in Article class\n",
    "    def define_this_more(self):\n",
    "        print('This is a scientific publication.')"
   ]
  },
  {
   "cell_type": "code",
   "execution_count": 112,
   "metadata": {
    "id": "FucnNikWpnLj"
   },
   "outputs": [],
   "source": [
    "my_article = Article('Random Forests', 'Leo Breiman', '2001',  'Springer', '28', '34144')"
   ]
  },
  {
   "cell_type": "code",
   "execution_count": 113,
   "metadata": {
    "id": "t3s81zOqpnLk",
    "outputId": "5b0a0066-b453-4769-f720-27c6b5d3545d"
   },
   "outputs": [
    {
     "name": "stdout",
     "output_type": "stream",
     "text": [
      "Random Forests by Leo Breiman, 2001\n"
     ]
    }
   ],
   "source": [
    "print(my_article) #This method is inherited from parent class. "
   ]
  },
  {
   "cell_type": "code",
   "execution_count": 114,
   "metadata": {
    "id": "Ky4qYRPHpnLk",
    "outputId": "d7ea2e82-6f42-4357-f543-f6306f752926",
    "scrolled": false
   },
   "outputs": [
    {
     "name": "stdout",
     "output_type": "stream",
     "text": [
      "This is a Publication class.\n"
     ]
    }
   ],
   "source": [
    "my_article.what_class_is_this() #this method is inherited from parent class"
   ]
  },
  {
   "cell_type": "code",
   "execution_count": 115,
   "metadata": {
    "id": "IzD5f7LipnLl",
    "outputId": "13987309-1c43-40d3-de11-174d9fbe6c6b"
   },
   "outputs": [
    {
     "name": "stdout",
     "output_type": "stream",
     "text": [
      "This is a scientific publication.\n"
     ]
    }
   ],
   "source": [
    "my_article.define_this_more()"
   ]
  },
  {
   "cell_type": "code",
   "execution_count": 116,
   "metadata": {
    "id": "FucnNikWpnLj"
   },
   "outputs": [],
   "source": [
    "my_pulication = Publication('Random Forests', 'Leo Breiman', '2001',  'Springer', '28')"
   ]
  },
  {
   "cell_type": "code",
   "execution_count": 117,
   "metadata": {
    "id": "t3s81zOqpnLk",
    "outputId": "5b0a0066-b453-4769-f720-27c6b5d3545d"
   },
   "outputs": [
    {
     "name": "stdout",
     "output_type": "stream",
     "text": [
      "Random Forests by Leo Breiman, 2001\n"
     ]
    }
   ],
   "source": [
    "print(my_pulication) #This method is inherited from parent class. "
   ]
  },
  {
   "cell_type": "code",
   "execution_count": 118,
   "metadata": {
    "id": "Ky4qYRPHpnLk",
    "outputId": "d7ea2e82-6f42-4357-f543-f6306f752926",
    "scrolled": false
   },
   "outputs": [
    {
     "name": "stdout",
     "output_type": "stream",
     "text": [
      "This is a Publication class.\n"
     ]
    }
   ],
   "source": [
    "my_pulication.what_class_is_this() #this method is inherited from parent class"
   ]
  },
  {
   "cell_type": "code",
   "execution_count": 119,
   "metadata": {
    "id": "IzD5f7LipnLl",
    "outputId": "13987309-1c43-40d3-de11-174d9fbe6c6b"
   },
   "outputs": [
    {
     "ename": "AttributeError",
     "evalue": "'Publication' object has no attribute 'define_this_more'",
     "output_type": "error",
     "traceback": [
      "\u001b[1;31m---------------------------------------------------------------------------\u001b[0m",
      "\u001b[1;31mAttributeError\u001b[0m                            Traceback (most recent call last)",
      "Cell \u001b[1;32mIn[119], line 1\u001b[0m\n\u001b[1;32m----> 1\u001b[0m \u001b[43mmy_pulication\u001b[49m\u001b[38;5;241;43m.\u001b[39;49m\u001b[43mdefine_this_more\u001b[49m()\n",
      "\u001b[1;31mAttributeError\u001b[0m: 'Publication' object has no attribute 'define_this_more'"
     ]
    }
   ],
   "source": [
    "my_pulication.define_this_more()"
   ]
  },
  {
   "cell_type": "code",
   "execution_count": null,
   "metadata": {
    "id": "FL4Fe0repnLm"
   },
   "outputs": [],
   "source": []
  },
  {
   "cell_type": "markdown",
   "metadata": {
    "id": "CdTN14uppnLm"
   },
   "source": [
    "Another Child Class: Book"
   ]
  },
  {
   "cell_type": "code",
   "execution_count": 120,
   "metadata": {
    "id": "TBzLvjuKpnLn"
   },
   "outputs": [],
   "source": [
    "class Book(Publication):\n",
    "    def __init__(self, title, author, year, publisher, number_of_pages, chapters): #we can add additional attributes\n",
    "        Publication.__init__(self, title, author, year, publisher, number_of_pages)\n",
    "        self.chapters = chapters #that's how we create additional constructor. \n",
    "    \n",
    "    #this is an override method in Book class.\n",
    "    def __str__(self):\n",
    "        return '{} by {}, {}. This book has {} chapters.'.format(self.title, self.author, self.year, self.chapters)"
   ]
  },
  {
   "cell_type": "code",
   "execution_count": 121,
   "metadata": {
    "id": "eEcgP2szpnLn"
   },
   "outputs": [],
   "source": [
    "book3 = Book('Transit', 'Anna Seghers', '1951', 'NYRB', '257', '10')"
   ]
  },
  {
   "cell_type": "code",
   "execution_count": 122,
   "metadata": {
    "id": "PM22-qdFpnLo",
    "outputId": "df2b3e51-c011-4cff-a1b7-61ded98e5b54",
    "scrolled": false
   },
   "outputs": [
    {
     "name": "stdout",
     "output_type": "stream",
     "text": [
      "Transit by Anna Seghers, 1951. This book has 10 chapters.\n"
     ]
    }
   ],
   "source": [
    "print(book3)"
   ]
  },
  {
   "cell_type": "code",
   "execution_count": 123,
   "metadata": {
    "id": "vZRHWKfhpnLo",
    "outputId": "51d42079-ab2e-4111-9045-caa6196efc3c",
    "scrolled": false
   },
   "outputs": [],
   "source": [
    "class Book(Article):\n",
    "    def __init__(self, title, author, year, publisher, number_of_pages, chapters, number_of_citations=0): #we can add additional attributes\n",
    "        Article.__init__(self, title, author, year, publisher, number_of_pages, number_of_citations)\n",
    "        self.chapters = chapters #that's how we create additional constructor. \n",
    "    \n",
    "    #this is an override method in Book class.\n",
    "    def __str__(self):\n",
    "        return '{} by {}, {}. This book has {} chapters.'.format(self.title, self.author, self.year, self.chapters)"
   ]
  },
  {
   "cell_type": "code",
   "execution_count": 124,
   "metadata": {
    "id": "Z0W3ZLm5pnLp"
   },
   "outputs": [],
   "source": [
    "book3 = Book('Transit', 'Anna Seghers', '1951', 'NYRB', '257', '10')"
   ]
  },
  {
   "cell_type": "code",
   "execution_count": 125,
   "metadata": {
    "id": "m3QzoejcpnLq",
    "outputId": "abedcd04-8080-4048-f4a7-7639c5f61df2",
    "scrolled": true
   },
   "outputs": [
    {
     "name": "stdout",
     "output_type": "stream",
     "text": [
      "Transit by Anna Seghers, 1951. This book has 10 chapters.\n"
     ]
    }
   ],
   "source": [
    "print(book3)"
   ]
  },
  {
   "cell_type": "code",
   "execution_count": 126,
   "metadata": {},
   "outputs": [
    {
     "name": "stdout",
     "output_type": "stream",
     "text": [
      "This is a scientific publication.\n"
     ]
    }
   ],
   "source": [
    "book3.define_this_more()"
   ]
  },
  {
   "cell_type": "code",
   "execution_count": 127,
   "metadata": {},
   "outputs": [
    {
     "name": "stdout",
     "output_type": "stream",
     "text": [
      "This is a Publication class.\n"
     ]
    }
   ],
   "source": [
    "book3.what_class_is_this()"
   ]
  },
  {
   "cell_type": "markdown",
   "metadata": {
    "id": "TwmdD8ChpnLq"
   },
   "source": [
    "## Public and  Non-public Methods"
   ]
  },
  {
   "cell_type": "markdown",
   "metadata": {
    "id": "LCmRVnwepnLr"
   },
   "source": [
    "A simple example."
   ]
  },
  {
   "cell_type": "code",
   "execution_count": 128,
   "metadata": {
    "id": "_2Z88MYlpnLs"
   },
   "outputs": [],
   "source": [
    "class My_class:  \n",
    "    \n",
    "    def function_1(self):\n",
    "        print(\"This is public method\") \n",
    "   \n",
    "    def __function_2(self): #define it with doublescore\n",
    "        print(\"This is a private method \") \n",
    "      \n",
    "    def function_1_2(self): \n",
    "        self.function_1() \n",
    "        self.__function_2() \n"
   ]
  },
  {
   "cell_type": "code",
   "execution_count": 129,
   "metadata": {
    "id": "qzlKgrb_pnLs"
   },
   "outputs": [],
   "source": [
    "my_object = My_class()"
   ]
  },
  {
   "cell_type": "code",
   "execution_count": 130,
   "metadata": {
    "colab": {
     "base_uri": "https://localhost:8080/"
    },
    "id": "RrjK3LQEpnLt",
    "outputId": "42615705-a39d-4433-abb4-fd2be6f34f26"
   },
   "outputs": [
    {
     "name": "stdout",
     "output_type": "stream",
     "text": [
      "This is public method\n"
     ]
    }
   ],
   "source": [
    "my_object.function_1() #this is a public method. so we can call it outside of the class"
   ]
  },
  {
   "cell_type": "code",
   "execution_count": 131,
   "metadata": {
    "colab": {
     "base_uri": "https://localhost:8080/",
     "height": 165
    },
    "id": "3d1o4x1ipnLt",
    "outputId": "7fa0b5d5-1d1e-4082-eea1-975a95c237ab",
    "scrolled": false
   },
   "outputs": [
    {
     "ename": "AttributeError",
     "evalue": "'My_class' object has no attribute '__function_2'",
     "output_type": "error",
     "traceback": [
      "\u001b[1;31m---------------------------------------------------------------------------\u001b[0m",
      "\u001b[1;31mAttributeError\u001b[0m                            Traceback (most recent call last)",
      "Cell \u001b[1;32mIn[131], line 1\u001b[0m\n\u001b[1;32m----> 1\u001b[0m \u001b[43mmy_object\u001b[49m\u001b[38;5;241;43m.\u001b[39;49m\u001b[43m__function_2\u001b[49m()\n",
      "\u001b[1;31mAttributeError\u001b[0m: 'My_class' object has no attribute '__function_2'"
     ]
    }
   ],
   "source": [
    "my_object.__function_2() #throws an error, because it is not callable outside of the class."
   ]
  },
  {
   "cell_type": "code",
   "execution_count": 132,
   "metadata": {
    "colab": {
     "base_uri": "https://localhost:8080/"
    },
    "id": "RD24lkgLpnLu",
    "outputId": "1bbb9e2a-9812-4079-e924-92912e330d76"
   },
   "outputs": [
    {
     "name": "stdout",
     "output_type": "stream",
     "text": [
      "This is public method\n",
      "This is a private method \n"
     ]
    }
   ],
   "source": [
    "my_object.function_1_2() #__function_2 can be reachable from class itself only"
   ]
  },
  {
   "cell_type": "markdown",
   "metadata": {
    "id": "LAGyn11upnLu"
   },
   "source": [
    "Non-public methods cannot be reached out from inheriting classes, either."
   ]
  },
  {
   "cell_type": "code",
   "execution_count": 133,
   "metadata": {
    "id": "c9WyeB80pnLv"
   },
   "outputs": [],
   "source": [
    "class My_child_class(My_class):\n",
    "    def function_1_2_3(self):\n",
    "        self.__function_2() "
   ]
  },
  {
   "cell_type": "code",
   "execution_count": 134,
   "metadata": {
    "id": "GZ2R4hyzpnLv"
   },
   "outputs": [],
   "source": [
    "my_new_object = My_child_class()"
   ]
  },
  {
   "cell_type": "code",
   "execution_count": 135,
   "metadata": {
    "colab": {
     "base_uri": "https://localhost:8080/"
    },
    "id": "D8DL63XupnLw",
    "outputId": "5e2bcced-924a-4b26-e8d0-dc78022614f1"
   },
   "outputs": [
    {
     "name": "stdout",
     "output_type": "stream",
     "text": [
      "This is public method\n",
      "This is a private method \n"
     ]
    }
   ],
   "source": [
    "my_new_object.function_1_2() #we can have access those non-public methods from parents class"
   ]
  },
  {
   "cell_type": "code",
   "execution_count": 136,
   "metadata": {
    "colab": {
     "base_uri": "https://localhost:8080/",
     "height": 252
    },
    "id": "J6QtOAlFpnLx",
    "outputId": "1f00bfd7-002e-4028-a364-d2efd44ccbbc",
    "scrolled": true
   },
   "outputs": [
    {
     "ename": "AttributeError",
     "evalue": "'My_child_class' object has no attribute '_My_child_class__function_2'",
     "output_type": "error",
     "traceback": [
      "\u001b[1;31m---------------------------------------------------------------------------\u001b[0m",
      "\u001b[1;31mAttributeError\u001b[0m                            Traceback (most recent call last)",
      "Cell \u001b[1;32mIn[136], line 1\u001b[0m\n\u001b[1;32m----> 1\u001b[0m \u001b[43mmy_new_object\u001b[49m\u001b[38;5;241;43m.\u001b[39;49m\u001b[43mfunction_1_2_3\u001b[49m\u001b[43m(\u001b[49m\u001b[43m)\u001b[49m\n",
      "Cell \u001b[1;32mIn[133], line 3\u001b[0m, in \u001b[0;36mMy_child_class.function_1_2_3\u001b[1;34m(self)\u001b[0m\n\u001b[0;32m      2\u001b[0m \u001b[38;5;28;01mdef\u001b[39;00m \u001b[38;5;21mfunction_1_2_3\u001b[39m(\u001b[38;5;28mself\u001b[39m):\n\u001b[1;32m----> 3\u001b[0m     \u001b[38;5;28;43mself\u001b[39;49m\u001b[38;5;241;43m.\u001b[39;49m\u001b[43m__function_2\u001b[49m()\n",
      "\u001b[1;31mAttributeError\u001b[0m: 'My_child_class' object has no attribute '_My_child_class__function_2'"
     ]
    }
   ],
   "source": [
    "my_new_object.function_1_2_3() #trying to have access a non-public function defined inside private class from child class."
   ]
  },
  {
   "cell_type": "code",
   "execution_count": null,
   "metadata": {},
   "outputs": [],
   "source": []
  }
 ],
 "metadata": {
  "colab": {
   "name": "programming (4) - part (1).ipynb",
   "provenance": []
  },
  "kernelspec": {
   "display_name": "Python 3 (ipykernel)",
   "language": "python",
   "name": "python3"
  },
  "language_info": {
   "codemirror_mode": {
    "name": "ipython",
    "version": 3
   },
   "file_extension": ".py",
   "mimetype": "text/x-python",
   "name": "python",
   "nbconvert_exporter": "python",
   "pygments_lexer": "ipython3",
   "version": "3.10.9"
  }
 },
 "nbformat": 4,
 "nbformat_minor": 1
}
