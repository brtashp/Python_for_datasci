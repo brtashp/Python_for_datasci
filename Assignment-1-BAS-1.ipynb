{
 "cells": [
  {
   "cell_type": "markdown",
   "metadata": {},
   "source": [
    "<center> <h1>Assignment 1</h1> </center>"
   ]
  },
  {
   "cell_type": "markdown",
   "metadata": {},
   "source": [
    "The following code loads the nba dataset (nba.csv) from an online repository into a dataframe named \"nba\".\n",
    "\n",
    "The columns are organized as \"Name\",\t\"Team\",\t\"Number\",\t\"Position\",\t\"Age\",\t\"Height\",\t\"Weight\",\t\"College\",\t\"Salary\". Use this dataset to answer the questions below. You can create as many cells as you desire for all solutions.\n"
   ]
  },
  {
   "cell_type": "code",
   "execution_count": 219,
   "metadata": {
    "scrolled": true
   },
   "outputs": [
    {
     "data": {
      "text/html": [
       "<div>\n",
       "<style scoped>\n",
       "    .dataframe tbody tr th:only-of-type {\n",
       "        vertical-align: middle;\n",
       "    }\n",
       "\n",
       "    .dataframe tbody tr th {\n",
       "        vertical-align: top;\n",
       "    }\n",
       "\n",
       "    .dataframe thead th {\n",
       "        text-align: right;\n",
       "    }\n",
       "</style>\n",
       "<table border=\"1\" class=\"dataframe\">\n",
       "  <thead>\n",
       "    <tr style=\"text-align: right;\">\n",
       "      <th></th>\n",
       "      <th>Name</th>\n",
       "      <th>Team</th>\n",
       "      <th>Number</th>\n",
       "      <th>Position</th>\n",
       "      <th>Age</th>\n",
       "      <th>Height</th>\n",
       "      <th>Weight</th>\n",
       "      <th>College</th>\n",
       "      <th>Salary</th>\n",
       "    </tr>\n",
       "  </thead>\n",
       "  <tbody>\n",
       "    <tr>\n",
       "      <th>0</th>\n",
       "      <td>Avery Bradley</td>\n",
       "      <td>Boston Celtics</td>\n",
       "      <td>0.0</td>\n",
       "      <td>PG</td>\n",
       "      <td>25.0</td>\n",
       "      <td>6-2</td>\n",
       "      <td>180.0</td>\n",
       "      <td>Texas</td>\n",
       "      <td>7730337.0</td>\n",
       "    </tr>\n",
       "    <tr>\n",
       "      <th>1</th>\n",
       "      <td>Jae Crowder</td>\n",
       "      <td>Boston Celtics</td>\n",
       "      <td>99.0</td>\n",
       "      <td>SF</td>\n",
       "      <td>25.0</td>\n",
       "      <td>6-6</td>\n",
       "      <td>235.0</td>\n",
       "      <td>Marquette</td>\n",
       "      <td>6796117.0</td>\n",
       "    </tr>\n",
       "    <tr>\n",
       "      <th>2</th>\n",
       "      <td>John Holland</td>\n",
       "      <td>Boston Celtics</td>\n",
       "      <td>30.0</td>\n",
       "      <td>SG</td>\n",
       "      <td>27.0</td>\n",
       "      <td>6-5</td>\n",
       "      <td>205.0</td>\n",
       "      <td>Boston University</td>\n",
       "      <td>NaN</td>\n",
       "    </tr>\n",
       "    <tr>\n",
       "      <th>3</th>\n",
       "      <td>R.J. Hunter</td>\n",
       "      <td>Boston Celtics</td>\n",
       "      <td>28.0</td>\n",
       "      <td>SG</td>\n",
       "      <td>22.0</td>\n",
       "      <td>6-5</td>\n",
       "      <td>185.0</td>\n",
       "      <td>Georgia State</td>\n",
       "      <td>1148640.0</td>\n",
       "    </tr>\n",
       "    <tr>\n",
       "      <th>4</th>\n",
       "      <td>Jonas Jerebko</td>\n",
       "      <td>Boston Celtics</td>\n",
       "      <td>8.0</td>\n",
       "      <td>PF</td>\n",
       "      <td>29.0</td>\n",
       "      <td>6-10</td>\n",
       "      <td>231.0</td>\n",
       "      <td>NaN</td>\n",
       "      <td>5000000.0</td>\n",
       "    </tr>\n",
       "  </tbody>\n",
       "</table>\n",
       "</div>"
      ],
      "text/plain": [
       "            Name            Team  Number Position   Age Height  Weight  \\\n",
       "0  Avery Bradley  Boston Celtics     0.0       PG  25.0    6-2   180.0   \n",
       "1    Jae Crowder  Boston Celtics    99.0       SF  25.0    6-6   235.0   \n",
       "2   John Holland  Boston Celtics    30.0       SG  27.0    6-5   205.0   \n",
       "3    R.J. Hunter  Boston Celtics    28.0       SG  22.0    6-5   185.0   \n",
       "4  Jonas Jerebko  Boston Celtics     8.0       PF  29.0   6-10   231.0   \n",
       "\n",
       "             College     Salary  \n",
       "0              Texas  7730337.0  \n",
       "1          Marquette  6796117.0  \n",
       "2  Boston University        NaN  \n",
       "3      Georgia State  1148640.0  \n",
       "4                NaN  5000000.0  "
      ]
     },
     "execution_count": 219,
     "metadata": {},
     "output_type": "execute_result"
    }
   ],
   "source": [
    "import pandas as pd\n",
    "nba = pd.read_csv(\"https://media.geeksforgeeks.org/wp-content/uploads/nba.csv\") \n",
    "nba.head()"
   ]
  },
  {
   "cell_type": "markdown",
   "metadata": {},
   "source": [
    "### Question 1 (2 point): \n",
    "Create a new dataframe named \"nba_new\" by adding a new column named \"College Degree\" right before the column \"College\". Fill the rows of this column with \"True\" if there is a college name entry under the column \"College\" for the associated row. Make sure the new column named \"College Degree\" is located right before the column \"College\".<br/>"
   ]
  },
  {
   "cell_type": "markdown",
   "metadata": {},
   "source": [
    "### Solution 1:"
   ]
  },
  {
   "cell_type": "code",
   "execution_count": 220,
   "metadata": {
    "scrolled": true
   },
   "outputs": [],
   "source": [
    "#Work on your solution here and after. \n",
    "nba_new = nba.copy()\n",
    "#college_degree = \n",
    "#nba_new.insert(7, 'College Degree', '') too complicated to do?\n",
    "college_degree = nba_new['College'].notna() \n",
    "nba_new.insert(7, 'College Degree', college_degree)\n",
    "#nba_new['College Degree'] = nba_new['College'].notna() \n",
    "#code above creates the column with the correct values now need to reorder?\n",
    "\n",
    "#full explanation: \n",
    "#need to create a list/column of values that reflect T/F if the nba player has \n",
    "#a degree (creation of variable college_degree)\n",
    "#.notna creates a series of boolean data types\n",
    "#then need to insert the column in the right location using .insert()"
   ]
  },
  {
   "cell_type": "markdown",
   "metadata": {},
   "source": [
    "### Question 2 (1 point):\n",
    "Report the first 5 rows of nba_new dataframe.<br/>"
   ]
  },
  {
   "cell_type": "markdown",
   "metadata": {},
   "source": [
    "### Solution 2:"
   ]
  },
  {
   "cell_type": "code",
   "execution_count": 221,
   "metadata": {},
   "outputs": [
    {
     "data": {
      "text/html": [
       "<div>\n",
       "<style scoped>\n",
       "    .dataframe tbody tr th:only-of-type {\n",
       "        vertical-align: middle;\n",
       "    }\n",
       "\n",
       "    .dataframe tbody tr th {\n",
       "        vertical-align: top;\n",
       "    }\n",
       "\n",
       "    .dataframe thead th {\n",
       "        text-align: right;\n",
       "    }\n",
       "</style>\n",
       "<table border=\"1\" class=\"dataframe\">\n",
       "  <thead>\n",
       "    <tr style=\"text-align: right;\">\n",
       "      <th></th>\n",
       "      <th>Name</th>\n",
       "      <th>Team</th>\n",
       "      <th>Number</th>\n",
       "      <th>Position</th>\n",
       "      <th>Age</th>\n",
       "      <th>Height</th>\n",
       "      <th>Weight</th>\n",
       "      <th>College Degree</th>\n",
       "      <th>College</th>\n",
       "      <th>Salary</th>\n",
       "    </tr>\n",
       "  </thead>\n",
       "  <tbody>\n",
       "    <tr>\n",
       "      <th>0</th>\n",
       "      <td>Avery Bradley</td>\n",
       "      <td>Boston Celtics</td>\n",
       "      <td>0.0</td>\n",
       "      <td>PG</td>\n",
       "      <td>25.0</td>\n",
       "      <td>6-2</td>\n",
       "      <td>180.0</td>\n",
       "      <td>True</td>\n",
       "      <td>Texas</td>\n",
       "      <td>7730337.0</td>\n",
       "    </tr>\n",
       "    <tr>\n",
       "      <th>1</th>\n",
       "      <td>Jae Crowder</td>\n",
       "      <td>Boston Celtics</td>\n",
       "      <td>99.0</td>\n",
       "      <td>SF</td>\n",
       "      <td>25.0</td>\n",
       "      <td>6-6</td>\n",
       "      <td>235.0</td>\n",
       "      <td>True</td>\n",
       "      <td>Marquette</td>\n",
       "      <td>6796117.0</td>\n",
       "    </tr>\n",
       "    <tr>\n",
       "      <th>2</th>\n",
       "      <td>John Holland</td>\n",
       "      <td>Boston Celtics</td>\n",
       "      <td>30.0</td>\n",
       "      <td>SG</td>\n",
       "      <td>27.0</td>\n",
       "      <td>6-5</td>\n",
       "      <td>205.0</td>\n",
       "      <td>True</td>\n",
       "      <td>Boston University</td>\n",
       "      <td>NaN</td>\n",
       "    </tr>\n",
       "    <tr>\n",
       "      <th>3</th>\n",
       "      <td>R.J. Hunter</td>\n",
       "      <td>Boston Celtics</td>\n",
       "      <td>28.0</td>\n",
       "      <td>SG</td>\n",
       "      <td>22.0</td>\n",
       "      <td>6-5</td>\n",
       "      <td>185.0</td>\n",
       "      <td>True</td>\n",
       "      <td>Georgia State</td>\n",
       "      <td>1148640.0</td>\n",
       "    </tr>\n",
       "    <tr>\n",
       "      <th>4</th>\n",
       "      <td>Jonas Jerebko</td>\n",
       "      <td>Boston Celtics</td>\n",
       "      <td>8.0</td>\n",
       "      <td>PF</td>\n",
       "      <td>29.0</td>\n",
       "      <td>6-10</td>\n",
       "      <td>231.0</td>\n",
       "      <td>False</td>\n",
       "      <td>NaN</td>\n",
       "      <td>5000000.0</td>\n",
       "    </tr>\n",
       "  </tbody>\n",
       "</table>\n",
       "</div>"
      ],
      "text/plain": [
       "            Name            Team  Number Position   Age Height  Weight  \\\n",
       "0  Avery Bradley  Boston Celtics     0.0       PG  25.0    6-2   180.0   \n",
       "1    Jae Crowder  Boston Celtics    99.0       SF  25.0    6-6   235.0   \n",
       "2   John Holland  Boston Celtics    30.0       SG  27.0    6-5   205.0   \n",
       "3    R.J. Hunter  Boston Celtics    28.0       SG  22.0    6-5   185.0   \n",
       "4  Jonas Jerebko  Boston Celtics     8.0       PF  29.0   6-10   231.0   \n",
       "\n",
       "   College Degree            College     Salary  \n",
       "0            True              Texas  7730337.0  \n",
       "1            True          Marquette  6796117.0  \n",
       "2            True  Boston University        NaN  \n",
       "3            True      Georgia State  1148640.0  \n",
       "4           False                NaN  5000000.0  "
      ]
     },
     "execution_count": 221,
     "metadata": {},
     "output_type": "execute_result"
    }
   ],
   "source": [
    "#Work on your solution here and after. \n",
    "nba_new.head()\n",
    "#reports the top values"
   ]
  },
  {
   "cell_type": "markdown",
   "metadata": {},
   "source": [
    "### Question 3 (1 point):\n",
    "Make sure the new column is of data type boolean and report it is actually boolean.<br/>\n"
   ]
  },
  {
   "cell_type": "markdown",
   "metadata": {},
   "source": [
    "### Solution 3:"
   ]
  },
  {
   "cell_type": "code",
   "execution_count": 222,
   "metadata": {},
   "outputs": [
    {
     "name": "stdout",
     "output_type": "stream",
     "text": [
      "bool\n"
     ]
    }
   ],
   "source": [
    "#Work on your solution here and after.\n",
    "#print(college_degree.dtype) #one way to show boolean values\n",
    "print(nba_new['College Degree'].dtype) #other way to show values are boolean"
   ]
  },
  {
   "cell_type": "markdown",
   "metadata": {},
   "source": [
    "### Question 4 (1 point):\n",
    "Create a list that holds the names of the players who do not have any college degree (or no university name entry given under \"College\" column in the data set). Report only the number of those players.<br/>"
   ]
  },
  {
   "cell_type": "markdown",
   "metadata": {},
   "source": [
    "### Solution 4:"
   ]
  },
  {
   "cell_type": "code",
   "execution_count": 223,
   "metadata": {},
   "outputs": [
    {
     "name": "stdout",
     "output_type": "stream",
     "text": [
      "Number of players: 85\n"
     ]
    }
   ],
   "source": [
    "#Work on your solution here and after. \n",
    "no_college_degreelt = nba[nba['College'].isna()]\n",
    "#goes through column in 'Column' and looks for boolean values\n",
    "player_names = no_college_degreelt['Name'].tolist() #creates list\n",
    "count = len(player_names)\n",
    "#gives the length of the variable player_names and stores that value as count\n",
    "print(\"Number of players:\", count)"
   ]
  },
  {
   "cell_type": "markdown",
   "metadata": {},
   "source": [
    "### Question 5 (2 point):\n",
    "Create two dataframes named \"no_college_degree\" and \"with_college_degree\". no_college_degree dataframe should include two columns one for names and one for salaries of those players who do not hold a college degree. Likewise, with_college_degree dataframe should include two columns one for names and one for salaries of those players who hold a college degree. Report the first 5 rows of each dataframe.<br/>"
   ]
  },
  {
   "cell_type": "markdown",
   "metadata": {},
   "source": [
    "### Solution 5:"
   ]
  },
  {
   "cell_type": "code",
   "execution_count": 224,
   "metadata": {},
   "outputs": [
    {
     "name": "stdout",
     "output_type": "stream",
     "text": [
      "              Name     Salary\n",
      "0    Avery Bradley  7730337.0\n",
      "1      Jae Crowder  6796117.0\n",
      "2     John Holland        NaN\n",
      "3      R.J. Hunter  1148640.0\n",
      "6    Jordan Mickey  1170960.0\n",
      "..             ...        ...\n",
      "449    Rodney Hood  1348440.0\n",
      "451  Chris Johnson   981348.0\n",
      "452     Trey Lyles  2239800.0\n",
      "453   Shelvin Mack  2433333.0\n",
      "456    Jeff Withey   947276.0\n",
      "\n",
      "[373 rows x 2 columns]\n",
      "                       Name      Salary\n",
      "4             Jonas Jerebko   5000000.0\n",
      "5              Amir Johnson  12000000.0\n",
      "15         Bojan Bogdanovic   3425510.0\n",
      "20           Sergey Karasev   1599840.0\n",
      "32   Thanasis Antetokounmpo     30888.0\n",
      "..                      ...         ...\n",
      "447             Rudy Gobert   1175880.0\n",
      "450              Joe Ingles   2050000.0\n",
      "454               Raul Neto    900000.0\n",
      "455            Tibor Pleiss   2900000.0\n",
      "457                     NaN         NaN\n",
      "\n",
      "[85 rows x 2 columns]\n"
     ]
    }
   ],
   "source": [
    "#Work on your solution here and after.  \n",
    "#no_college_degree2 = no_college_degreelt.drop(['Team', \n",
    "                   # 'Number', 'Position', 'Age', \n",
    "                   #'Height', 'Weight', 'College'], axis = 1) \n",
    "#Above is the long method by using the .drop() function in pandas\n",
    "#print(type(no_college_degreelt))\n",
    "#print(no_college_degree2)\n",
    "\n",
    "with_college_degreelt = nba[nba['College'].notna()]\n",
    "with_college_degree = with_college_degreelt[['Name', 'Salary']]\n",
    "no_college_degree = no_college_degreelt[['Name', 'Salary']]\n",
    "print(with_college_degree)\n",
    "print(no_college_degree)\n",
    "\n",
    "#Shorter method by assigning select columns 'Name' and 'Salary' "
   ]
  },
  {
   "cell_type": "markdown",
   "metadata": {},
   "source": [
    "### Question 6 (1 point):\n",
    "Report the average salary of players with college and no college degrees.<br/>\n"
   ]
  },
  {
   "cell_type": "markdown",
   "metadata": {},
   "source": [
    "### Solution 6:"
   ]
  },
  {
   "cell_type": "code",
   "execution_count": 225,
   "metadata": {},
   "outputs": [
    {
     "name": "stdout",
     "output_type": "stream",
     "text": [
      "Average Salary with a college degree: 4620311.071\n",
      "Average Salary with no college degree: 5829803.427\n"
     ]
    }
   ],
   "source": [
    "#Work on your solution here and after.\n",
    "average_salary_withdegree = with_college_degree['Salary'].mean().round(3)\n",
    "print(\"Average Salary with a college degree:\", average_salary_withdegree)\n",
    "average_salary_nodegree = no_college_degree['Salary'].mean().round(3)\n",
    "print(\"Average Salary with no college degree:\", average_salary_nodegree)"
   ]
  },
  {
   "cell_type": "markdown",
   "metadata": {},
   "source": [
    "### Question 7 (1 point):\n",
    "Add a new column named \"Young\" to the existing dataframe. This column should indicate a bool type value of True if the associated player age is less than 30. Otherwise, its value should be False.<br/>"
   ]
  },
  {
   "cell_type": "markdown",
   "metadata": {},
   "source": [
    "### Solution 7:"
   ]
  },
  {
   "cell_type": "code",
   "execution_count": 226,
   "metadata": {},
   "outputs": [
    {
     "name": "stdout",
     "output_type": "stream",
     "text": [
      "              Name            Team  Number Position   Age Height  Weight  \\\n",
      "0    Avery Bradley  Boston Celtics     0.0       PG  25.0    6-2   180.0   \n",
      "1      Jae Crowder  Boston Celtics    99.0       SF  25.0    6-6   235.0   \n",
      "2     John Holland  Boston Celtics    30.0       SG  27.0    6-5   205.0   \n",
      "3      R.J. Hunter  Boston Celtics    28.0       SG  22.0    6-5   185.0   \n",
      "4    Jonas Jerebko  Boston Celtics     8.0       PF  29.0   6-10   231.0   \n",
      "..             ...             ...     ...      ...   ...    ...     ...   \n",
      "453   Shelvin Mack       Utah Jazz     8.0       PG  26.0    6-3   203.0   \n",
      "454      Raul Neto       Utah Jazz    25.0       PG  24.0    6-1   179.0   \n",
      "455   Tibor Pleiss       Utah Jazz    21.0        C  26.0    7-3   256.0   \n",
      "456    Jeff Withey       Utah Jazz    24.0        C  26.0    7-0   231.0   \n",
      "457            NaN             NaN     NaN      NaN   NaN    NaN     NaN   \n",
      "\n",
      "     College Degree            College     Salary  Young  \n",
      "0              True              Texas  7730337.0   True  \n",
      "1              True          Marquette  6796117.0   True  \n",
      "2              True  Boston University        NaN   True  \n",
      "3              True      Georgia State  1148640.0   True  \n",
      "4             False                NaN  5000000.0   True  \n",
      "..              ...                ...        ...    ...  \n",
      "453            True             Butler  2433333.0   True  \n",
      "454           False                NaN   900000.0   True  \n",
      "455           False                NaN  2900000.0   True  \n",
      "456            True             Kansas   947276.0   True  \n",
      "457           False                NaN        NaN  False  \n",
      "\n",
      "[458 rows x 11 columns]\n"
     ]
    }
   ],
   "source": [
    "#Work on your solution here and after. \n",
    "\n",
    "#no_college_degree['Young'] = nba_new['Age'] < 30\n",
    "#above answer works, but gives an error, trying .loc\n",
    "#no_college_degree.loc[:, 'Young'] = nba_new['Age'] < 30\n",
    "#above answer still gives a warning? \n",
    "#no_college_degree = no_college_degree.copy()\n",
    "#no_college_degree.loc[:, 'Young'] = nba_new['Age'] < 30\n",
    "#need a separate dataframe, can use the .loc function and define \n",
    "#print(no_college_degree)\n",
    "nba_new['Young'] = nba_new['Age'] < 30 \n",
    "print(nba_new)\n",
    "\n",
    "#this code works by creating a column named 'Young' that gives a boolean\n",
    "#value of true is the value is under 30 and false if over 30 "
   ]
  },
  {
   "cell_type": "markdown",
   "metadata": {},
   "source": [
    "### Question 8 (1 point):\n",
    "By using the dataframe with the new column \"Young\", report the average salaries of players who are labeled as 'True' under Young column. Also, report the average salaries of players who are labeled as 'False' under Young column.<br/>"
   ]
  },
  {
   "cell_type": "markdown",
   "metadata": {},
   "source": [
    "### Solution 8:"
   ]
  },
  {
   "cell_type": "code",
   "execution_count": 227,
   "metadata": {},
   "outputs": [
    {
     "name": "stdout",
     "output_type": "stream",
     "text": [
      "Average Salary for Under 30: 4325732.174311927\n",
      "Average Salary for Over 30: 6263215.882352941\n"
     ]
    }
   ],
   "source": [
    "#Work on your solution here and after. \n",
    "average_salary_young = nba_new.loc[nba_new['Young'], 'Salary'].mean()\n",
    "average_salary_old = nba_new.loc[~nba_new['Young'], 'Salary'].mean()\n",
    "#average_salary_young = no_college_degree.loc[no_college_degree['Young'], 'Salary'].mean()\n",
    "#average_salary_old = no_college_degree.loc[~no_college_degree['Young'], 'Salary'].mean()\n",
    "print(\"Average Salary for Under 30:\", average_salary_young)\n",
    "print(\"Average Salary for Over 30:\", average_salary_old)\n",
    "\n",
    "#this code works by creating a variable for both young and old salaries and uses \n",
    "#the .loc function by going through the 'Young' column and then if the value is \n",
    "#true it takes the value from Salary and adds it to the variable to then take \n",
    "#the average at the end using the .mean() function. The 'old' variable works \n",
    "#similarly but uses a '~' function to locate the False boolean values"
   ]
  }
 ],
 "metadata": {
  "kernelspec": {
   "display_name": "Python 3 (ipykernel)",
   "language": "python",
   "name": "python3"
  },
  "language_info": {
   "codemirror_mode": {
    "name": "ipython",
    "version": 3
   },
   "file_extension": ".py",
   "mimetype": "text/x-python",
   "name": "python",
   "nbconvert_exporter": "python",
   "pygments_lexer": "ipython3",
   "version": "3.10.9"
  }
 },
 "nbformat": 4,
 "nbformat_minor": 4
}
