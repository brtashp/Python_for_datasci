{
 "cells": [
  {
   "cell_type": "markdown",
   "metadata": {
    "id": "b8WHieHLHM5o"
   },
   "source": [
    "# Regression with Python\n",
    "General Docs: https://scikit-learn.org/stable/<br/>\n",
    "Linear Regression Docs: https://scikit-learn.org/stable/modules/linear_model.html"
   ]
  },
  {
   "cell_type": "markdown",
   "metadata": {
    "id": "2R0wEHvMHM5s"
   },
   "source": [
    "The package scikit-learn is a widely used Python library for machine learning, built on top of NumPy and some other packages. It provides the means for preprocessing data, reducing dimensionality, implementing regression, classification, clustering, and more. Like NumPy, scikit-learn is also open source."
   ]
  },
  {
   "cell_type": "markdown",
   "metadata": {
    "id": "Ygk2j75wHM5t"
   },
   "source": [
    "Linear regression is one of the fundamental statistical and machine learning techniques. Whether you want to do statistics, machine learning, or scientific computing, there are good chances that you’ll need it. It’s advisable to learn it first and then proceed towards more complex methods."
   ]
  },
  {
   "cell_type": "markdown",
   "metadata": {
    "id": "xyWWgxM8HM5-"
   },
   "source": [
    "## Regression vs. Classification"
   ]
  },
  {
   "cell_type": "markdown",
   "metadata": {
    "id": "YUd4afnrHM5_"
   },
   "source": [
    "Two major types of problems that machine learning algorithms try to solve are:<br/>\n",
    "\n",
    "Regression — Predict continuous value of a given data point<br/>\n",
    "Classification — Predict the class of the given data point<br/>"
   ]
  },
  {
   "cell_type": "markdown",
   "metadata": {
    "id": "DxTKRsoWHM6A"
   },
   "source": [
    "### Example:"
   ]
  },
  {
   "cell_type": "code",
   "execution_count": 41,
   "metadata": {
    "id": "A7-BWsUXbH1B"
   },
   "outputs": [],
   "source": [
    "import pandas as pd\n",
    "import matplotlib.pyplot as plt\n",
    "import seaborn as sns"
   ]
  },
  {
   "cell_type": "code",
   "execution_count": 42,
   "metadata": {},
   "outputs": [
    {
     "data": {
      "text/plain": [
       "'C:\\\\Users\\\\Payman\\\\Documents\\\\Python Scripts\\\\Session 7'"
      ]
     },
     "execution_count": 42,
     "metadata": {},
     "output_type": "execute_result"
    }
   ],
   "source": [
    "%pwd"
   ]
  },
  {
   "cell_type": "code",
   "execution_count": 43,
   "metadata": {
    "colab": {
     "base_uri": "https://localhost:8080/",
     "height": 206
    },
    "id": "NmkWJZP1HM6B",
    "outputId": "0a48f46e-4582-4409-fa52-6399c69f84dd"
   },
   "outputs": [
    {
     "data": {
      "text/html": [
       "<div>\n",
       "<style scoped>\n",
       "    .dataframe tbody tr th:only-of-type {\n",
       "        vertical-align: middle;\n",
       "    }\n",
       "\n",
       "    .dataframe tbody tr th {\n",
       "        vertical-align: top;\n",
       "    }\n",
       "\n",
       "    .dataframe thead th {\n",
       "        text-align: right;\n",
       "    }\n",
       "</style>\n",
       "<table border=\"1\" class=\"dataframe\">\n",
       "  <thead>\n",
       "    <tr style=\"text-align: right;\">\n",
       "      <th></th>\n",
       "      <th>Pid</th>\n",
       "      <th>Survived</th>\n",
       "      <th>Pclass</th>\n",
       "      <th>Name</th>\n",
       "      <th>Sex</th>\n",
       "      <th>Age</th>\n",
       "      <th>Siblings/Spouses Aboard</th>\n",
       "      <th>Parents/Children Aboard</th>\n",
       "      <th>Fare</th>\n",
       "      <th>Cabin</th>\n",
       "      <th>Embarked</th>\n",
       "    </tr>\n",
       "  </thead>\n",
       "  <tbody>\n",
       "    <tr>\n",
       "      <th>0</th>\n",
       "      <td>1</td>\n",
       "      <td>0</td>\n",
       "      <td>3</td>\n",
       "      <td>Braund, Mr. Owen Harris</td>\n",
       "      <td>male</td>\n",
       "      <td>22</td>\n",
       "      <td>1</td>\n",
       "      <td>0</td>\n",
       "      <td>7</td>\n",
       "      <td>NaN</td>\n",
       "      <td>S</td>\n",
       "    </tr>\n",
       "    <tr>\n",
       "      <th>1</th>\n",
       "      <td>2</td>\n",
       "      <td>1</td>\n",
       "      <td>1</td>\n",
       "      <td>Cumings, Mrs. John Bradley (Florence Briggs Th...</td>\n",
       "      <td>female</td>\n",
       "      <td>38</td>\n",
       "      <td>1</td>\n",
       "      <td>0</td>\n",
       "      <td>71</td>\n",
       "      <td>C85</td>\n",
       "      <td>C</td>\n",
       "    </tr>\n",
       "    <tr>\n",
       "      <th>2</th>\n",
       "      <td>3</td>\n",
       "      <td>1</td>\n",
       "      <td>3</td>\n",
       "      <td>Heikkinen, Miss. Laina</td>\n",
       "      <td>female</td>\n",
       "      <td>26</td>\n",
       "      <td>0</td>\n",
       "      <td>0</td>\n",
       "      <td>8</td>\n",
       "      <td>NaN</td>\n",
       "      <td>S</td>\n",
       "    </tr>\n",
       "    <tr>\n",
       "      <th>3</th>\n",
       "      <td>4</td>\n",
       "      <td>1</td>\n",
       "      <td>1</td>\n",
       "      <td>Futrelle, Mrs. Jacques Heath (Lily May Peel)</td>\n",
       "      <td>female</td>\n",
       "      <td>35</td>\n",
       "      <td>1</td>\n",
       "      <td>0</td>\n",
       "      <td>53</td>\n",
       "      <td>C123</td>\n",
       "      <td>S</td>\n",
       "    </tr>\n",
       "    <tr>\n",
       "      <th>4</th>\n",
       "      <td>5</td>\n",
       "      <td>0</td>\n",
       "      <td>3</td>\n",
       "      <td>Allen, Mr. William Henry</td>\n",
       "      <td>male</td>\n",
       "      <td>35</td>\n",
       "      <td>0</td>\n",
       "      <td>0</td>\n",
       "      <td>8</td>\n",
       "      <td>NaN</td>\n",
       "      <td>S</td>\n",
       "    </tr>\n",
       "  </tbody>\n",
       "</table>\n",
       "</div>"
      ],
      "text/plain": [
       "   Pid  Survived  Pclass                                               Name  \\\n",
       "0    1         0       3                            Braund, Mr. Owen Harris   \n",
       "1    2         1       1  Cumings, Mrs. John Bradley (Florence Briggs Th...   \n",
       "2    3         1       3                             Heikkinen, Miss. Laina   \n",
       "3    4         1       1       Futrelle, Mrs. Jacques Heath (Lily May Peel)   \n",
       "4    5         0       3                           Allen, Mr. William Henry   \n",
       "\n",
       "      Sex  Age  Siblings/Spouses Aboard  Parents/Children Aboard  Fare Cabin  \\\n",
       "0    male   22                        1                        0     7   NaN   \n",
       "1  female   38                        1                        0    71   C85   \n",
       "2  female   26                        0                        0     8   NaN   \n",
       "3  female   35                        1                        0    53  C123   \n",
       "4    male   35                        0                        0     8   NaN   \n",
       "\n",
       "  Embarked  \n",
       "0        S  \n",
       "1        C  \n",
       "2        S  \n",
       "3        S  \n",
       "4        S  "
      ]
     },
     "execution_count": 43,
     "metadata": {},
     "output_type": "execute_result"
    }
   ],
   "source": [
    "import pandas as pd\n",
    "titanic = pd.read_csv('titanic(2).csv')\n",
    "titanic.head()"
   ]
  },
  {
   "cell_type": "code",
   "execution_count": 44,
   "metadata": {
    "colab": {
     "base_uri": "https://localhost:8080/",
     "height": 344
    },
    "id": "awHKW3UAbRhO",
    "outputId": "82d90ce1-d7ed-4ea7-836c-bd6944c784c2"
   },
   "outputs": [
    {
     "data": {
      "image/png": "[encoded data removed]",
      "text/plain": [
       "<Figure size 800x500 with 1 Axes>"
      ]
     },
     "metadata": {},
     "output_type": "display_data"
    }
   ],
   "source": [
    "# Plot sizing\n",
    "f = plt.figure()\n",
    "f.set_figwidth(8)\n",
    "f.set_figheight(5)\n",
    "\n",
    "# Histogram\n",
    "plt.hist(titanic['Age'], bins= range(75), color ='blue', label='Age', alpha = .75)\n",
    "plt.axvline(x = titanic['Age'].mean(), ymin = 0, color='gray', linestyle = '--', linewidth = 2.5) # Add mean line\n",
    "\n",
    "# naming the y axis\n",
    "plt.ylabel('Frequency', fontsize= 15)\n",
    "plt.yticks(fontsize=15)\n",
    "# naming the x axis\n",
    "plt.xlabel('Age (years)', fontsize= 15)\n",
    "plt.xticks(fontsize = 15)\n",
    "plt.legend(loc='best', fontsize = 15, markerscale = 10)\n",
    "\n",
    "# plt.savefig('./figures/Age_hist.pdf', dpi= 1000)\n",
    "\n",
    "plt.show()"
   ]
  },
  {
   "cell_type": "code",
   "execution_count": 45,
   "metadata": {
    "colab": {
     "base_uri": "https://localhost:8080/",
     "height": 350
    },
    "id": "RN7-VZ0_grwD",
    "outputId": "0a2a14c2-e238-448d-e60c-66393e5029be"
   },
   "outputs": [
    {
     "data": {
      "image/png": "[encoded data removed]",
      "text/plain": [
       "<Figure size 800x500 with 1 Axes>"
      ]
     },
     "metadata": {},
     "output_type": "display_data"
    }
   ],
   "source": [
    "# Plot sizing\n",
    "f = plt.figure()\n",
    "f.set_figwidth(8)\n",
    "f.set_figheight(5)\n",
    "\n",
    "# Scatter\n",
    "plt.scatter(titanic['Age'], titanic['Fare'], color ='Tab:green', s = 2.5, label='Age', alpha = .75)\n",
    "plt.axhline(y = titanic['Age'].mean(), xmin = 0, color='Tab:gray', linestyle = '--') # Add mean line\n",
    "plt.ylim(0,200)\n",
    "# naming the y axis\n",
    "plt.ylabel('Age (years)', fontsize= 15)\n",
    "plt.yticks(fontsize=15)\n",
    "# naming the x axis\n",
    "plt.xlabel('Fare', fontsize= 15)\n",
    "plt.xticks(fontsize = 15)\n",
    "plt.legend(loc='best', fontsize = 15, markerscale = 5)\n",
    "\n",
    "plt.savefig('Age vs Fare.pdf', dpi= 1000)\n",
    "\n",
    "plt.show()"
   ]
  },
  {
   "cell_type": "markdown",
   "metadata": {
    "id": "MxG43X3EHM6F"
   },
   "source": [
    "Classification Problem: Given all the other factors (i.e. features), predict whether a passenger was male or female.<br/>\n",
    "Regression Problem: Given all the other factors (i.e. features), predict the age of a passenger."
   ]
  },
  {
   "cell_type": "markdown",
   "metadata": {
    "id": "p_mCLdO4HM6G"
   },
   "source": [
    "## Linear Regression"
   ]
  },
  {
   "cell_type": "markdown",
   "metadata": {
    "id": "OufX_z2SHM6H"
   },
   "source": [
    "Linear Regression, intuitively is a regression algorithm with a Linear approach. We try to predict a continuous value of a given data point by generalizing on the data that we have in hand. The linear part indicates that we are using a linear approach in generalizing over the data."
   ]
  },
  {
   "cell_type": "markdown",
   "metadata": {
    "id": "tF7beAWoHM6I"
   },
   "source": [
    "Problem: Given any house size, predict the house price."
   ]
  },
  {
   "cell_type": "markdown",
   "metadata": {
    "id": "fLbnMm3YHM6K"
   },
   "source": [
    "This problem can be solved using a simple regression.<br/>\n",
    "Simple regression refers to single variate regression.<br/>\n",
    "\n",
    "**Predictor** (regressor, independent variable or explanatory variable or feature): house size.<br/>\n",
    "**Responce Variable** (dependent variable or observation): house price.<br/>\n",
    "\n",
    "Thus, **simple regression** refers to the prediction problem case where there is a single predictor.<br/>\n",
    "\n",
    "The problem is to find the best fit line which generalizes over the data well."
   ]
  },
  {
   "cell_type": "markdown",
   "metadata": {
    "id": "XHjl2XrdHM6L"
   },
   "source": [
    "#### Modeling"
   ]
  },
  {
   "cell_type": "markdown",
   "metadata": {
    "id": "gIrZO0vtHM6M"
   },
   "source": [
    "House Price = (Parameter)\\*(House Size)<br/>\n",
    "House Price = Constant + (Parameter)\\*(House Size)<br/>\n",
    "House Price = Constant + (Parameter)\\*(House Size) + Error"
   ]
  },
  {
   "cell_type": "markdown",
   "metadata": {
    "id": "kZ32I2DIHM6N"
   },
   "source": [
    "Think of considering other predictors (i.e regressors, features, independent variables or explanatory variables) such as the size of the distance of the house to the school district, the size of the backyard, the size of the kitchen. We could keep adding these predictors in into the formulation: <br/>\n",
    "\n",
    "House Price = Constant + (Parameter1)\\*(House Size) + (Parameter2)\\*(Distance to School District) + (Parameter3)\\*(Kitchen Size) + (Parameter4)\\*(House Size) + Error\n"
   ]
  },
  {
   "cell_type": "markdown",
   "metadata": {
    "id": "cClA-__eHM6O"
   },
   "source": [
    "This is a **multiple regression problem** which refers to the prediction problem case where there are multiple predictors."
   ]
  },
  {
   "cell_type": "markdown",
   "metadata": {
    "id": "88Sh2GRIHM6P"
   },
   "source": [
    "Here the problem boils down to estimating parameters (i.e. each predictor's weight) so that the regression best represents the responce variable given the data, which is calling \"Model Fitting\"."
   ]
  },
  {
   "cell_type": "markdown",
   "metadata": {
    "id": "WehJXinhHM6P"
   },
   "source": [
    "Linear regression calculates the estimators of the regression coefficients or simply the predicted weights, denoted with $\\beta_0, \\beta_1, \\beta_2, … \\beta_n$. \n",
    "\n",
    "They define the estimated regression function $𝑓(𝐱) = Y = \\beta_0 + \\beta_1 x_1 + \\beta_2 x_2 … + \\beta_n x_n$. \n",
    "\n",
    "This function should capture the dependencies between the inputs and output sufficiently well."
   ]
  },
  {
   "cell_type": "markdown",
   "metadata": {
    "id": "miNyPk2lHM6U"
   },
   "source": [
    "The estimated or predicted response, 𝑓(𝐱ᵢ), for each observation 𝑖 = 1, …, 𝑛, should be as close as possible to the corresponding actual response 𝑦ᵢ. The differences 𝑦ᵢ - 𝑓(𝐱ᵢ) for all observations 𝑖 = 1, …, 𝑛, are called the residuals. Regression is about determining the best predicted weights, that is the weights corresponding to the smallest residuals.\n",
    "\n",
    "To get the best weights, you usually minimize the sum of squared residuals (SSR) for all observations 𝑖 = 1, …, 𝑛:<br/> \n",
    "$$SSR =\\Sigma^n_{i=1}(y_i – f(x_i))^2$$ \n",
    "\n",
    "This approach is called the minimumum least squares method."
   ]
  },
  {
   "cell_type": "markdown",
   "metadata": {
    "id": "3NbyLCzaHM6U"
   },
   "source": [
    "In many cases, the model fitting precedure tries to mimize SSR, which ensures that the final regression is close to all observations (i.e. predictors). \n",
    "\n",
    "Think of the simple regression line, which passes through in the middle of the observations."
   ]
  },
  {
   "cell_type": "markdown",
   "metadata": {
    "id": "BSYfeieJHM6V"
   },
   "source": [
    "## Quality of Fit\n",
    "### Coefficient of Determination ($R^2$)\n",
    "A common method of measuring the accuracy of regression models is to use the $R^2$ statistic. It is defined as:<br/>\n",
    "$$R^2 = 1 – \\dfrac{SSR}{TSS}$$\n",
    "The SSR (sum of squares of residuals) measures the variability left unexplained after performing the regression<br/>\n",
    "The TSS (total sum of squares) measues the total variance in Y<br/>\n",
    "Therefore the R2 statistic measures proportion of variability in Y that is explained by X using our model"
   ]
  },
  {
   "cell_type": "markdown",
   "metadata": {
    "id": "fBYqq8gIHM6V"
   },
   "source": [
    "### Prediction Accuracy Metrics"
   ]
  },
  {
   "cell_type": "markdown",
   "metadata": {
    "id": "tPn76rHtHM6W"
   },
   "source": [
    "The performance of the model can be evaluated through some accuracy metrics. \n",
    " \n",
    "Mean Absolute Error: $MAE = \\frac{1}{n}\\Sigma^n_{i=1}(|y_i – f(x_i)|)$<br/>\n",
    "Mean Squared Error: $MSE = \\frac{1}{n}\\Sigma^n_{i=1}(y_i – f(x_i))^2 $ <br/>\n",
    "Root Mean Squared Error: $RMSE = \\sqrt{MSE}$ <br/>"
   ]
  },
  {
   "cell_type": "markdown",
   "metadata": {
    "id": "1qsdGuV1HM6W"
   },
   "source": [
    "These metrics can be estimated over:<br/> \n",
    "1) training period (**in-sampling errors**) or<br/>\n",
    "2) testing period (**out-of-sampling errors**).\n",
    "\n",
    "Evaluating the performance of a model is a lot more common through out-of-sampling errors. But it requires a testing sample set."
   ]
  },
  {
   "cell_type": "markdown",
   "metadata": {
    "id": "Jszmw3ZHHM6W"
   },
   "source": [
    "### Example - Simple Linear Regression"
   ]
  },
  {
   "cell_type": "code",
   "execution_count": 46,
   "metadata": {
    "id": "5cXwzPlHHM6X"
   },
   "outputs": [],
   "source": [
    "import numpy as np\n",
    "from sklearn.linear_model import LinearRegression"
   ]
  },
  {
   "cell_type": "markdown",
   "metadata": {
    "id": "gXR4uoiFHM6X"
   },
   "source": [
    "Now we have all the functionalities you need to implement linear regression.\n",
    "\n",
    "The fundamental data type of NumPy is the array type called numpy.ndarray. \n",
    "\n",
    "The class sklearn.linear_model.LinearRegression will be used to perform linear regression and make predictions accordingly."
   ]
  },
  {
   "cell_type": "code",
   "execution_count": 47,
   "metadata": {
    "id": "pn0Vsd6GHM6Y"
   },
   "outputs": [],
   "source": [
    "house_size = np.array(\n",
    "   [[500],\n",
    "    [1500],\n",
    "    [2500],\n",
    "    [3500],\n",
    "    [4500],\n",
    "    [5500]])\n",
    "\n",
    "house_price = np.array([50000,200000,140000,320000,220000,380000])"
   ]
  },
  {
   "cell_type": "markdown",
   "metadata": {
    "id": "9VRNUc_7HM6Y"
   },
   "source": [
    "Now, you have two arrays: the input x and output y. The array is required to be two-dimensional.\n",
    "\n",
    "In this case, one column and as many rows as necessary. "
   ]
  },
  {
   "cell_type": "code",
   "execution_count": 48,
   "metadata": {
    "id": "qgZCh1vuHM6Z",
    "outputId": "b5adddaa-0350-4877-deba-8a0fec3cfc5d"
   },
   "outputs": [
    {
     "name": "stdout",
     "output_type": "stream",
     "text": [
      "[[ 500]\n",
      " [1500]\n",
      " [2500]\n",
      " [3500]\n",
      " [4500]\n",
      " [5500]]\n"
     ]
    }
   ],
   "source": [
    "print(house_size)"
   ]
  },
  {
   "cell_type": "code",
   "execution_count": 49,
   "metadata": {
    "id": "FbaDA4S2HM6Z",
    "outputId": "8620cb17-a66a-46ee-fe43-690bbff32b38"
   },
   "outputs": [
    {
     "name": "stdout",
     "output_type": "stream",
     "text": [
      "[ 50000 200000 140000 320000 220000 380000]\n"
     ]
    }
   ],
   "source": [
    "print(house_price)"
   ]
  },
  {
   "cell_type": "markdown",
   "metadata": {
    "id": "AuYx7Kx5HM6a"
   },
   "source": [
    "As you can see, house_size has two dimensions, while house_price has a single dimension"
   ]
  },
  {
   "cell_type": "markdown",
   "metadata": {
    "id": "JqP_vU69HM6a"
   },
   "source": [
    "The next step is to create a linear regression model and fit it using the existing data.\n",
    "\n",
    "Let’s create an instance of the class LinearRegression, which will represent the regression model:"
   ]
  },
  {
   "cell_type": "markdown",
   "metadata": {
    "id": "nndMM8h2HM6b"
   },
   "source": [
    "Let's take a look at the data in a scatter plot."
   ]
  },
  {
   "cell_type": "code",
   "execution_count": 50,
   "metadata": {
    "id": "fTbX935qHM6b",
    "outputId": "e44daafe-71e4-4836-a705-b6ae19ba9078"
   },
   "outputs": [
    {
     "data": {
      "image/png": "[encoded data removed]",
      "text/plain": [
       "<Figure size 500x400 with 1 Axes>"
      ]
     },
     "metadata": {},
     "output_type": "display_data"
    }
   ],
   "source": [
    "import matplotlib.pyplot as plt\n",
    "plt.figure(figsize=(5, 4))\n",
    "plt.scatter(house_size, house_price)\n",
    "plt.ylabel('House Price', size=12)\n",
    "plt.xlabel('House Size', size=12)\n",
    "plt.show()"
   ]
  },
  {
   "cell_type": "code",
   "execution_count": 51,
   "metadata": {
    "id": "l98QfKB8HM6c"
   },
   "outputs": [],
   "source": [
    "my_regression_model = LinearRegression()"
   ]
  },
  {
   "cell_type": "markdown",
   "metadata": {
    "id": "-hSGFS7LHM6d"
   },
   "source": [
    "First, you need to call `.fit()` on model:"
   ]
  },
  {
   "cell_type": "code",
   "execution_count": 52,
   "metadata": {
    "id": "SBQniLl5HM6d",
    "outputId": "c77541c1-612f-486f-fa09-87895f15ab47"
   },
   "outputs": [
    {
     "data": {
      "text/html": [
       "<style>#sk-container-id-4 {color: black;background-color: white;}#sk-container-id-4 pre{padding: 0;}#sk-container-id-4 div.sk-toggleable {background-color: white;}#sk-container-id-4 label.sk-toggleable__label {cursor: pointer;display: block;width: 100%;margin-bottom: 0;padding: 0.3em;box-sizing: border-box;text-align: center;}#sk-container-id-4 label.sk-toggleable__label-arrow:before {content: \"▸\";float: left;margin-right: 0.25em;color: #696969;}#sk-container-id-4 label.sk-toggleable__label-arrow:hover:before {color: black;}#sk-container-id-4 div.sk-estimator:hover label.sk-toggleable__label-arrow:before {color: black;}#sk-container-id-4 div.sk-toggleable__content {max-height: 0;max-width: 0;overflow: hidden;text-align: left;background-color: #f0f8ff;}#sk-container-id-4 div.sk-toggleable__content pre {margin: 0.2em;color: black;border-radius: 0.25em;background-color: #f0f8ff;}#sk-container-id-4 input.sk-toggleable__control:checked~div.sk-toggleable__content {max-height: 200px;max-width: 100%;overflow: auto;}#sk-container-id-4 input.sk-toggleable__control:checked~label.sk-toggleable__label-arrow:before {content: \"▾\";}#sk-container-id-4 div.sk-estimator input.sk-toggleable__control:checked~label.sk-toggleable__label {background-color: #d4ebff;}#sk-container-id-4 div.sk-label input.sk-toggleable__control:checked~label.sk-toggleable__label {background-color: #d4ebff;}#sk-container-id-4 input.sk-hidden--visually {border: 0;clip: rect(1px 1px 1px 1px);clip: rect(1px, 1px, 1px, 1px);height: 1px;margin: -1px;overflow: hidden;padding: 0;position: absolute;width: 1px;}#sk-container-id-4 div.sk-estimator {font-family: monospace;background-color: #f0f8ff;border: 1px dotted black;border-radius: 0.25em;box-sizing: border-box;margin-bottom: 0.5em;}#sk-container-id-4 div.sk-estimator:hover {background-color: #d4ebff;}#sk-container-id-4 div.sk-parallel-item::after {content: \"\";width: 100%;border-bottom: 1px solid gray;flex-grow: 1;}#sk-container-id-4 div.sk-label:hover label.sk-toggleable__label {background-color: #d4ebff;}#sk-container-id-4 div.sk-serial::before {content: \"\";position: absolute;border-left: 1px solid gray;box-sizing: border-box;top: 0;bottom: 0;left: 50%;z-index: 0;}#sk-container-id-4 div.sk-serial {display: flex;flex-direction: column;align-items: center;background-color: white;padding-right: 0.2em;padding-left: 0.2em;position: relative;}#sk-container-id-4 div.sk-item {position: relative;z-index: 1;}#sk-container-id-4 div.sk-parallel {display: flex;align-items: stretch;justify-content: center;background-color: white;position: relative;}#sk-container-id-4 div.sk-item::before, #sk-container-id-4 div.sk-parallel-item::before {content: \"\";position: absolute;border-left: 1px solid gray;box-sizing: border-box;top: 0;bottom: 0;left: 50%;z-index: -1;}#sk-container-id-4 div.sk-parallel-item {display: flex;flex-direction: column;z-index: 1;position: relative;background-color: white;}#sk-container-id-4 div.sk-parallel-item:first-child::after {align-self: flex-end;width: 50%;}#sk-container-id-4 div.sk-parallel-item:last-child::after {align-self: flex-start;width: 50%;}#sk-container-id-4 div.sk-parallel-item:only-child::after {width: 0;}#sk-container-id-4 div.sk-dashed-wrapped {border: 1px dashed gray;margin: 0 0.4em 0.5em 0.4em;box-sizing: border-box;padding-bottom: 0.4em;background-color: white;}#sk-container-id-4 div.sk-label label {font-family: monospace;font-weight: bold;display: inline-block;line-height: 1.2em;}#sk-container-id-4 div.sk-label-container {text-align: center;}#sk-container-id-4 div.sk-container {/* jupyter's `normalize.less` sets `[hidden] { display: none; }` but bootstrap.min.css set `[hidden] { display: none !important; }` so we also need the `!important` here to be able to override the default hidden behavior on the sphinx rendered scikit-learn.org. See: https://github.com/scikit-learn/scikit-learn/issues/21755 */display: inline-block !important;position: relative;}#sk-container-id-4 div.sk-text-repr-fallback {display: none;}</style><div id=\"sk-container-id-4\" class=\"sk-top-container\"><div class=\"sk-text-repr-fallback\"><pre>LinearRegression()</pre><b>In a Jupyter environment, please rerun this cell to show the HTML representation or trust the notebook. <br />On GitHub, the HTML representation is unable to render, please try loading this page with nbviewer.org.</b></div><div class=\"sk-container\" hidden><div class=\"sk-item\"><div class=\"sk-estimator sk-toggleable\"><input class=\"sk-toggleable__control sk-hidden--visually\" id=\"sk-estimator-id-4\" type=\"checkbox\" checked><label for=\"sk-estimator-id-4\" class=\"sk-toggleable__label sk-toggleable__label-arrow\">LinearRegression</label><div class=\"sk-toggleable__content\"><pre>LinearRegression()</pre></div></div></div></div></div>"
      ],
      "text/plain": [
       "LinearRegression()"
      ]
     },
     "execution_count": 52,
     "metadata": {},
     "output_type": "execute_result"
    }
   ],
   "source": [
    "my_regression_model.fit(house_size, house_price)"
   ]
  },
  {
   "cell_type": "markdown",
   "metadata": {
    "id": "4ZFFnjIEHM6e"
   },
   "source": [
    "With .fit(), you calculate the optimal values of the weights 𝑏₀ and 𝑏₁, using the existing predictor and response (house_size and house_price) as the arguments. "
   ]
  },
  {
   "cell_type": "markdown",
   "metadata": {
    "id": "HLTMRBrtHM6e"
   },
   "source": [
    "Once you have your model fitted, you can get the results to check whether the model works satisfactorily and interpret it.\n",
    "\n",
    "You can obtain the coefficient of determination (𝑅²) with .score() called on model.\n",
    "\n",
    "𝑅² is a statistic that will give some information about the goodness of fit of a model. 𝑅² = 1 indicates that the regression predictions perfectly fit the data."
   ]
  },
  {
   "cell_type": "code",
   "execution_count": 53,
   "metadata": {
    "id": "gsSw1S9RHM6f",
    "outputId": "8453676b-1814-4e09-8fed-9a76373d47ee",
    "scrolled": false
   },
   "outputs": [
    {
     "name": "stdout",
     "output_type": "stream",
     "text": [
      "Coefficient of determination: 0.715875613747954\n"
     ]
    }
   ],
   "source": [
    "R2 = my_regression_model.score(house_size, house_price)\n",
    "\n",
    "print('Coefficient of determination:', R2)"
   ]
  },
  {
   "cell_type": "markdown",
   "metadata": {
    "id": "LBFvYcCyHM6f"
   },
   "source": [
    "Let's evaluate the fitting quality. "
   ]
  },
  {
   "cell_type": "markdown",
   "metadata": {
    "id": "EMYzXeWGHM6g"
   },
   "source": [
    "When you’re applying .score(), the arguments are also the predictor x and regressor y, and the return value is 𝑅².\n",
    "\n",
    "The attributes of model are `.intercept_`, which represents the coefficient, 𝑏₀ and `.coef_`, which represents 𝑏₁:"
   ]
  },
  {
   "cell_type": "code",
   "execution_count": 54,
   "metadata": {
    "id": "7w3giE6QHM6g",
    "outputId": "643b8b64-4368-4549-bbcf-56cfa1bd4c67",
    "scrolled": true
   },
   "outputs": [
    {
     "name": "stdout",
     "output_type": "stream",
     "text": [
      "56333.33333333337\n"
     ]
    }
   ],
   "source": [
    "print(my_regression_model.intercept_)"
   ]
  },
  {
   "cell_type": "code",
   "execution_count": 55,
   "metadata": {
    "id": "X2wufoFVHM6h",
    "outputId": "4b2446f6-326d-4a73-8fb0-fbabdc646819"
   },
   "outputs": [
    {
     "name": "stdout",
     "output_type": "stream",
     "text": [
      "[54.]\n"
     ]
    }
   ],
   "source": [
    "print(my_regression_model.coef_)"
   ]
  },
  {
   "cell_type": "markdown",
   "metadata": {
    "id": "px54Qw5HHM6i"
   },
   "source": [
    "Regression model:<br/>\n",
    "house_price = 56333.3 + 54\\*house_size"
   ]
  },
  {
   "cell_type": "markdown",
   "metadata": {
    "id": "Hhw6bMcxHM6i"
   },
   "source": [
    "We can use the model for predictions with either existing or new data.\n",
    "\n",
    "Let's predict the existing data (the house prices available in the data)"
   ]
  },
  {
   "cell_type": "code",
   "execution_count": 56,
   "metadata": {
    "id": "IGC-UCB2HM6i",
    "outputId": "221950cd-42ab-4637-f4a4-fa4267177b39",
    "scrolled": false
   },
   "outputs": [
    {
     "name": "stdout",
     "output_type": "stream",
     "text": [
      "[[ 83333.33333333]\n",
      " [137333.33333333]\n",
      " [191333.33333333]\n",
      " [245333.33333333]\n",
      " [299333.33333333]\n",
      " [353333.33333333]]\n"
     ]
    }
   ],
   "source": [
    "house_price_pred = my_regression_model.intercept_ + my_regression_model.coef_ * house_size\n",
    "\n",
    "print(house_price_pred)"
   ]
  },
  {
   "cell_type": "markdown",
   "metadata": {
    "id": "_1c65L1vHM6j"
   },
   "source": [
    "To obtain the predicted response, use `.predict()`."
   ]
  },
  {
   "cell_type": "code",
   "execution_count": 57,
   "metadata": {
    "id": "Mvyx0y1kHM6j",
    "outputId": "bb7e35eb-77dd-4d2a-ad70-70827e2dca31"
   },
   "outputs": [
    {
     "name": "stdout",
     "output_type": "stream",
     "text": [
      "[ 83333.33333333 137333.33333333 191333.33333333 245333.33333333\n",
      " 299333.33333333 353333.33333333]\n"
     ]
    }
   ],
   "source": [
    "house_price_pred = my_regression_model.predict(house_size)\n",
    "\n",
    "print(house_price_pred)"
   ]
  },
  {
   "cell_type": "code",
   "execution_count": 58,
   "metadata": {
    "id": "LvsEOpPkHM6k",
    "outputId": "655839dd-2f4b-4b0d-8f96-99ea81304f54",
    "scrolled": false
   },
   "outputs": [
    {
     "data": {
      "image/png": "[encoded data removed]",
      "text/plain": [
       "<Figure size 500x400 with 1 Axes>"
      ]
     },
     "metadata": {},
     "output_type": "display_data"
    }
   ],
   "source": [
    "import matplotlib.pyplot as plt\n",
    "plt.figure(figsize=(5, 4))\n",
    "plt.scatter(house_size, house_price)\n",
    "plt.ylabel('House Price', size=12)\n",
    "plt.xlabel('House Size', size=12)\n",
    "plt.plot(house_size, house_price_pred, color='r')\n",
    "plt.show()"
   ]
  },
  {
   "cell_type": "markdown",
   "metadata": {
    "id": "rlHkIHA5HM6k"
   },
   "source": [
    "Let's evaluate the fit quality through in-sample-errors"
   ]
  },
  {
   "cell_type": "code",
   "execution_count": 59,
   "metadata": {
    "id": "7MzWMaizHM6l",
    "outputId": "412549dc-14e8-4b05-df51-aa90124e6b18"
   },
   "outputs": [
    {
     "name": "stdout",
     "output_type": "stream",
     "text": [
      "Mean Absolute Error: 54666.66666666668\n",
      "Mean Squared Error: 3375555555.555557\n",
      "Root Mean Squared Error: 58099.53145728076\n"
     ]
    }
   ],
   "source": [
    "from sklearn import metrics\n",
    "print('Mean Absolute Error:', metrics.mean_absolute_error(house_price, house_price_pred))\n",
    "print('Mean Squared Error:', metrics.mean_squared_error(house_price, house_price_pred))\n",
    "print('Root Mean Squared Error:', np.sqrt(metrics.mean_squared_error(house_price, house_price_pred)))"
   ]
  },
  {
   "cell_type": "markdown",
   "metadata": {
    "id": "KRsqBgI6HM6l"
   },
   "source": [
    "#### How can we improve these results (i.e. reduce errors)?\n",
    "**More data:** Only the data with six observations isn't that much. More data points would improve the accuracy quite a bit.\n",
    "\n",
    "**Modeling strategy:** We made the assumption that this data has a linear relationship, but that might not be the case. Visualizing the data may help you determine that. Perhaps we should go with a different modeling strategy. \n",
    "\n",
    "**Poor features or lack of features (i.e. predictors):** In this case we are seeing a single feature which is house size. There a high enough correlation to the values we were trying to predict. Perhaps adding additional features might imrove the predictions."
   ]
  },
  {
   "cell_type": "markdown",
   "metadata": {
    "id": "FjnY8xGFHM6m"
   },
   "source": [
    "Let's create predictions with the new data."
   ]
  },
  {
   "cell_type": "code",
   "execution_count": 60,
   "metadata": {
    "id": "X4OmHv--HM6m",
    "outputId": "0fc8b357-4e0e-4bda-92cb-0935f3e5262b"
   },
   "outputs": [
    {
     "name": "stdout",
     "output_type": "stream",
     "text": [
      "[353333.33333333 380333.33333333 434333.33333333 488333.33333333]\n"
     ]
    }
   ],
   "source": [
    "new_house_size = np.array([[5500], [6000], [7000], [8000]])\n",
    "\n",
    "house_price_pred_more = my_regression_model.predict(new_house_size)\n",
    "\n",
    "print(house_price_pred_more)"
   ]
  },
  {
   "cell_type": "code",
   "execution_count": 61,
   "metadata": {
    "id": "AE1vMKRbHM6n",
    "outputId": "f9f1cd03-36c5-4377-ef09-37e243ea8683"
   },
   "outputs": [
    {
     "data": {
      "image/png": "[encoded data removed]",
      "text/plain": [
       "<Figure size 500x400 with 1 Axes>"
      ]
     },
     "metadata": {},
     "output_type": "display_data"
    }
   ],
   "source": [
    "import matplotlib.pyplot as plt\n",
    "plt.figure(figsize=(5, 4))\n",
    "plt.scatter(house_size, house_price)\n",
    "plt.ylabel('House Price', size=12)\n",
    "plt.xlabel('House Size', size=12)\n",
    "plt.plot(house_size, house_price_pred, color='r')\n",
    "plt.plot(new_house_size, house_price_pred_more, color='green', linestyle='dashed')\n",
    "plt.show()"
   ]
  },
  {
   "cell_type": "markdown",
   "metadata": {
    "id": "B7iduevcHM6n"
   },
   "source": [
    "### Example - Multiple Linear Regression"
   ]
  },
  {
   "cell_type": "markdown",
   "metadata": {
    "id": "jOwwtEJvHM6o"
   },
   "source": [
    "Let's consider kitchen size as another predictor along with house size. <br/>\n",
    "We will create a two dimentional matrix called \"features\" to hold both predictors."
   ]
  },
  {
   "cell_type": "code",
   "execution_count": 62,
   "metadata": {
    "id": "pX8PQ4ZVHM6o"
   },
   "outputs": [],
   "source": [
    "features = house_size = np.array(\n",
    "   [[500, 40],\n",
    "    [1500, 100],\n",
    "    [2500, 200],\n",
    "    [3500, 220],\n",
    "    [4500, 250],\n",
    "    [5500, 300]])\n",
    "\n",
    "house_price = np.array([50000,200000,140000,320000,220000,380000])"
   ]
  },
  {
   "cell_type": "code",
   "execution_count": 63,
   "metadata": {
    "id": "4fgrTv0mHM6o"
   },
   "outputs": [],
   "source": [
    "my_regression_model = LinearRegression()"
   ]
  },
  {
   "cell_type": "code",
   "execution_count": 64,
   "metadata": {
    "id": "rDnodo-DHM6p",
    "outputId": "755765a7-655f-4c37-8d35-0e911bcfcf96"
   },
   "outputs": [
    {
     "data": {
      "text/html": [
       "<style>#sk-container-id-5 {color: black;background-color: white;}#sk-container-id-5 pre{padding: 0;}#sk-container-id-5 div.sk-toggleable {background-color: white;}#sk-container-id-5 label.sk-toggleable__label {cursor: pointer;display: block;width: 100%;margin-bottom: 0;padding: 0.3em;box-sizing: border-box;text-align: center;}#sk-container-id-5 label.sk-toggleable__label-arrow:before {content: \"▸\";float: left;margin-right: 0.25em;color: #696969;}#sk-container-id-5 label.sk-toggleable__label-arrow:hover:before {color: black;}#sk-container-id-5 div.sk-estimator:hover label.sk-toggleable__label-arrow:before {color: black;}#sk-container-id-5 div.sk-toggleable__content {max-height: 0;max-width: 0;overflow: hidden;text-align: left;background-color: #f0f8ff;}#sk-container-id-5 div.sk-toggleable__content pre {margin: 0.2em;color: black;border-radius: 0.25em;background-color: #f0f8ff;}#sk-container-id-5 input.sk-toggleable__control:checked~div.sk-toggleable__content {max-height: 200px;max-width: 100%;overflow: auto;}#sk-container-id-5 input.sk-toggleable__control:checked~label.sk-toggleable__label-arrow:before {content: \"▾\";}#sk-container-id-5 div.sk-estimator input.sk-toggleable__control:checked~label.sk-toggleable__label {background-color: #d4ebff;}#sk-container-id-5 div.sk-label input.sk-toggleable__control:checked~label.sk-toggleable__label {background-color: #d4ebff;}#sk-container-id-5 input.sk-hidden--visually {border: 0;clip: rect(1px 1px 1px 1px);clip: rect(1px, 1px, 1px, 1px);height: 1px;margin: -1px;overflow: hidden;padding: 0;position: absolute;width: 1px;}#sk-container-id-5 div.sk-estimator {font-family: monospace;background-color: #f0f8ff;border: 1px dotted black;border-radius: 0.25em;box-sizing: border-box;margin-bottom: 0.5em;}#sk-container-id-5 div.sk-estimator:hover {background-color: #d4ebff;}#sk-container-id-5 div.sk-parallel-item::after {content: \"\";width: 100%;border-bottom: 1px solid gray;flex-grow: 1;}#sk-container-id-5 div.sk-label:hover label.sk-toggleable__label {background-color: #d4ebff;}#sk-container-id-5 div.sk-serial::before {content: \"\";position: absolute;border-left: 1px solid gray;box-sizing: border-box;top: 0;bottom: 0;left: 50%;z-index: 0;}#sk-container-id-5 div.sk-serial {display: flex;flex-direction: column;align-items: center;background-color: white;padding-right: 0.2em;padding-left: 0.2em;position: relative;}#sk-container-id-5 div.sk-item {position: relative;z-index: 1;}#sk-container-id-5 div.sk-parallel {display: flex;align-items: stretch;justify-content: center;background-color: white;position: relative;}#sk-container-id-5 div.sk-item::before, #sk-container-id-5 div.sk-parallel-item::before {content: \"\";position: absolute;border-left: 1px solid gray;box-sizing: border-box;top: 0;bottom: 0;left: 50%;z-index: -1;}#sk-container-id-5 div.sk-parallel-item {display: flex;flex-direction: column;z-index: 1;position: relative;background-color: white;}#sk-container-id-5 div.sk-parallel-item:first-child::after {align-self: flex-end;width: 50%;}#sk-container-id-5 div.sk-parallel-item:last-child::after {align-self: flex-start;width: 50%;}#sk-container-id-5 div.sk-parallel-item:only-child::after {width: 0;}#sk-container-id-5 div.sk-dashed-wrapped {border: 1px dashed gray;margin: 0 0.4em 0.5em 0.4em;box-sizing: border-box;padding-bottom: 0.4em;background-color: white;}#sk-container-id-5 div.sk-label label {font-family: monospace;font-weight: bold;display: inline-block;line-height: 1.2em;}#sk-container-id-5 div.sk-label-container {text-align: center;}#sk-container-id-5 div.sk-container {/* jupyter's `normalize.less` sets `[hidden] { display: none; }` but bootstrap.min.css set `[hidden] { display: none !important; }` so we also need the `!important` here to be able to override the default hidden behavior on the sphinx rendered scikit-learn.org. See: https://github.com/scikit-learn/scikit-learn/issues/21755 */display: inline-block !important;position: relative;}#sk-container-id-5 div.sk-text-repr-fallback {display: none;}</style><div id=\"sk-container-id-5\" class=\"sk-top-container\"><div class=\"sk-text-repr-fallback\"><pre>LinearRegression()</pre><b>In a Jupyter environment, please rerun this cell to show the HTML representation or trust the notebook. <br />On GitHub, the HTML representation is unable to render, please try loading this page with nbviewer.org.</b></div><div class=\"sk-container\" hidden><div class=\"sk-item\"><div class=\"sk-estimator sk-toggleable\"><input class=\"sk-toggleable__control sk-hidden--visually\" id=\"sk-estimator-id-5\" type=\"checkbox\" checked><label for=\"sk-estimator-id-5\" class=\"sk-toggleable__label sk-toggleable__label-arrow\">LinearRegression</label><div class=\"sk-toggleable__content\"><pre>LinearRegression()</pre></div></div></div></div></div>"
      ],
      "text/plain": [
       "LinearRegression()"
      ]
     },
     "execution_count": 64,
     "metadata": {},
     "output_type": "execute_result"
    }
   ],
   "source": [
    "my_regression_model.fit(features, house_price)"
   ]
  },
  {
   "cell_type": "code",
   "execution_count": 65,
   "metadata": {
    "id": "-2s0T9-IHM6p",
    "outputId": "972511e0-bc0e-4d2f-80f6-c8d59c07863b"
   },
   "outputs": [
    {
     "data": {
      "text/plain": [
       "0.7190840946997956"
      ]
     },
     "execution_count": 65,
     "metadata": {},
     "output_type": "execute_result"
    }
   ],
   "source": [
    "my_regression_model.score(features, house_price)"
   ]
  },
  {
   "cell_type": "markdown",
   "metadata": {
    "id": "6jmSELjMHM6q"
   },
   "source": [
    "The new coefficient of determination value indicates that the fitting quality definitely improved from 0.715 to 0.719."
   ]
  },
  {
   "cell_type": "code",
   "execution_count": 66,
   "metadata": {
    "id": "QuveScsTHM6q",
    "outputId": "c2df1b81-afd0-46df-b13c-a48378ad1c64"
   },
   "outputs": [
    {
     "data": {
      "text/plain": [
       "66620.92283214012"
      ]
     },
     "execution_count": 66,
     "metadata": {},
     "output_type": "execute_result"
    }
   ],
   "source": [
    "my_regression_model.intercept_"
   ]
  },
  {
   "cell_type": "code",
   "execution_count": 67,
   "metadata": {
    "id": "32lcKgcRHM6q",
    "outputId": "a254378d-c065-4c46-fe60-77e31f0028d9",
    "scrolled": true
   },
   "outputs": [
    {
     "data": {
      "text/plain": [
       "array([  69.6300716 , -309.06921241])"
      ]
     },
     "execution_count": 67,
     "metadata": {},
     "output_type": "execute_result"
    }
   ],
   "source": [
    "my_regression_model.coef_"
   ]
  },
  {
   "cell_type": "markdown",
   "metadata": {
    "id": "mS074-6zHM6r"
   },
   "source": [
    "Regression model:<br/>\n",
    "house_price = 66620.9 + 69.6\\*house_size + (-309.0)\\*kitchen_size\n",
    "\n",
    "\n",
    "$y = 66620.9 + 69.6x_1 - 309x_2$"
   ]
  },
  {
   "cell_type": "code",
   "execution_count": 69,
   "metadata": {
    "id": "kZ-DwyweHM6r",
    "outputId": "fe14c86a-46ba-407e-d185-ef65b511862c",
    "scrolled": true
   },
   "outputs": [
    {
     "name": "stdout",
     "output_type": "stream",
     "text": [
      "[ 89073.19013524 140159.10898966 178882.25934765 242330.94669849\n",
      " 302688.94192522 356865.55290374]\n"
     ]
    }
   ],
   "source": [
    "house_price_pred = my_regression_model.intercept_ + my_regression_model.coef_ [0]* features[:,0] + my_regression_model.coef_ [1]* features[:,1]\n",
    "\n",
    "print(house_price_pred)"
   ]
  },
  {
   "cell_type": "code",
   "execution_count": 70,
   "metadata": {
    "id": "Z0zb6mu6HM6s",
    "outputId": "3cc0ddef-7bdd-44ca-f83d-901a9800df12"
   },
   "outputs": [
    {
     "data": {
      "text/plain": [
       "array([ 89073.19013524, 140159.10898966, 178882.25934765, 242330.94669849,\n",
       "       302688.94192522, 356865.55290374])"
      ]
     },
     "execution_count": 70,
     "metadata": {},
     "output_type": "execute_result"
    }
   ],
   "source": [
    "my_regression_model.predict(features)"
   ]
  },
  {
   "cell_type": "code",
   "execution_count": 71,
   "metadata": {
    "id": "oTB6l9w1HM6s",
    "outputId": "8686f894-7b08-4fc0-8989-a20342397b61",
    "scrolled": true
   },
   "outputs": [
    {
     "data": {
      "image/png": "[encoded data removed]",
      "text/plain": [
       "<Figure size 500x400 with 1 Axes>"
      ]
     },
     "metadata": {},
     "output_type": "display_data"
    }
   ],
   "source": [
    "import matplotlib.pyplot as plt\n",
    "plt.figure(figsize=(5, 4))\n",
    "kitchen_size = features[:,1]\n",
    "plt.scatter(kitchen_size, house_price)\n",
    "plt.ylabel('House Price', size=12)\n",
    "plt.xlabel('Kitchen Size', size=12)\n",
    "plt.plot(kitchen_size, house_price_pred, color='r')\n",
    "plt.show()"
   ]
  },
  {
   "cell_type": "code",
   "execution_count": 72,
   "metadata": {
    "id": "8tgUy0EAHM6t",
    "outputId": "4cadcec7-abc7-4e83-a21c-b6e998b2bdc0",
    "scrolled": true
   },
   "outputs": [
    {
     "name": "stdout",
     "output_type": "stream",
     "text": [
      "Mean Absolute Error: 53548.13046937153\n",
      "Mean Squared Error: 3337437019.3582606\n",
      "Root Mean Squared Error: 57770.554951101694\n"
     ]
    }
   ],
   "source": [
    "from sklearn import metrics\n",
    "print('Mean Absolute Error:', metrics.mean_absolute_error(house_price, house_price_pred))\n",
    "print('Mean Squared Error:', metrics.mean_squared_error(house_price, house_price_pred))\n",
    "print('Root Mean Squared Error:', np.sqrt(metrics.mean_squared_error(house_price, house_price_pred)))"
   ]
  },
  {
   "cell_type": "markdown",
   "metadata": {
    "id": "YhM7ljiuHM6t"
   },
   "source": [
    "Notice that addition of the new feature (kitchen size) reduced all error results (i.e. better fit)."
   ]
  },
  {
   "cell_type": "markdown",
   "metadata": {
    "id": "u8Ro3BoAHM6t"
   },
   "source": [
    "Let's create predictions with the new data."
   ]
  },
  {
   "cell_type": "code",
   "execution_count": 75,
   "metadata": {
    "id": "gBTvv-U7HM6u",
    "outputId": "90dbae51-818d-49bb-e4a1-aef13fad6145"
   },
   "outputs": [
    {
     "name": "stdout",
     "output_type": "stream",
     "text": [
      "[353774.86077963 387044.5505171  453583.92999204 518577.96340493]\n"
     ]
    }
   ],
   "source": [
    "new_data = np.array([[5500, 310], [6000, 315], [7000, 325], [8000, 340]])\n",
    "\n",
    "house_price_pred_more = my_regression_model.predict(new_data)\n",
    "\n",
    "print(house_price_pred_more)"
   ]
  },
  {
   "cell_type": "code",
   "execution_count": 76,
   "metadata": {
    "id": "KNwY2s-KHM6u",
    "outputId": "a8d68dc4-71bd-47c6-f2dc-7ff40ceb8b0d",
    "scrolled": true
   },
   "outputs": [
    {
     "data": {
      "image/png": "[encoded data removed]",
      "text/plain": [
       "<Figure size 500x400 with 1 Axes>"
      ]
     },
     "metadata": {},
     "output_type": "display_data"
    }
   ],
   "source": [
    "import matplotlib.pyplot as plt\n",
    "plt.figure(figsize=(5, 4))\n",
    "kitchen_size = features[:,1]\n",
    "plt.scatter(kitchen_size, house_price)\n",
    "plt.ylabel('House Price', size=12)\n",
    "plt.xlabel('Kitchen Size', size=12)\n",
    "plt.plot(kitchen_size, house_price_pred, color='r')\n",
    "new_kitchen_size_data = new_data[:,1]\n",
    "plt.plot(new_kitchen_size_data, house_price_pred_more, color='green', linestyle='dashed')\n",
    "plt.show()"
   ]
  },
  {
   "cell_type": "markdown",
   "metadata": {
    "id": "zUoz39qoHM6v"
   },
   "source": [
    "### Measuring Quality of Fit over Out-of-Sample Errors"
   ]
  },
  {
   "cell_type": "code",
   "execution_count": 79,
   "metadata": {},
   "outputs": [
    {
     "data": {
      "text/plain": [
       "array([[ 500,   40],\n",
       "       [1500,  100],\n",
       "       [2500,  200],\n",
       "       [3500,  220],\n",
       "       [4500,  250],\n",
       "       [5500,  300]])"
      ]
     },
     "execution_count": 79,
     "metadata": {},
     "output_type": "execute_result"
    }
   ],
   "source": [
    "features"
   ]
  },
  {
   "cell_type": "code",
   "execution_count": 80,
   "metadata": {},
   "outputs": [
    {
     "data": {
      "text/plain": [
       "1.2000000000000002"
      ]
     },
     "execution_count": 80,
     "metadata": {},
     "output_type": "execute_result"
    }
   ],
   "source": [
    "0.2*6"
   ]
  },
  {
   "cell_type": "code",
   "execution_count": 77,
   "metadata": {
    "id": "b0v0KkjWHM6v"
   },
   "outputs": [],
   "source": [
    "from sklearn.model_selection import train_test_split\n",
    "features_train, features_test, house_price_train, house_price_test = train_test_split(features, house_price, test_size=0.2, random_state=0)\n",
    "# features_ttrain, features_val, house_price_ttrain, house_price_val = train_test_split(features_train, house_price_train, test_size=0.2, random_state=0)\n"
   ]
  },
  {
   "cell_type": "code",
   "execution_count": 78,
   "metadata": {
    "id": "V0AFugw3HM6v",
    "outputId": "9cb7a4aa-415c-44ee-9254-2ff90b9396f7"
   },
   "outputs": [
    {
     "name": "stdout",
     "output_type": "stream",
     "text": [
      "Train data\n",
      " [[1500  100]\n",
      " [3500  220]\n",
      " [ 500   40]\n",
      " [4500  250]]\n",
      "\n",
      "Test data\n",
      " [[5500  300]\n",
      " [2500  200]]\n"
     ]
    }
   ],
   "source": [
    "print('Train data\\n', features_train)\n",
    "print()\n",
    "print('Test data\\n', features_test)"
   ]
  },
  {
   "cell_type": "code",
   "execution_count": 81,
   "metadata": {
    "id": "5-KSJG6BHM6w",
    "outputId": "5861f1d8-489d-412b-d234-a3c075ed9033"
   },
   "outputs": [
    {
     "data": {
      "text/html": [
       "<style>#sk-container-id-6 {color: black;background-color: white;}#sk-container-id-6 pre{padding: 0;}#sk-container-id-6 div.sk-toggleable {background-color: white;}#sk-container-id-6 label.sk-toggleable__label {cursor: pointer;display: block;width: 100%;margin-bottom: 0;padding: 0.3em;box-sizing: border-box;text-align: center;}#sk-container-id-6 label.sk-toggleable__label-arrow:before {content: \"▸\";float: left;margin-right: 0.25em;color: #696969;}#sk-container-id-6 label.sk-toggleable__label-arrow:hover:before {color: black;}#sk-container-id-6 div.sk-estimator:hover label.sk-toggleable__label-arrow:before {color: black;}#sk-container-id-6 div.sk-toggleable__content {max-height: 0;max-width: 0;overflow: hidden;text-align: left;background-color: #f0f8ff;}#sk-container-id-6 div.sk-toggleable__content pre {margin: 0.2em;color: black;border-radius: 0.25em;background-color: #f0f8ff;}#sk-container-id-6 input.sk-toggleable__control:checked~div.sk-toggleable__content {max-height: 200px;max-width: 100%;overflow: auto;}#sk-container-id-6 input.sk-toggleable__control:checked~label.sk-toggleable__label-arrow:before {content: \"▾\";}#sk-container-id-6 div.sk-estimator input.sk-toggleable__control:checked~label.sk-toggleable__label {background-color: #d4ebff;}#sk-container-id-6 div.sk-label input.sk-toggleable__control:checked~label.sk-toggleable__label {background-color: #d4ebff;}#sk-container-id-6 input.sk-hidden--visually {border: 0;clip: rect(1px 1px 1px 1px);clip: rect(1px, 1px, 1px, 1px);height: 1px;margin: -1px;overflow: hidden;padding: 0;position: absolute;width: 1px;}#sk-container-id-6 div.sk-estimator {font-family: monospace;background-color: #f0f8ff;border: 1px dotted black;border-radius: 0.25em;box-sizing: border-box;margin-bottom: 0.5em;}#sk-container-id-6 div.sk-estimator:hover {background-color: #d4ebff;}#sk-container-id-6 div.sk-parallel-item::after {content: \"\";width: 100%;border-bottom: 1px solid gray;flex-grow: 1;}#sk-container-id-6 div.sk-label:hover label.sk-toggleable__label {background-color: #d4ebff;}#sk-container-id-6 div.sk-serial::before {content: \"\";position: absolute;border-left: 1px solid gray;box-sizing: border-box;top: 0;bottom: 0;left: 50%;z-index: 0;}#sk-container-id-6 div.sk-serial {display: flex;flex-direction: column;align-items: center;background-color: white;padding-right: 0.2em;padding-left: 0.2em;position: relative;}#sk-container-id-6 div.sk-item {position: relative;z-index: 1;}#sk-container-id-6 div.sk-parallel {display: flex;align-items: stretch;justify-content: center;background-color: white;position: relative;}#sk-container-id-6 div.sk-item::before, #sk-container-id-6 div.sk-parallel-item::before {content: \"\";position: absolute;border-left: 1px solid gray;box-sizing: border-box;top: 0;bottom: 0;left: 50%;z-index: -1;}#sk-container-id-6 div.sk-parallel-item {display: flex;flex-direction: column;z-index: 1;position: relative;background-color: white;}#sk-container-id-6 div.sk-parallel-item:first-child::after {align-self: flex-end;width: 50%;}#sk-container-id-6 div.sk-parallel-item:last-child::after {align-self: flex-start;width: 50%;}#sk-container-id-6 div.sk-parallel-item:only-child::after {width: 0;}#sk-container-id-6 div.sk-dashed-wrapped {border: 1px dashed gray;margin: 0 0.4em 0.5em 0.4em;box-sizing: border-box;padding-bottom: 0.4em;background-color: white;}#sk-container-id-6 div.sk-label label {font-family: monospace;font-weight: bold;display: inline-block;line-height: 1.2em;}#sk-container-id-6 div.sk-label-container {text-align: center;}#sk-container-id-6 div.sk-container {/* jupyter's `normalize.less` sets `[hidden] { display: none; }` but bootstrap.min.css set `[hidden] { display: none !important; }` so we also need the `!important` here to be able to override the default hidden behavior on the sphinx rendered scikit-learn.org. See: https://github.com/scikit-learn/scikit-learn/issues/21755 */display: inline-block !important;position: relative;}#sk-container-id-6 div.sk-text-repr-fallback {display: none;}</style><div id=\"sk-container-id-6\" class=\"sk-top-container\"><div class=\"sk-text-repr-fallback\"><pre>LinearRegression()</pre><b>In a Jupyter environment, please rerun this cell to show the HTML representation or trust the notebook. <br />On GitHub, the HTML representation is unable to render, please try loading this page with nbviewer.org.</b></div><div class=\"sk-container\" hidden><div class=\"sk-item\"><div class=\"sk-estimator sk-toggleable\"><input class=\"sk-toggleable__control sk-hidden--visually\" id=\"sk-estimator-id-6\" type=\"checkbox\" checked><label for=\"sk-estimator-id-6\" class=\"sk-toggleable__label sk-toggleable__label-arrow\">LinearRegression</label><div class=\"sk-toggleable__content\"><pre>LinearRegression()</pre></div></div></div></div></div>"
      ],
      "text/plain": [
       "LinearRegression()"
      ]
     },
     "execution_count": 81,
     "metadata": {},
     "output_type": "execute_result"
    }
   ],
   "source": [
    "from sklearn.linear_model import LinearRegression\n",
    "my_linear_regression = LinearRegression()\n",
    "my_linear_regression.fit(features_train, house_price_train)"
   ]
  },
  {
   "cell_type": "markdown",
   "metadata": {
    "id": "B5IIE7elHM6w"
   },
   "source": [
    "Now let's create prediction over the test data set."
   ]
  },
  {
   "cell_type": "code",
   "execution_count": 82,
   "metadata": {
    "id": "aBkiGbwzHM6x"
   },
   "outputs": [],
   "source": [
    "house_price_pred = my_regression_model.predict(features_test)"
   ]
  },
  {
   "cell_type": "markdown",
   "metadata": {
    "id": "QY7buKAOHM6x"
   },
   "source": [
    "Now let's evaluate the model performance over test data."
   ]
  },
  {
   "cell_type": "code",
   "execution_count": 83,
   "metadata": {
    "id": "D7VnEozKHM6y",
    "outputId": "cf699610-19c4-454e-bd2e-606b4aba6447"
   },
   "outputs": [
    {
     "name": "stdout",
     "output_type": "stream",
     "text": [
      "Mean Absolute Error: 31008.353221957048\n",
      "Mean Squared Error: 1023516367.2139283\n",
      "Root Mean Squared Error: 31992.442345246607\n"
     ]
    }
   ],
   "source": [
    "from sklearn import metrics\n",
    "print('Mean Absolute Error:', metrics.mean_absolute_error(house_price_test, house_price_pred))\n",
    "print('Mean Squared Error:', metrics.mean_squared_error(house_price_test, house_price_pred))\n",
    "print('Root Mean Squared Error:', np.sqrt(metrics.mean_squared_error(house_price_test, house_price_pred)))"
   ]
  },
  {
   "cell_type": "code",
   "execution_count": null,
   "metadata": {},
   "outputs": [],
   "source": []
  }
 ],
 "metadata": {
  "colab": {
   "collapsed_sections": [],
   "name": "data analytics (1).ipynb",
   "provenance": []
  },
  "kernelspec": {
   "display_name": "Python 3 (ipykernel)",
   "language": "python",
   "name": "python3"
  },
  "language_info": {
   "codemirror_mode": {
    "name": "ipython",
    "version": 3
   },
   "file_extension": ".py",
   "mimetype": "text/x-python",
   "name": "python",
   "nbconvert_exporter": "python",
   "pygments_lexer": "ipython3",
   "version": "3.10.9"
  }
 },
 "nbformat": 4,
 "nbformat_minor": 1
}
