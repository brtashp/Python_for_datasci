{
 "cells": [
  {
   "cell_type": "code",
   "execution_count": 4,
   "metadata": {},
   "outputs": [],
   "source": [
    "import numpy as np\n",
    "import pandas as pd\n",
    "import matplotlib.pyplot as plt\n",
    "from sklearn import metrics\n",
    "from sklearn.model_selection import train_test_split\n",
    "from sklearn.svm import SVR\n",
    "from sklearn.preprocessing import StandardScaler"
   ]
  },
  {
   "cell_type": "markdown",
   "metadata": {
    "id": "Vis1cW6tSOTX"
   },
   "source": [
    "# Assignment 6"
   ]
  },
  {
   "cell_type": "markdown",
   "metadata": {
    "id": "_A2NWUOXKr2-"
   },
   "source": [
    "\n",
    "## Questions (10 pts)\n",
    "Use code from Assignment 4, questions 1 and 2 to \n",
    "* Read the mpg.csv file and create dataframe and name it 'mpg_df'\n",
    "* Perform the following data preprocessing and name the updated dataframe 'mpg_updated':\n",
    "  * Remove the 'car name' column\n",
    "  * Change the column name 'model year' to 'year'\n",
    "  * Drop rows with missing values."
   ]
  },
  {
   "cell_type": "code",
   "execution_count": 5,
   "metadata": {},
   "outputs": [
    {
     "data": {
      "text/html": [
       "<div>\n",
       "<style scoped>\n",
       "    .dataframe tbody tr th:only-of-type {\n",
       "        vertical-align: middle;\n",
       "    }\n",
       "\n",
       "    .dataframe tbody tr th {\n",
       "        vertical-align: top;\n",
       "    }\n",
       "\n",
       "    .dataframe thead th {\n",
       "        text-align: right;\n",
       "    }\n",
       "</style>\n",
       "<table border=\"1\" class=\"dataframe\">\n",
       "  <thead>\n",
       "    <tr style=\"text-align: right;\">\n",
       "      <th></th>\n",
       "      <th>mpg</th>\n",
       "      <th>cylinders</th>\n",
       "      <th>displacement</th>\n",
       "      <th>horsepower</th>\n",
       "      <th>weight</th>\n",
       "      <th>acceleration</th>\n",
       "      <th>year</th>\n",
       "      <th>origin</th>\n",
       "    </tr>\n",
       "  </thead>\n",
       "  <tbody>\n",
       "    <tr>\n",
       "      <th>0</th>\n",
       "      <td>18.0</td>\n",
       "      <td>8</td>\n",
       "      <td>307.0</td>\n",
       "      <td>130.0</td>\n",
       "      <td>3504</td>\n",
       "      <td>12.0</td>\n",
       "      <td>70</td>\n",
       "      <td>1</td>\n",
       "    </tr>\n",
       "    <tr>\n",
       "      <th>1</th>\n",
       "      <td>15.0</td>\n",
       "      <td>8</td>\n",
       "      <td>350.0</td>\n",
       "      <td>165.0</td>\n",
       "      <td>3693</td>\n",
       "      <td>11.5</td>\n",
       "      <td>70</td>\n",
       "      <td>1</td>\n",
       "    </tr>\n",
       "    <tr>\n",
       "      <th>2</th>\n",
       "      <td>18.0</td>\n",
       "      <td>8</td>\n",
       "      <td>318.0</td>\n",
       "      <td>150.0</td>\n",
       "      <td>3436</td>\n",
       "      <td>11.0</td>\n",
       "      <td>70</td>\n",
       "      <td>1</td>\n",
       "    </tr>\n",
       "    <tr>\n",
       "      <th>3</th>\n",
       "      <td>16.0</td>\n",
       "      <td>8</td>\n",
       "      <td>304.0</td>\n",
       "      <td>150.0</td>\n",
       "      <td>3433</td>\n",
       "      <td>12.0</td>\n",
       "      <td>70</td>\n",
       "      <td>1</td>\n",
       "    </tr>\n",
       "    <tr>\n",
       "      <th>4</th>\n",
       "      <td>17.0</td>\n",
       "      <td>8</td>\n",
       "      <td>302.0</td>\n",
       "      <td>140.0</td>\n",
       "      <td>3449</td>\n",
       "      <td>10.5</td>\n",
       "      <td>70</td>\n",
       "      <td>1</td>\n",
       "    </tr>\n",
       "  </tbody>\n",
       "</table>\n",
       "</div>"
      ],
      "text/plain": [
       "    mpg  cylinders  displacement  horsepower  weight  acceleration  year  \\\n",
       "0  18.0          8         307.0       130.0    3504          12.0    70   \n",
       "1  15.0          8         350.0       165.0    3693          11.5    70   \n",
       "2  18.0          8         318.0       150.0    3436          11.0    70   \n",
       "3  16.0          8         304.0       150.0    3433          12.0    70   \n",
       "4  17.0          8         302.0       140.0    3449          10.5    70   \n",
       "\n",
       "   origin  \n",
       "0       1  \n",
       "1       1  \n",
       "2       1  \n",
       "3       1  \n",
       "4       1  "
      ]
     },
     "execution_count": 5,
     "metadata": {},
     "output_type": "execute_result"
    }
   ],
   "source": [
    "mpg_df = pd.read_csv('mpg.csv')\n",
    "def Preprocessing(input_data):\n",
    "    data = input_data.copy()\n",
    "    data = data.drop(['car name'], axis=1)\n",
    "    data = data.rename(columns = {'model year': 'year'})\n",
    "    data = data.dropna()\n",
    "    return data\n",
    "\n",
    "#Report results\n",
    "mpg_updated = Preprocessing(mpg_df)\n",
    "mpg_updated.head()"
   ]
  },
  {
   "cell_type": "markdown",
   "metadata": {},
   "source": [
    "### Question 1: Prepare the following dataframes (1 points)\n",
    " use 'mpg_updated' to\n",
    "  * Create a dataframe called 'Y' incluiding only the column 'mpg' (this is the response variable)\n",
    "  * Create a dataframe called 'X' with the remaining columns (these are the features columns)\n",
    "  * Prepare 'X_train': random 80% rows of the dataframe 'X'\n",
    "  * Prepare 'X_test': random 20% rows of the dataframe 'X'\n",
    "  * Prepare 'Y_train': random 80% rows of the dataframe 'Y'\n",
    "  * Prepare 'Y_test': random 20% rows of the dataframe 'Y'"
   ]
  },
  {
   "cell_type": "code",
   "execution_count": 6,
   "metadata": {},
   "outputs": [],
   "source": [
    "# dataframe Y with only one column mpg - response variable\n",
    "Y = mpg_updated['mpg']\n",
    "\n",
    "# dataframe X with the rest of the columns - feature columns\n",
    "X = mpg_updated.drop(columns=['mpg'])\n",
    "\n",
    "# X_train with random 80% rows of dataframe X\n",
    "X_train = X.sample(frac=0.8, random_state=1)\n",
    "\n",
    "# X_test with random 20% rows of dataframe X \n",
    "X_test = X.sample(frac=0.2, random_state=1)\n",
    "\n",
    "# Y_train with random 80% rows of dataframe Y\n",
    "Y_train = Y.sample(frac=0.8, random_state=1)\n",
    "\n",
    "# Y_test with random 20% rows of dataframe Y\n",
    "Y_test = Y.sample(frac=0.2, random_state=1)"
   ]
  },
  {
   "cell_type": "markdown",
   "metadata": {},
   "source": [
    "### Q2: create a model, train, and report performance (3 points)\n",
    "* Create a support vector regression model from scikit learn package. Refer to: https://scikit-learn.org/stable/modules/generated/sklearn.svm.SVR.html#sklearn.svm.SVR. make sure to put `kernel='linear'` when creating your model.\n",
    "* Train your model using the train data that you created above. \n",
    "* Produce predictions over the test data.\n",
    "* Report the model performance over the test data by printing metrics of Mean Absolute Error, Mean Squared Error and Root Mean Squared Error."
   ]
  },
  {
   "cell_type": "code",
   "execution_count": null,
   "metadata": {},
   "outputs": [],
   "source": []
  },
  {
   "cell_type": "markdown",
   "metadata": {},
   "source": [
    "### Q3: repeat Q2, but use StandardScaler to scale your data (2 points)\n",
    "\n",
    "* Scale the data in the proper way and convert the scaled datasets into pandas dataframes (remember scaler.transform() returns numpy array not a dataframe)\n",
    "* Fit the model using the scaled train dataframe.\n",
    "* Produce predictions over the scaled test dataframe.\n",
    "* Report the model performance over the scaled test dataframe by printing metrics of Mean Absolute Error, Mean Squared Error and Root Mean Squared Error\n"
   ]
  },
  {
   "cell_type": "code",
   "execution_count": null,
   "metadata": {},
   "outputs": [],
   "source": []
  },
  {
   "cell_type": "markdown",
   "metadata": {},
   "source": [
    "### Q4: extract coef_ from the model and plot (2 points)\n",
    "\n",
    "* Extract and report the coefficients (i.e. coef_) of the model trained on the scaled data\n",
    "* Create a bar chart"
   ]
  },
  {
   "cell_type": "code",
   "execution_count": null,
   "metadata": {},
   "outputs": [],
   "source": []
  },
  {
   "cell_type": "code",
   "execution_count": null,
   "metadata": {},
   "outputs": [],
   "source": []
  },
  {
   "cell_type": "markdown",
   "metadata": {},
   "source": [
    "### Q5: plot scaled 'weight' vs 'mpg' (2 points)\n",
    "Create a scatter plot\n",
    "* where x is scaled values of 'weight' in your train dataset and y is the Y_train\n",
    "* Add a line to this plot. the line needs to pass through the average of normalized values of 'weight' and the average of Y_train. the slope of the line should be equal to the coef_ of 'weight' that you reported in the Question 4"
   ]
  },
  {
   "cell_type": "code",
   "execution_count": null,
   "metadata": {},
   "outputs": [],
   "source": []
  }
 ],
 "metadata": {
  "colab": {
   "collapsed_sections": [],
   "name": "Assignment_6.ipynb",
   "provenance": []
  },
  "kernelspec": {
   "display_name": "Python 3 (ipykernel)",
   "language": "python",
   "name": "python3"
  },
  "language_info": {
   "codemirror_mode": {
    "name": "ipython",
    "version": 3
   },
   "file_extension": ".py",
   "mimetype": "text/x-python",
   "name": "python",
   "nbconvert_exporter": "python",
   "pygments_lexer": "ipython3",
   "version": "3.10.9"
  }
 },
 "nbformat": 4,
 "nbformat_minor": 1
}
