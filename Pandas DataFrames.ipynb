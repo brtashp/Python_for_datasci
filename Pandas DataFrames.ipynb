{
 "cells": [
  {
   "cell_type": "markdown",
   "id": "9de86d64",
   "metadata": {},
   "source": [
    "# Data frames"
   ]
  },
  {
   "cell_type": "markdown",
   "id": "f983e3dc",
   "metadata": {},
   "source": [
    "## DataFrames in Pandas (Python Data Analysis Library)\n",
    "*  Pandas DataFrame is a two-dimensional data structure  \n",
    "*  Columns can be different data type\n",
    "*  Think of dataframe as a table. Each column represents a common data type\n",
    "*  It is relatively convenient to manipulate data and extract valuable information\n"
   ]
  },
  {
   "cell_type": "markdown",
   "id": "28d64a78",
   "metadata": {},
   "source": [
    "### Creating DataFrames\n",
    "**Dictionaries in Python**: We will use dictionaries in Python. Consider column names as “Keys” and list of items under that column as *“Values”*."
   ]
  },
  {
   "cell_type": "code",
   "execution_count": null,
   "id": "c1e2a72c",
   "metadata": {},
   "outputs": [],
   "source": [
    "import pandas as pd"
   ]
  },
  {
   "cell_type": "code",
   "execution_count": null,
   "id": "8c0fa5da",
   "metadata": {},
   "outputs": [],
   "source": [
    "pd.DataFrame({'First Name': ['James', 'Alexander', 'Ashley'], 'Last Name':['Cook', 'Bell', 'Mason'], 'Age': [38, 42, 23]})"
   ]
  },
  {
   "cell_type": "code",
   "execution_count": null,
   "id": "d5219f80",
   "metadata": {},
   "outputs": [],
   "source": [
    "my_dict = {'First Name': ['James', 'Alexander', 'Ashley'], \n",
    "           'Last Name':['Cook', 'Bell', 'Mason'], \n",
    "           'Age': [38, 42, 23]}"
   ]
  },
  {
   "cell_type": "code",
   "execution_count": null,
   "id": "7944884c",
   "metadata": {},
   "outputs": [],
   "source": [
    "df = pd.DataFrame(my_dict)\n",
    "df"
   ]
  },
  {
   "cell_type": "code",
   "execution_count": null,
   "id": "0d907667",
   "metadata": {},
   "outputs": [],
   "source": [
    "df.dtypes"
   ]
  },
  {
   "cell_type": "markdown",
   "id": "67e9cf58",
   "metadata": {},
   "source": [
    "Specify row indices externally"
   ]
  },
  {
   "cell_type": "code",
   "execution_count": null,
   "id": "c4a4fc95",
   "metadata": {},
   "outputs": [],
   "source": [
    "df = pd.DataFrame(my_dict, index=[1, 2, 3]) #numeric row indexing\n",
    "df"
   ]
  },
  {
   "cell_type": "code",
   "execution_count": null,
   "id": "a5b197e7",
   "metadata": {},
   "outputs": [],
   "source": [
    "type(df)"
   ]
  },
  {
   "cell_type": "code",
   "execution_count": null,
   "id": "1f2fd557",
   "metadata": {},
   "outputs": [],
   "source": [
    "help(df)"
   ]
  },
  {
   "cell_type": "markdown",
   "id": "ca101d0e",
   "metadata": {},
   "source": [
    "Specify row indices internally"
   ]
  },
  {
   "cell_type": "code",
   "execution_count": null,
   "id": "b86a35b7",
   "metadata": {},
   "outputs": [],
   "source": [
    "my_dict = {'First Name': {1: 'James', 2: 'Alexander', 3: 'Ashley'}, #1,2,3 will indicate row indices in dataframe\n",
    "           'Last Name': {1: 'Cook', 2: 'Bell', 3: 'Mason'}, \n",
    "           'Age': {1: 38, 2: 42, 3: 23}} \n",
    "df = pd.DataFrame(my_dict)\n",
    "df"
   ]
  },
  {
   "cell_type": "markdown",
   "id": "5b323386",
   "metadata": {},
   "source": [
    "### **Arrays in NumPy**\n",
    "Create a two-dimensional array"
   ]
  },
  {
   "cell_type": "code",
   "execution_count": null,
   "id": "4784d38c",
   "metadata": {},
   "outputs": [],
   "source": [
    "import numpy as np"
   ]
  },
  {
   "cell_type": "code",
   "execution_count": null,
   "id": "a4ce151d",
   "metadata": {},
   "outputs": [],
   "source": [
    "np.array([['James','Cook',38],     #3x3 matrix\n",
    "                ['Alexander','Bell',42], \n",
    "                ['Ashley','Mason',23]]) "
   ]
  },
  {
   "cell_type": "code",
   "execution_count": null,
   "id": "b001d617",
   "metadata": {},
   "outputs": [],
   "source": [
    "arr = np.array([['James','Cook',38],     #3x3 matrix\n",
    "                ['Alexander','Bell',42], \n",
    "                ['Ashley','Mason',23]]) \n",
    "df1 = pd.DataFrame(arr, columns = ['First Name','Last Name','Age'])\n",
    "df1"
   ]
  },
  {
   "cell_type": "markdown",
   "id": "96a6df20",
   "metadata": {},
   "source": [
    "A column of a DataFrame will always be of same type"
   ]
  },
  {
   "cell_type": "code",
   "execution_count": null,
   "id": "48ebaa78",
   "metadata": {},
   "outputs": [],
   "source": [
    "df1['Age'].dtype"
   ]
  },
  {
   "cell_type": "code",
   "execution_count": null,
   "id": "c8697924",
   "metadata": {},
   "outputs": [],
   "source": [
    "df1['Age']"
   ]
  },
  {
   "cell_type": "code",
   "execution_count": null,
   "id": "39e680b0",
   "metadata": {},
   "outputs": [],
   "source": [
    "df1.Age.dtype"
   ]
  },
  {
   "cell_type": "code",
   "execution_count": null,
   "id": "150b3eef",
   "metadata": {},
   "outputs": [],
   "source": [
    "df.dtypes"
   ]
  },
  {
   "cell_type": "markdown",
   "id": "898a51f9",
   "metadata": {},
   "source": [
    "### List of Lists"
   ]
  },
  {
   "cell_type": "code",
   "execution_count": null,
   "id": "4f3c3dbc",
   "metadata": {},
   "outputs": [],
   "source": [
    "myList = [['James','Cook',38],\n",
    "          ['Alexander','Bell',42],\n",
    "          ['Ashley','Mason',23]]\n",
    "myList"
   ]
  },
  {
   "cell_type": "code",
   "execution_count": null,
   "id": "dff69cf7",
   "metadata": {},
   "outputs": [],
   "source": [
    "df2 = pd.DataFrame(myList, columns = ['First Name', 'Last Name', 'Age'])\n",
    "df2"
   ]
  },
  {
   "cell_type": "code",
   "execution_count": null,
   "id": "c9011ae8",
   "metadata": {},
   "outputs": [],
   "source": [
    "df2.dtypes"
   ]
  },
  {
   "cell_type": "markdown",
   "id": "2c100780",
   "metadata": {},
   "source": [
    "Dataframe to dictionary"
   ]
  },
  {
   "cell_type": "code",
   "execution_count": null,
   "id": "58f8cf22",
   "metadata": {},
   "outputs": [],
   "source": [
    "my_dict = {'First Name':['James', 'Alexander', 'Ashley'],\n",
    "           'Last Name': ['Cook','Bell','Mason'],\n",
    "           'Age': [38, 42, 23]} \n",
    "\n",
    "df = pd.DataFrame(my_dict, index = ['a','b','c'])\n",
    "\n",
    "df"
   ]
  },
  {
   "cell_type": "code",
   "execution_count": null,
   "id": "815c1b7e",
   "metadata": {},
   "outputs": [],
   "source": [
    "df.values"
   ]
  },
  {
   "cell_type": "markdown",
   "id": "3227277d",
   "metadata": {},
   "source": [
    "Dataframe to list"
   ]
  },
  {
   "cell_type": "code",
   "execution_count": null,
   "id": "d7fa61a1",
   "metadata": {},
   "outputs": [],
   "source": [
    "my_list = df.values.tolist() # List of lists. we loose column names\n",
    "my_list"
   ]
  },
  {
   "cell_type": "markdown",
   "id": "4b955707",
   "metadata": {},
   "source": [
    "Dataframe to numpy array"
   ]
  },
  {
   "cell_type": "code",
   "execution_count": null,
   "id": "60bcd858",
   "metadata": {},
   "outputs": [],
   "source": [
    "my_array = df.values #to numpy array 3x3 matrix. we loose column names\n",
    "my_array"
   ]
  },
  {
   "cell_type": "markdown",
   "id": "8da21062",
   "metadata": {},
   "source": [
    "### DataFrame Indices"
   ]
  },
  {
   "cell_type": "code",
   "execution_count": null,
   "id": "d57e4000",
   "metadata": {},
   "outputs": [],
   "source": [
    "df"
   ]
  },
  {
   "cell_type": "code",
   "execution_count": null,
   "id": "53416083",
   "metadata": {},
   "outputs": [],
   "source": [
    "list(df.index)"
   ]
  },
  {
   "cell_type": "code",
   "execution_count": null,
   "id": "1b7c7aa5",
   "metadata": {},
   "outputs": [],
   "source": [
    "df = pd.DataFrame(\n",
    "     my_dict, \n",
    "     index=['First Row', 'Second Row', 'Third Row'])#string row indexing\n",
    "df"
   ]
  },
  {
   "cell_type": "code",
   "execution_count": null,
   "id": "ce60417d",
   "metadata": {},
   "outputs": [],
   "source": [
    "np_arr = np.array([1,2,3]) #homojeneous data type in numpy array\n",
    "df = pd.DataFrame(my_dict, index = np_arr) #set numpy array as index\n",
    "df"
   ]
  },
  {
   "cell_type": "code",
   "execution_count": null,
   "id": "aee5100e",
   "metadata": {},
   "outputs": [],
   "source": [
    "df.index"
   ]
  },
  {
   "cell_type": "code",
   "execution_count": null,
   "id": "995e4311",
   "metadata": {},
   "outputs": [],
   "source": [
    "df.index = ['One', 'Two', 'Three'] #if df is already created\n",
    "df"
   ]
  },
  {
   "cell_type": "code",
   "execution_count": null,
   "id": "b7519472",
   "metadata": {},
   "outputs": [],
   "source": [
    "myIndices = list(df.index) #assign dataframe indices to a variable as a list\n",
    "myIndices"
   ]
  },
  {
   "cell_type": "markdown",
   "id": "05696886",
   "metadata": {},
   "source": [
    ".set_index()"
   ]
  },
  {
   "cell_type": "code",
   "execution_count": null,
   "id": "b4fa5e81",
   "metadata": {},
   "outputs": [],
   "source": [
    "help(df.set_index)"
   ]
  },
  {
   "cell_type": "code",
   "execution_count": null,
   "id": "f76e7d4f",
   "metadata": {},
   "outputs": [],
   "source": [
    "df"
   ]
  },
  {
   "cell_type": "code",
   "execution_count": null,
   "id": "d526c7de",
   "metadata": {},
   "outputs": [],
   "source": [
    "df.set_index('Age', inplace = True)"
   ]
  },
  {
   "cell_type": "code",
   "execution_count": null,
   "id": "b5c0b546",
   "metadata": {},
   "outputs": [],
   "source": [
    "df_new = df.set_index('Age') # Creates a new dataframe with indices named “Age”\n",
    "df.set_index('Age', inplace = True) # Modifies existing dataframe\n",
    "df # Updated"
   ]
  },
  {
   "cell_type": "markdown",
   "id": "a46c1136",
   "metadata": {},
   "source": [
    "### DataFrame Columns"
   ]
  },
  {
   "cell_type": "code",
   "execution_count": null,
   "id": "34d5ad81",
   "metadata": {},
   "outputs": [],
   "source": [
    "df"
   ]
  },
  {
   "cell_type": "code",
   "execution_count": null,
   "id": "5cd0d664",
   "metadata": {},
   "outputs": [],
   "source": [
    "myColumns = list(df.columns) #assign dataframe columns to a variable as a list\n",
    "myColumns"
   ]
  },
  {
   "cell_type": "code",
   "execution_count": null,
   "id": "98ce9fe2",
   "metadata": {},
   "outputs": [],
   "source": [
    "df = pd.DataFrame(my_dict, index = [1, 2, 3])\n",
    "df.columns = ['First_Name', 'Last_Name', 'Age'] \n",
    "df"
   ]
  },
  {
   "cell_type": "code",
   "execution_count": null,
   "id": "f6a22222",
   "metadata": {},
   "outputs": [],
   "source": [
    "df[['First_Name']]"
   ]
  },
  {
   "cell_type": "code",
   "execution_count": null,
   "id": "ae125e52",
   "metadata": {},
   "outputs": [],
   "source": [
    "df_new = df[['First_Name']] #returns a new dataframe with a single column from df\n",
    "df_new"
   ]
  },
  {
   "cell_type": "code",
   "execution_count": null,
   "id": "633d1315",
   "metadata": {},
   "outputs": [],
   "source": [
    "df_new = df[['First_Name','Age']]\n",
    "df_new"
   ]
  },
  {
   "cell_type": "code",
   "execution_count": null,
   "id": "eb78ed9f",
   "metadata": {},
   "outputs": [],
   "source": [
    "df"
   ]
  },
  {
   "cell_type": "code",
   "execution_count": null,
   "id": "2b37e581",
   "metadata": {},
   "outputs": [],
   "source": [
    "df['name'] = ['Alex', 'Alex2', 'Alex3']\n",
    "df"
   ]
  },
  {
   "cell_type": "code",
   "execution_count": null,
   "id": "22e4283b",
   "metadata": {},
   "outputs": [],
   "source": [
    "ps = df['First_Name']\n",
    "ps"
   ]
  },
  {
   "cell_type": "code",
   "execution_count": null,
   "id": "12c99c0b",
   "metadata": {},
   "outputs": [],
   "source": [
    "type(ps)"
   ]
  },
  {
   "cell_type": "code",
   "execution_count": null,
   "id": "a3dae8f0",
   "metadata": {},
   "outputs": [],
   "source": [
    "df['name'] = 'Alex'\n",
    "df"
   ]
  },
  {
   "cell_type": "markdown",
   "id": "481952f6",
   "metadata": {},
   "source": [
    "Some Useful Column Functions"
   ]
  },
  {
   "cell_type": "code",
   "execution_count": null,
   "id": "11fb4c5f",
   "metadata": {},
   "outputs": [],
   "source": [
    "df.Age.mean() "
   ]
  },
  {
   "cell_type": "code",
   "execution_count": null,
   "id": "f1e9cbdb",
   "metadata": {},
   "outputs": [],
   "source": [
    "df['Age'].mean()"
   ]
  },
  {
   "cell_type": "code",
   "execution_count": null,
   "id": "8fe8d141",
   "metadata": {},
   "outputs": [],
   "source": [
    "np.sqrt(df['Age'])"
   ]
  },
  {
   "cell_type": "code",
   "execution_count": null,
   "id": "55bb93cc",
   "metadata": {},
   "outputs": [],
   "source": [
    "df['Age'].unique()"
   ]
  },
  {
   "cell_type": "markdown",
   "id": "cdb9c966",
   "metadata": {},
   "source": [
    "Loading Specific Columns"
   ]
  },
  {
   "cell_type": "code",
   "execution_count": null,
   "id": "c1043a51",
   "metadata": {},
   "outputs": [],
   "source": [
    "my_dict = {'First Name':['James', 'Alexander', 'Ashley'],\n",
    "           'Last Name': ['Cook','Bell','Mason'],\n",
    "           'Age': [38, 42, 23]} \n",
    "df = pd.DataFrame(my_dict) #loads all columns from the dictionary\n",
    "df"
   ]
  },
  {
   "cell_type": "code",
   "execution_count": null,
   "id": "ec20fecd",
   "metadata": {},
   "outputs": [],
   "source": [
    "df1 = pd.DataFrame(my_dict, columns = [\"First Name\", \"Last Name\"])\n",
    "df1 ##only specific columns are loaded (saves memory)"
   ]
  },
  {
   "cell_type": "markdown",
   "id": "96287f96",
   "metadata": {},
   "source": [
    "Deleting Columns"
   ]
  },
  {
   "cell_type": "code",
   "execution_count": null,
   "id": "fc4bfa64",
   "metadata": {},
   "outputs": [],
   "source": [
    "del df1[\"First Name\"] #removes a column from existing dataframe\n",
    "df1"
   ]
  },
  {
   "cell_type": "markdown",
   "id": "9a4a8e97",
   "metadata": {},
   "source": [
    "Drop Function: deleting row or columns"
   ]
  },
  {
   "cell_type": "code",
   "execution_count": null,
   "id": "84e678b4",
   "metadata": {},
   "outputs": [],
   "source": [
    "df"
   ]
  },
  {
   "cell_type": "code",
   "execution_count": null,
   "id": "cd57068a",
   "metadata": {},
   "outputs": [],
   "source": [
    "help(df.drop)"
   ]
  },
  {
   "cell_type": "code",
   "execution_count": null,
   "id": "7c1e8004",
   "metadata": {},
   "outputs": [],
   "source": [
    "df"
   ]
  },
  {
   "cell_type": "code",
   "execution_count": null,
   "id": "0e75dd5e",
   "metadata": {},
   "outputs": [],
   "source": [
    "df"
   ]
  },
  {
   "cell_type": "code",
   "execution_count": null,
   "id": "29746146",
   "metadata": {},
   "outputs": [],
   "source": [
    "new_df = df.drop(labels='Age', axis=1) #drops column “Age” and creates a new dataframe. Existing df stays intact. \n",
    "df.drop(labels ='Age', axis = 1, inplace = True) #drops column “Age” and updates existing df. default inplace=False\n",
    "df"
   ]
  },
  {
   "cell_type": "code",
   "execution_count": null,
   "id": "2c2955c4",
   "metadata": {},
   "outputs": [],
   "source": [
    "new_df = df.drop(0) #delete the first row and create a new dataframe.\n",
    "new_df "
   ]
  },
  {
   "cell_type": "code",
   "execution_count": null,
   "id": "9bf33319",
   "metadata": {},
   "outputs": [],
   "source": [
    "df.drop(1, inplace = True) #deletes row labeled 1 from df.\n",
    "df"
   ]
  },
  {
   "cell_type": "markdown",
   "id": "1736cb2d",
   "metadata": {},
   "source": [
    "Drops multiple columns and rows"
   ]
  },
  {
   "cell_type": "code",
   "execution_count": null,
   "id": "d200bbe8",
   "metadata": {},
   "outputs": [],
   "source": [
    "my_dict = {'First Name':['James', 'Alexander', 'Ashley'],\n",
    "           'Last Name': ['Cook','Bell','Mason'],\n",
    "           'Age': [38, 42, 23]} \n",
    "df = pd.DataFrame(my_dict)\n",
    "new_df = df.drop(labels = ['First Name','Age'], axis = 1) #drops multiple columns\n",
    "new_df"
   ]
  },
  {
   "cell_type": "code",
   "execution_count": null,
   "id": "2f8e50c8",
   "metadata": {},
   "outputs": [],
   "source": [
    "my_dict = {'First Name':['James', 'Alexander', 'Ashley'],\n",
    "           'Last Name': ['Cook','Bell','Mason'],\n",
    "           'Age': [38, 42, 23]} \n",
    "df = pd.DataFrame(my_dict, index=[4,5,6])\n",
    "new_df = df.drop(labels = [5], axis = 0)# delete rows with index “1“ and “2”\n",
    "new_df"
   ]
  },
  {
   "cell_type": "code",
   "execution_count": null,
   "id": "017b0281",
   "metadata": {},
   "outputs": [],
   "source": [
    "my_dict = {'First Name':['James', 'Alexander', 'Ashley'],\n",
    "           'Last Name': ['Cook','Bell','Mason'],\n",
    "           'Age': [38, 42, 23]} \n",
    "df = pd.DataFrame(my_dict)\n",
    "new_df = new_df = df.drop([1,2]) # delete rows with index “1“ and “2”\n",
    "new_df"
   ]
  },
  {
   "cell_type": "markdown",
   "id": "4680e305",
   "metadata": {},
   "source": [
    "### Dimensions"
   ]
  },
  {
   "cell_type": "code",
   "execution_count": null,
   "id": "ff7a1852",
   "metadata": {},
   "outputs": [],
   "source": [
    "my_dict = {'First Name':['James', 'Alexander', 'Ashley'],\n",
    "           'Last Name': ['Cook','Bell','Mason'],\n",
    "           'Age': [38, 42, 23]} \n",
    "\n",
    "df = pd.DataFrame(my_dict, index=[1, 2, 3])\n",
    "\n"
   ]
  },
  {
   "cell_type": "code",
   "execution_count": null,
   "id": "6c042264",
   "metadata": {},
   "outputs": [],
   "source": [
    "df.shape"
   ]
  },
  {
   "cell_type": "code",
   "execution_count": null,
   "id": "1cc05e5d",
   "metadata": {},
   "outputs": [],
   "source": [
    "dim = df.shape #stores dimension with a pair in a tuple\n",
    "dim"
   ]
  },
  {
   "cell_type": "code",
   "execution_count": null,
   "id": "b72109f7",
   "metadata": {},
   "outputs": [],
   "source": [
    "nrows = dim[0]\n",
    "nrows"
   ]
  },
  {
   "cell_type": "code",
   "execution_count": null,
   "id": "ae69f7c3",
   "metadata": {},
   "outputs": [],
   "source": [
    "ncols = dim[1]\n",
    "ncols"
   ]
  },
  {
   "cell_type": "markdown",
   "id": "5be63111",
   "metadata": {},
   "source": [
    "### Data Selection"
   ]
  },
  {
   "cell_type": "code",
   "execution_count": null,
   "id": "b55568f7",
   "metadata": {},
   "outputs": [],
   "source": [
    "my_dict = {'First Name':['James', 'Alexander', 'Ashley'],\n",
    "            'Last Name': ['Cook','Bell','Mason'],\n",
    "             'Age': [38, 42, 23]} \n",
    "df = pd.DataFrame(my_dict, index=[1,2,3])"
   ]
  },
  {
   "cell_type": "code",
   "execution_count": null,
   "id": "008b4628",
   "metadata": {},
   "outputs": [],
   "source": [
    "df"
   ]
  },
  {
   "cell_type": "markdown",
   "id": "d2d76967",
   "metadata": {},
   "source": [
    "Row slicing"
   ]
  },
  {
   "cell_type": "code",
   "execution_count": null,
   "id": "59d4732d",
   "metadata": {},
   "outputs": [],
   "source": [
    "df[0:2] #select first two rows and all columns and create a new dataframe"
   ]
  },
  {
   "cell_type": "code",
   "execution_count": null,
   "id": "a2c149dd",
   "metadata": {},
   "outputs": [],
   "source": [
    "df[0:2][['Age']] #select first two rows and column named “Age”, create a new data frame"
   ]
  },
  {
   "cell_type": "code",
   "execution_count": null,
   "id": "9577e380",
   "metadata": {},
   "outputs": [],
   "source": [
    "df[1:2][['Age','Last Name']] #select second row and columns “Age” and “Last Name”"
   ]
  },
  {
   "cell_type": "code",
   "execution_count": null,
   "id": "f954f32d",
   "metadata": {},
   "outputs": [],
   "source": [
    ".iloc\n",
    ".loc"
   ]
  },
  {
   "cell_type": "markdown",
   "id": "c6f52960",
   "metadata": {},
   "source": [
    "**Note:** We cannot select two or more rows without a sequential manner."
   ]
  },
  {
   "cell_type": "markdown",
   "id": "cee9ddb4",
   "metadata": {},
   "source": [
    "**.loc** selection by condition/label. Works for label-based data selection. You must specify rows and columns based on dataframe row and column labels"
   ]
  },
  {
   "cell_type": "code",
   "execution_count": null,
   "id": "0d7edf55",
   "metadata": {},
   "outputs": [],
   "source": [
    "my_dict = {'First Name':['James', 'Alexander', 'Ashley'],\n",
    "            'Last Name': ['Cook','Bell','Mason'],\n",
    "             'Age': [38, 42, 23]} \n",
    "df = pd.DataFrame(my_dict, index=[1,2,3])"
   ]
  },
  {
   "cell_type": "code",
   "execution_count": null,
   "id": "a1497a17",
   "metadata": {},
   "outputs": [],
   "source": [
    "df"
   ]
  },
  {
   "cell_type": "code",
   "execution_count": null,
   "id": "b5582933",
   "metadata": {},
   "outputs": [],
   "source": [
    "df.loc[df['Age']<40,:]"
   ]
  },
  {
   "cell_type": "code",
   "execution_count": null,
   "id": "4f51bb36",
   "metadata": {},
   "outputs": [],
   "source": [
    "df.loc[[1,3],:] #return two rows and all columns with index name 1 and 3"
   ]
  },
  {
   "cell_type": "code",
   "execution_count": null,
   "id": "57c9edc1",
   "metadata": {},
   "outputs": [],
   "source": [
    "df.loc[[1,3],:]"
   ]
  },
  {
   "cell_type": "code",
   "execution_count": null,
   "id": "1511612d",
   "metadata": {},
   "outputs": [],
   "source": [
    "df.loc[1:3,:] #this is not slicing. this means “select rows from 1 to 3”"
   ]
  },
  {
   "cell_type": "code",
   "execution_count": null,
   "id": "e90c02a3",
   "metadata": {
    "scrolled": true
   },
   "outputs": [],
   "source": [
    "df.loc[2:,:] # select all rows starting from row label 1 "
   ]
  },
  {
   "cell_type": "code",
   "execution_count": null,
   "id": "c1c80bbc",
   "metadata": {
    "scrolled": true
   },
   "outputs": [],
   "source": [
    "new_df = pd.DataFrame(my_dict, index = ['a','b','c'])\n",
    "new_df"
   ]
  },
  {
   "cell_type": "code",
   "execution_count": null,
   "id": "609b6378",
   "metadata": {},
   "outputs": [],
   "source": [
    "new_df.loc[1:3,:] #throws and error as data slicing is not allowed"
   ]
  },
  {
   "cell_type": "code",
   "execution_count": null,
   "id": "da87e27f",
   "metadata": {},
   "outputs": [],
   "source": [
    "new_df.loc[:'b',:] #return rows from a to c. "
   ]
  },
  {
   "cell_type": "code",
   "execution_count": null,
   "id": "8e3abe0e",
   "metadata": {},
   "outputs": [],
   "source": [
    "new_df"
   ]
  },
  {
   "cell_type": "markdown",
   "id": "4ea21896",
   "metadata": {},
   "source": [
    "**.iloc** Selection by position"
   ]
  },
  {
   "cell_type": "code",
   "execution_count": null,
   "id": "60e24358",
   "metadata": {},
   "outputs": [],
   "source": [
    "new_df.loc[1:3] #throws and error as data slicing is not allowed"
   ]
  },
  {
   "cell_type": "code",
   "execution_count": null,
   "id": "dc405cef",
   "metadata": {},
   "outputs": [],
   "source": [
    "new_df.iloc[0:2,[2]] #select from second row to third row"
   ]
  },
  {
   "cell_type": "code",
   "execution_count": null,
   "id": "ffef3fef",
   "metadata": {},
   "outputs": [],
   "source": [
    "new_df.iloc[[0,2]] #returns first row and third row"
   ]
  },
  {
   "cell_type": "code",
   "execution_count": null,
   "id": "afb8ae8a",
   "metadata": {},
   "outputs": [],
   "source": [
    "new_df.iloc[[0,2]].loc[:,['Age']] #returns first row and third row and column label “Age”"
   ]
  },
  {
   "cell_type": "code",
   "execution_count": null,
   "id": "e8e51b29",
   "metadata": {},
   "outputs": [],
   "source": [
    "new_df.iloc[[0, 2], [2]] #returns first row and third row and third column "
   ]
  },
  {
   "cell_type": "code",
   "execution_count": null,
   "id": "ce726385",
   "metadata": {},
   "outputs": [],
   "source": [
    "new_df.iloc[[0, 2], [0,2]] #returns more columns"
   ]
  },
  {
   "cell_type": "markdown",
   "id": "9262e85c",
   "metadata": {},
   "source": [
    "### Missing Values"
   ]
  },
  {
   "cell_type": "code",
   "execution_count": null,
   "id": "6dcf2454",
   "metadata": {},
   "outputs": [],
   "source": [
    "df = pd.DataFrame([[None, 2, None, 0],\n",
    "                   [3, 4, None, 1],\n",
    "                   [None, None, 3, 5],\n",
    "                   [None, 3, None, 4]],\n",
    "                   columns=list('ABCD'))\n",
    "df"
   ]
  },
  {
   "cell_type": "code",
   "execution_count": null,
   "id": "6f17b21b",
   "metadata": {},
   "outputs": [],
   "source": [
    "df.isna()"
   ]
  },
  {
   "cell_type": "code",
   "execution_count": null,
   "id": "4a90f6e1",
   "metadata": {},
   "outputs": [],
   "source": [
    "df.fillna(0)"
   ]
  },
  {
   "cell_type": "code",
   "execution_count": null,
   "id": "6ded4d33",
   "metadata": {},
   "outputs": [],
   "source": [
    "df"
   ]
  },
  {
   "cell_type": "code",
   "execution_count": null,
   "id": "7dbd7035",
   "metadata": {},
   "outputs": [],
   "source": [
    "df.fillna(method = 'bfill', axis='rows')"
   ]
  },
  {
   "cell_type": "code",
   "execution_count": null,
   "id": "9dda5f9e",
   "metadata": {},
   "outputs": [],
   "source": [
    "any(df.iloc[0,:].isna())"
   ]
  },
  {
   "cell_type": "markdown",
   "id": "8a5dea47",
   "metadata": {},
   "source": [
    "Replace all NaN elements in column 'A', 'B', 'C', and 'D', with the mean of each columns."
   ]
  },
  {
   "cell_type": "code",
   "execution_count": null,
   "id": "e268a697",
   "metadata": {},
   "outputs": [],
   "source": [
    "df"
   ]
  },
  {
   "cell_type": "code",
   "execution_count": null,
   "id": "7fd76018",
   "metadata": {},
   "outputs": [],
   "source": [
    "values = {\"A\": 'a', \"B\": 'b', \"D\": 'd'}\n",
    "df.fillna(value = values)"
   ]
  },
  {
   "cell_type": "code",
   "execution_count": null,
   "id": "f0c02a86",
   "metadata": {},
   "outputs": [],
   "source": [
    "{\"A\": np.std(df.A), \"B\": np.std(df.B), \"C\": np.mean(df.C), \"D\": np.mean(df.D)}"
   ]
  },
  {
   "cell_type": "code",
   "execution_count": null,
   "id": "facd5666",
   "metadata": {},
   "outputs": [],
   "source": [
    "values = {\"A\": np.mean(df.A), \"B\": np.std(df.B), \"C\": np.mean(df.C), \"D\": np.mean(df.D)}\n",
    "df.fillna(value = values)"
   ]
  },
  {
   "cell_type": "markdown",
   "id": "b1cfbbab",
   "metadata": {},
   "source": [
    "Only replace the first NaN element."
   ]
  },
  {
   "cell_type": "code",
   "execution_count": null,
   "id": "0aed90dd",
   "metadata": {},
   "outputs": [],
   "source": [
    "df"
   ]
  },
  {
   "cell_type": "code",
   "execution_count": null,
   "id": "960339f0",
   "metadata": {},
   "outputs": [],
   "source": [
    "df.fillna(value=values, limit=1)"
   ]
  },
  {
   "cell_type": "markdown",
   "id": "808aafa6",
   "metadata": {},
   "source": [
    "filling using another column"
   ]
  },
  {
   "cell_type": "code",
   "execution_count": null,
   "id": "3bcdfeed",
   "metadata": {},
   "outputs": [],
   "source": [
    "df['A'].fillna(df['D'])"
   ]
  },
  {
   "cell_type": "markdown",
   "id": "4fe86433",
   "metadata": {},
   "source": [
    "# Merge, Join, Concat\n",
    "* pd.concat([df1, df2]) for combining DataFrames across rows or columns\n",
    "* pd.merge(df1, df2) for combining data on common columns or indices\n",
    "* join newer version of pandas\n"
   ]
  },
  {
   "cell_type": "code",
   "execution_count": 294,
   "id": "65794fae",
   "metadata": {},
   "outputs": [
    {
     "data": {
      "text/html": [
       "<div>\n",
       "<style scoped>\n",
       "    .dataframe tbody tr th:only-of-type {\n",
       "        vertical-align: middle;\n",
       "    }\n",
       "\n",
       "    .dataframe tbody tr th {\n",
       "        vertical-align: top;\n",
       "    }\n",
       "\n",
       "    .dataframe thead th {\n",
       "        text-align: right;\n",
       "    }\n",
       "</style>\n",
       "<table border=\"1\" class=\"dataframe\">\n",
       "  <thead>\n",
       "    <tr style=\"text-align: right;\">\n",
       "      <th></th>\n",
       "      <th>ID</th>\n",
       "      <th>Name</th>\n",
       "      <th>Age</th>\n",
       "    </tr>\n",
       "  </thead>\n",
       "  <tbody>\n",
       "    <tr>\n",
       "      <th>0</th>\n",
       "      <td>1</td>\n",
       "      <td>John</td>\n",
       "      <td>25</td>\n",
       "    </tr>\n",
       "    <tr>\n",
       "      <th>1</th>\n",
       "      <td>2</td>\n",
       "      <td>Alice</td>\n",
       "      <td>30</td>\n",
       "    </tr>\n",
       "    <tr>\n",
       "      <th>2</th>\n",
       "      <td>3</td>\n",
       "      <td>Bob</td>\n",
       "      <td>35</td>\n",
       "    </tr>\n",
       "    <tr>\n",
       "      <th>3</th>\n",
       "      <td>4</td>\n",
       "      <td>Charlie</td>\n",
       "      <td>40</td>\n",
       "    </tr>\n",
       "    <tr>\n",
       "      <th>4</th>\n",
       "      <td>5</td>\n",
       "      <td>Eve</td>\n",
       "      <td>45</td>\n",
       "    </tr>\n",
       "  </tbody>\n",
       "</table>\n",
       "</div>"
      ],
      "text/plain": [
       "   ID     Name  Age\n",
       "0   1     John   25\n",
       "1   2    Alice   30\n",
       "2   3      Bob   35\n",
       "3   4  Charlie   40\n",
       "4   5      Eve   45"
      ]
     },
     "execution_count": 294,
     "metadata": {},
     "output_type": "execute_result"
    }
   ],
   "source": [
    "# Creating the first DataFrame\n",
    "data1 = {'ID': [1, 2, 3, 4, 5],\n",
    "         'Name': ['John', 'Alice', 'Bob', 'Charlie', 'Eve'],\n",
    "         'Age': [25, 30, 35, 40, 45]}\n",
    "df1 = pd.DataFrame(data1)\n",
    "df1"
   ]
  },
  {
   "cell_type": "code",
   "execution_count": 295,
   "id": "ca2ac719",
   "metadata": {},
   "outputs": [
    {
     "data": {
      "text/html": [
       "<div>\n",
       "<style scoped>\n",
       "    .dataframe tbody tr th:only-of-type {\n",
       "        vertical-align: middle;\n",
       "    }\n",
       "\n",
       "    .dataframe tbody tr th {\n",
       "        vertical-align: top;\n",
       "    }\n",
       "\n",
       "    .dataframe thead th {\n",
       "        text-align: right;\n",
       "    }\n",
       "</style>\n",
       "<table border=\"1\" class=\"dataframe\">\n",
       "  <thead>\n",
       "    <tr style=\"text-align: right;\">\n",
       "      <th></th>\n",
       "      <th>ID</th>\n",
       "      <th>Salary</th>\n",
       "      <th>Department</th>\n",
       "    </tr>\n",
       "  </thead>\n",
       "  <tbody>\n",
       "    <tr>\n",
       "      <th>0</th>\n",
       "      <td>3</td>\n",
       "      <td>5000</td>\n",
       "      <td>IT</td>\n",
       "    </tr>\n",
       "    <tr>\n",
       "      <th>1</th>\n",
       "      <td>4</td>\n",
       "      <td>6000</td>\n",
       "      <td>Finance</td>\n",
       "    </tr>\n",
       "    <tr>\n",
       "      <th>2</th>\n",
       "      <td>5</td>\n",
       "      <td>7000</td>\n",
       "      <td>Sales</td>\n",
       "    </tr>\n",
       "    <tr>\n",
       "      <th>3</th>\n",
       "      <td>6</td>\n",
       "      <td>8000</td>\n",
       "      <td>Marketing</td>\n",
       "    </tr>\n",
       "    <tr>\n",
       "      <th>4</th>\n",
       "      <td>7</td>\n",
       "      <td>9000</td>\n",
       "      <td>HR</td>\n",
       "    </tr>\n",
       "  </tbody>\n",
       "</table>\n",
       "</div>"
      ],
      "text/plain": [
       "   ID  Salary Department\n",
       "0   3    5000         IT\n",
       "1   4    6000    Finance\n",
       "2   5    7000      Sales\n",
       "3   6    8000  Marketing\n",
       "4   7    9000         HR"
      ]
     },
     "execution_count": 295,
     "metadata": {},
     "output_type": "execute_result"
    }
   ],
   "source": [
    "# Creating the second DataFrame\n",
    "data2 = {'ID': [3, 4, 5, 6, 7],\n",
    "         'Salary': [5000, 6000, 7000, 8000, 9000],\n",
    "         'Department': ['IT', 'Finance', 'Sales', 'Marketing', 'HR']}\n",
    "df2 = pd.DataFrame(data2)\n",
    "df2"
   ]
  },
  {
   "cell_type": "code",
   "execution_count": 296,
   "id": "33b41a71",
   "metadata": {},
   "outputs": [
    {
     "data": {
      "text/html": [
       "<div>\n",
       "<style scoped>\n",
       "    .dataframe tbody tr th:only-of-type {\n",
       "        vertical-align: middle;\n",
       "    }\n",
       "\n",
       "    .dataframe tbody tr th {\n",
       "        vertical-align: top;\n",
       "    }\n",
       "\n",
       "    .dataframe thead th {\n",
       "        text-align: right;\n",
       "    }\n",
       "</style>\n",
       "<table border=\"1\" class=\"dataframe\">\n",
       "  <thead>\n",
       "    <tr style=\"text-align: right;\">\n",
       "      <th></th>\n",
       "      <th>ID</th>\n",
       "      <th>Name</th>\n",
       "      <th>Age</th>\n",
       "      <th>Salary</th>\n",
       "      <th>Department</th>\n",
       "    </tr>\n",
       "  </thead>\n",
       "  <tbody>\n",
       "    <tr>\n",
       "      <th>0</th>\n",
       "      <td>1</td>\n",
       "      <td>John</td>\n",
       "      <td>25.0</td>\n",
       "      <td>NaN</td>\n",
       "      <td>NaN</td>\n",
       "    </tr>\n",
       "    <tr>\n",
       "      <th>1</th>\n",
       "      <td>2</td>\n",
       "      <td>Alice</td>\n",
       "      <td>30.0</td>\n",
       "      <td>NaN</td>\n",
       "      <td>NaN</td>\n",
       "    </tr>\n",
       "    <tr>\n",
       "      <th>2</th>\n",
       "      <td>3</td>\n",
       "      <td>Bob</td>\n",
       "      <td>35.0</td>\n",
       "      <td>NaN</td>\n",
       "      <td>NaN</td>\n",
       "    </tr>\n",
       "    <tr>\n",
       "      <th>3</th>\n",
       "      <td>4</td>\n",
       "      <td>Charlie</td>\n",
       "      <td>40.0</td>\n",
       "      <td>NaN</td>\n",
       "      <td>NaN</td>\n",
       "    </tr>\n",
       "    <tr>\n",
       "      <th>4</th>\n",
       "      <td>5</td>\n",
       "      <td>Eve</td>\n",
       "      <td>45.0</td>\n",
       "      <td>NaN</td>\n",
       "      <td>NaN</td>\n",
       "    </tr>\n",
       "    <tr>\n",
       "      <th>0</th>\n",
       "      <td>3</td>\n",
       "      <td>NaN</td>\n",
       "      <td>NaN</td>\n",
       "      <td>5000.0</td>\n",
       "      <td>IT</td>\n",
       "    </tr>\n",
       "    <tr>\n",
       "      <th>1</th>\n",
       "      <td>4</td>\n",
       "      <td>NaN</td>\n",
       "      <td>NaN</td>\n",
       "      <td>6000.0</td>\n",
       "      <td>Finance</td>\n",
       "    </tr>\n",
       "    <tr>\n",
       "      <th>2</th>\n",
       "      <td>5</td>\n",
       "      <td>NaN</td>\n",
       "      <td>NaN</td>\n",
       "      <td>7000.0</td>\n",
       "      <td>Sales</td>\n",
       "    </tr>\n",
       "    <tr>\n",
       "      <th>3</th>\n",
       "      <td>6</td>\n",
       "      <td>NaN</td>\n",
       "      <td>NaN</td>\n",
       "      <td>8000.0</td>\n",
       "      <td>Marketing</td>\n",
       "    </tr>\n",
       "    <tr>\n",
       "      <th>4</th>\n",
       "      <td>7</td>\n",
       "      <td>NaN</td>\n",
       "      <td>NaN</td>\n",
       "      <td>9000.0</td>\n",
       "      <td>HR</td>\n",
       "    </tr>\n",
       "  </tbody>\n",
       "</table>\n",
       "</div>"
      ],
      "text/plain": [
       "   ID     Name   Age  Salary Department\n",
       "0   1     John  25.0     NaN        NaN\n",
       "1   2    Alice  30.0     NaN        NaN\n",
       "2   3      Bob  35.0     NaN        NaN\n",
       "3   4  Charlie  40.0     NaN        NaN\n",
       "4   5      Eve  45.0     NaN        NaN\n",
       "0   3      NaN   NaN  5000.0         IT\n",
       "1   4      NaN   NaN  6000.0    Finance\n",
       "2   5      NaN   NaN  7000.0      Sales\n",
       "3   6      NaN   NaN  8000.0  Marketing\n",
       "4   7      NaN   NaN  9000.0         HR"
      ]
     },
     "execution_count": 296,
     "metadata": {},
     "output_type": "execute_result"
    }
   ],
   "source": [
    "pd.concat([df1, df2], axis=0)"
   ]
  },
  {
   "cell_type": "code",
   "execution_count": 297,
   "id": "027fa3cd",
   "metadata": {},
   "outputs": [
    {
     "data": {
      "text/html": [
       "<div>\n",
       "<style scoped>\n",
       "    .dataframe tbody tr th:only-of-type {\n",
       "        vertical-align: middle;\n",
       "    }\n",
       "\n",
       "    .dataframe tbody tr th {\n",
       "        vertical-align: top;\n",
       "    }\n",
       "\n",
       "    .dataframe thead th {\n",
       "        text-align: right;\n",
       "    }\n",
       "</style>\n",
       "<table border=\"1\" class=\"dataframe\">\n",
       "  <thead>\n",
       "    <tr style=\"text-align: right;\">\n",
       "      <th></th>\n",
       "      <th>ID</th>\n",
       "      <th>Name</th>\n",
       "      <th>Age</th>\n",
       "      <th>ID</th>\n",
       "      <th>Salary</th>\n",
       "      <th>Department</th>\n",
       "    </tr>\n",
       "  </thead>\n",
       "  <tbody>\n",
       "    <tr>\n",
       "      <th>0</th>\n",
       "      <td>1</td>\n",
       "      <td>John</td>\n",
       "      <td>25</td>\n",
       "      <td>3</td>\n",
       "      <td>5000</td>\n",
       "      <td>IT</td>\n",
       "    </tr>\n",
       "    <tr>\n",
       "      <th>1</th>\n",
       "      <td>2</td>\n",
       "      <td>Alice</td>\n",
       "      <td>30</td>\n",
       "      <td>4</td>\n",
       "      <td>6000</td>\n",
       "      <td>Finance</td>\n",
       "    </tr>\n",
       "    <tr>\n",
       "      <th>2</th>\n",
       "      <td>3</td>\n",
       "      <td>Bob</td>\n",
       "      <td>35</td>\n",
       "      <td>5</td>\n",
       "      <td>7000</td>\n",
       "      <td>Sales</td>\n",
       "    </tr>\n",
       "    <tr>\n",
       "      <th>3</th>\n",
       "      <td>4</td>\n",
       "      <td>Charlie</td>\n",
       "      <td>40</td>\n",
       "      <td>6</td>\n",
       "      <td>8000</td>\n",
       "      <td>Marketing</td>\n",
       "    </tr>\n",
       "    <tr>\n",
       "      <th>4</th>\n",
       "      <td>5</td>\n",
       "      <td>Eve</td>\n",
       "      <td>45</td>\n",
       "      <td>7</td>\n",
       "      <td>9000</td>\n",
       "      <td>HR</td>\n",
       "    </tr>\n",
       "  </tbody>\n",
       "</table>\n",
       "</div>"
      ],
      "text/plain": [
       "   ID     Name  Age  ID  Salary Department\n",
       "0   1     John   25   3    5000         IT\n",
       "1   2    Alice   30   4    6000    Finance\n",
       "2   3      Bob   35   5    7000      Sales\n",
       "3   4  Charlie   40   6    8000  Marketing\n",
       "4   5      Eve   45   7    9000         HR"
      ]
     },
     "execution_count": 297,
     "metadata": {},
     "output_type": "execute_result"
    }
   ],
   "source": [
    "pd.concat([df1, df2], axis=1)"
   ]
  },
  {
   "cell_type": "code",
   "execution_count": 298,
   "id": "912db5d0",
   "metadata": {},
   "outputs": [
    {
     "data": {
      "text/html": [
       "<div>\n",
       "<style scoped>\n",
       "    .dataframe tbody tr th:only-of-type {\n",
       "        vertical-align: middle;\n",
       "    }\n",
       "\n",
       "    .dataframe tbody tr th {\n",
       "        vertical-align: top;\n",
       "    }\n",
       "\n",
       "    .dataframe thead th {\n",
       "        text-align: right;\n",
       "    }\n",
       "</style>\n",
       "<table border=\"1\" class=\"dataframe\">\n",
       "  <thead>\n",
       "    <tr style=\"text-align: right;\">\n",
       "      <th></th>\n",
       "      <th>ID</th>\n",
       "      <th>Name</th>\n",
       "      <th>Age</th>\n",
       "    </tr>\n",
       "  </thead>\n",
       "  <tbody>\n",
       "    <tr>\n",
       "      <th>0</th>\n",
       "      <td>1</td>\n",
       "      <td>John</td>\n",
       "      <td>25</td>\n",
       "    </tr>\n",
       "    <tr>\n",
       "      <th>1</th>\n",
       "      <td>2</td>\n",
       "      <td>Alice</td>\n",
       "      <td>30</td>\n",
       "    </tr>\n",
       "    <tr>\n",
       "      <th>2</th>\n",
       "      <td>3</td>\n",
       "      <td>Bob</td>\n",
       "      <td>35</td>\n",
       "    </tr>\n",
       "    <tr>\n",
       "      <th>3</th>\n",
       "      <td>4</td>\n",
       "      <td>Charlie</td>\n",
       "      <td>40</td>\n",
       "    </tr>\n",
       "    <tr>\n",
       "      <th>4</th>\n",
       "      <td>5</td>\n",
       "      <td>Eve</td>\n",
       "      <td>45</td>\n",
       "    </tr>\n",
       "  </tbody>\n",
       "</table>\n",
       "</div>"
      ],
      "text/plain": [
       "   ID     Name  Age\n",
       "0   1     John   25\n",
       "1   2    Alice   30\n",
       "2   3      Bob   35\n",
       "3   4  Charlie   40\n",
       "4   5      Eve   45"
      ]
     },
     "execution_count": 298,
     "metadata": {},
     "output_type": "execute_result"
    }
   ],
   "source": [
    "df1"
   ]
  },
  {
   "cell_type": "code",
   "execution_count": 299,
   "id": "c40d4145",
   "metadata": {},
   "outputs": [
    {
     "data": {
      "text/html": [
       "<div>\n",
       "<style scoped>\n",
       "    .dataframe tbody tr th:only-of-type {\n",
       "        vertical-align: middle;\n",
       "    }\n",
       "\n",
       "    .dataframe tbody tr th {\n",
       "        vertical-align: top;\n",
       "    }\n",
       "\n",
       "    .dataframe thead th {\n",
       "        text-align: right;\n",
       "    }\n",
       "</style>\n",
       "<table border=\"1\" class=\"dataframe\">\n",
       "  <thead>\n",
       "    <tr style=\"text-align: right;\">\n",
       "      <th></th>\n",
       "      <th>ID</th>\n",
       "      <th>Salary</th>\n",
       "      <th>Department</th>\n",
       "    </tr>\n",
       "  </thead>\n",
       "  <tbody>\n",
       "    <tr>\n",
       "      <th>0</th>\n",
       "      <td>3</td>\n",
       "      <td>5000</td>\n",
       "      <td>IT</td>\n",
       "    </tr>\n",
       "    <tr>\n",
       "      <th>1</th>\n",
       "      <td>4</td>\n",
       "      <td>6000</td>\n",
       "      <td>Finance</td>\n",
       "    </tr>\n",
       "    <tr>\n",
       "      <th>2</th>\n",
       "      <td>5</td>\n",
       "      <td>7000</td>\n",
       "      <td>Sales</td>\n",
       "    </tr>\n",
       "    <tr>\n",
       "      <th>3</th>\n",
       "      <td>6</td>\n",
       "      <td>8000</td>\n",
       "      <td>Marketing</td>\n",
       "    </tr>\n",
       "    <tr>\n",
       "      <th>4</th>\n",
       "      <td>7</td>\n",
       "      <td>9000</td>\n",
       "      <td>HR</td>\n",
       "    </tr>\n",
       "  </tbody>\n",
       "</table>\n",
       "</div>"
      ],
      "text/plain": [
       "   ID  Salary Department\n",
       "0   3    5000         IT\n",
       "1   4    6000    Finance\n",
       "2   5    7000      Sales\n",
       "3   6    8000  Marketing\n",
       "4   7    9000         HR"
      ]
     },
     "execution_count": 299,
     "metadata": {},
     "output_type": "execute_result"
    }
   ],
   "source": [
    "df2"
   ]
  },
  {
   "cell_type": "markdown",
   "id": "4d9d3a7d",
   "metadata": {},
   "source": [
    "## Venn diagram"
   ]
  },
  {
   "attachments": {
    "image-2.png": {
     "image/png": "[encoded data removed]"
    }
   },
   "cell_type": "markdown",
   "id": "00c11aa3",
   "metadata": {},
   "source": [
    "![image-2.png](attachment:image-2.png)"
   ]
  },
  {
   "attachments": {
    "image.png": {
     "image/png": "[encoded data removed]"
    }
   },
   "cell_type": "markdown",
   "id": "4a05be44",
   "metadata": {},
   "source": [
    "![image.png](attachment:image.png)"
   ]
  },
  {
   "cell_type": "code",
   "execution_count": 307,
   "id": "e1745c99",
   "metadata": {
    "scrolled": true
   },
   "outputs": [
    {
     "data": {
      "text/html": [
       "<div>\n",
       "<style scoped>\n",
       "    .dataframe tbody tr th:only-of-type {\n",
       "        vertical-align: middle;\n",
       "    }\n",
       "\n",
       "    .dataframe tbody tr th {\n",
       "        vertical-align: top;\n",
       "    }\n",
       "\n",
       "    .dataframe thead th {\n",
       "        text-align: right;\n",
       "    }\n",
       "</style>\n",
       "<table border=\"1\" class=\"dataframe\">\n",
       "  <thead>\n",
       "    <tr style=\"text-align: right;\">\n",
       "      <th></th>\n",
       "      <th>ID</th>\n",
       "      <th>Name</th>\n",
       "      <th>Age</th>\n",
       "      <th>Salary</th>\n",
       "      <th>Department</th>\n",
       "    </tr>\n",
       "  </thead>\n",
       "  <tbody>\n",
       "    <tr>\n",
       "      <th>0</th>\n",
       "      <td>3</td>\n",
       "      <td>Bob</td>\n",
       "      <td>35</td>\n",
       "      <td>5000</td>\n",
       "      <td>IT</td>\n",
       "    </tr>\n",
       "    <tr>\n",
       "      <th>1</th>\n",
       "      <td>4</td>\n",
       "      <td>Charlie</td>\n",
       "      <td>40</td>\n",
       "      <td>6000</td>\n",
       "      <td>Finance</td>\n",
       "    </tr>\n",
       "    <tr>\n",
       "      <th>2</th>\n",
       "      <td>5</td>\n",
       "      <td>Eve</td>\n",
       "      <td>45</td>\n",
       "      <td>7000</td>\n",
       "      <td>Sales</td>\n",
       "    </tr>\n",
       "  </tbody>\n",
       "</table>\n",
       "</div>"
      ],
      "text/plain": [
       "   ID     Name  Age  Salary Department\n",
       "0   3      Bob   35    5000         IT\n",
       "1   4  Charlie   40    6000    Finance\n",
       "2   5      Eve   45    7000      Sales"
      ]
     },
     "execution_count": 307,
     "metadata": {},
     "output_type": "execute_result"
    }
   ],
   "source": [
    "pd.merge(df1, df2,  left_on='ID', right_on='ID', how='inner')"
   ]
  },
  {
   "cell_type": "code",
   "execution_count": 303,
   "id": "8a6e7edb",
   "metadata": {},
   "outputs": [
    {
     "name": "stdout",
     "output_type": "stream",
     "text": [
      "Help on function merge in module pandas.core.reshape.merge:\n",
      "\n",
      "merge(left: 'DataFrame | Series', right: 'DataFrame | Series', how: 'str' = 'inner', on: 'IndexLabel | None' = None, left_on: 'IndexLabel | None' = None, right_on: 'IndexLabel | None' = None, left_index: 'bool' = False, right_index: 'bool' = False, sort: 'bool' = False, suffixes: 'Suffixes' = ('_x', '_y'), copy: 'bool' = True, indicator: 'bool' = False, validate: 'str | None' = None) -> 'DataFrame'\n",
      "    Merge DataFrame or named Series objects with a database-style join.\n",
      "    \n",
      "    A named Series object is treated as a DataFrame with a single named column.\n",
      "    \n",
      "    The join is done on columns or indexes. If joining columns on\n",
      "    columns, the DataFrame indexes *will be ignored*. Otherwise if joining indexes\n",
      "    on indexes or indexes on a column or columns, the index will be passed on.\n",
      "    When performing a cross merge, no column specifications to merge on are\n",
      "    allowed.\n",
      "    \n",
      "    .. warning::\n",
      "    \n",
      "        If both key columns contain rows where the key is a null value, those\n",
      "        rows will be matched against each other. This is different from usual SQL\n",
      "        join behaviour and can lead to unexpected results.\n",
      "    \n",
      "    Parameters\n",
      "    ----------\n",
      "    left : DataFrame\n",
      "    right : DataFrame or named Series\n",
      "        Object to merge with.\n",
      "    how : {'left', 'right', 'outer', 'inner', 'cross'}, default 'inner'\n",
      "        Type of merge to be performed.\n",
      "    \n",
      "        * left: use only keys from left frame, similar to a SQL left outer join;\n",
      "          preserve key order.\n",
      "        * right: use only keys from right frame, similar to a SQL right outer join;\n",
      "          preserve key order.\n",
      "        * outer: use union of keys from both frames, similar to a SQL full outer\n",
      "          join; sort keys lexicographically.\n",
      "        * inner: use intersection of keys from both frames, similar to a SQL inner\n",
      "          join; preserve the order of the left keys.\n",
      "        * cross: creates the cartesian product from both frames, preserves the order\n",
      "          of the left keys.\n",
      "    \n",
      "          .. versionadded:: 1.2.0\n",
      "    \n",
      "    on : label or list\n",
      "        Column or index level names to join on. These must be found in both\n",
      "        DataFrames. If `on` is None and not merging on indexes then this defaults\n",
      "        to the intersection of the columns in both DataFrames.\n",
      "    left_on : label or list, or array-like\n",
      "        Column or index level names to join on in the left DataFrame. Can also\n",
      "        be an array or list of arrays of the length of the left DataFrame.\n",
      "        These arrays are treated as if they are columns.\n",
      "    right_on : label or list, or array-like\n",
      "        Column or index level names to join on in the right DataFrame. Can also\n",
      "        be an array or list of arrays of the length of the right DataFrame.\n",
      "        These arrays are treated as if they are columns.\n",
      "    left_index : bool, default False\n",
      "        Use the index from the left DataFrame as the join key(s). If it is a\n",
      "        MultiIndex, the number of keys in the other DataFrame (either the index\n",
      "        or a number of columns) must match the number of levels.\n",
      "    right_index : bool, default False\n",
      "        Use the index from the right DataFrame as the join key. Same caveats as\n",
      "        left_index.\n",
      "    sort : bool, default False\n",
      "        Sort the join keys lexicographically in the result DataFrame. If False,\n",
      "        the order of the join keys depends on the join type (how keyword).\n",
      "    suffixes : list-like, default is (\"_x\", \"_y\")\n",
      "        A length-2 sequence where each element is optionally a string\n",
      "        indicating the suffix to add to overlapping column names in\n",
      "        `left` and `right` respectively. Pass a value of `None` instead\n",
      "        of a string to indicate that the column name from `left` or\n",
      "        `right` should be left as-is, with no suffix. At least one of the\n",
      "        values must not be None.\n",
      "    copy : bool, default True\n",
      "        If False, avoid copy if possible.\n",
      "    indicator : bool or str, default False\n",
      "        If True, adds a column to the output DataFrame called \"_merge\" with\n",
      "        information on the source of each row. The column can be given a different\n",
      "        name by providing a string argument. The column will have a Categorical\n",
      "        type with the value of \"left_only\" for observations whose merge key only\n",
      "        appears in the left DataFrame, \"right_only\" for observations\n",
      "        whose merge key only appears in the right DataFrame, and \"both\"\n",
      "        if the observation's merge key is found in both DataFrames.\n",
      "    \n",
      "    validate : str, optional\n",
      "        If specified, checks if merge is of specified type.\n",
      "    \n",
      "        * \"one_to_one\" or \"1:1\": check if merge keys are unique in both\n",
      "          left and right datasets.\n",
      "        * \"one_to_many\" or \"1:m\": check if merge keys are unique in left\n",
      "          dataset.\n",
      "        * \"many_to_one\" or \"m:1\": check if merge keys are unique in right\n",
      "          dataset.\n",
      "        * \"many_to_many\" or \"m:m\": allowed, but does not result in checks.\n",
      "    \n",
      "    Returns\n",
      "    -------\n",
      "    DataFrame\n",
      "        A DataFrame of the two merged objects.\n",
      "    \n",
      "    See Also\n",
      "    --------\n",
      "    merge_ordered : Merge with optional filling/interpolation.\n",
      "    merge_asof : Merge on nearest keys.\n",
      "    DataFrame.join : Similar method using indices.\n",
      "    \n",
      "    Notes\n",
      "    -----\n",
      "    Support for specifying index levels as the `on`, `left_on`, and\n",
      "    `right_on` parameters was added in version 0.23.0\n",
      "    Support for merging named Series objects was added in version 0.24.0\n",
      "    \n",
      "    Examples\n",
      "    --------\n",
      "    >>> df1 = pd.DataFrame({'lkey': ['foo', 'bar', 'baz', 'foo'],\n",
      "    ...                     'value': [1, 2, 3, 5]})\n",
      "    >>> df2 = pd.DataFrame({'rkey': ['foo', 'bar', 'baz', 'foo'],\n",
      "    ...                     'value': [5, 6, 7, 8]})\n",
      "    >>> df1\n",
      "        lkey value\n",
      "    0   foo      1\n",
      "    1   bar      2\n",
      "    2   baz      3\n",
      "    3   foo      5\n",
      "    >>> df2\n",
      "        rkey value\n",
      "    0   foo      5\n",
      "    1   bar      6\n",
      "    2   baz      7\n",
      "    3   foo      8\n",
      "    \n",
      "    Merge df1 and df2 on the lkey and rkey columns. The value columns have\n",
      "    the default suffixes, _x and _y, appended.\n",
      "    \n",
      "    >>> df1.merge(df2, left_on='lkey', right_on='rkey')\n",
      "      lkey  value_x rkey  value_y\n",
      "    0  foo        1  foo        5\n",
      "    1  foo        1  foo        8\n",
      "    2  foo        5  foo        5\n",
      "    3  foo        5  foo        8\n",
      "    4  bar        2  bar        6\n",
      "    5  baz        3  baz        7\n",
      "    \n",
      "    Merge DataFrames df1 and df2 with specified left and right suffixes\n",
      "    appended to any overlapping columns.\n",
      "    \n",
      "    >>> df1.merge(df2, left_on='lkey', right_on='rkey',\n",
      "    ...           suffixes=('_left', '_right'))\n",
      "      lkey  value_left rkey  value_right\n",
      "    0  foo           1  foo            5\n",
      "    1  foo           1  foo            8\n",
      "    2  foo           5  foo            5\n",
      "    3  foo           5  foo            8\n",
      "    4  bar           2  bar            6\n",
      "    5  baz           3  baz            7\n",
      "    \n",
      "    Merge DataFrames df1 and df2, but raise an exception if the DataFrames have\n",
      "    any overlapping columns.\n",
      "    \n",
      "    >>> df1.merge(df2, left_on='lkey', right_on='rkey', suffixes=(False, False))\n",
      "    Traceback (most recent call last):\n",
      "    ...\n",
      "    ValueError: columns overlap but no suffix specified:\n",
      "        Index(['value'], dtype='object')\n",
      "    \n",
      "    >>> df1 = pd.DataFrame({'a': ['foo', 'bar'], 'b': [1, 2]})\n",
      "    >>> df2 = pd.DataFrame({'a': ['foo', 'baz'], 'c': [3, 4]})\n",
      "    >>> df1\n",
      "          a  b\n",
      "    0   foo  1\n",
      "    1   bar  2\n",
      "    >>> df2\n",
      "          a  c\n",
      "    0   foo  3\n",
      "    1   baz  4\n",
      "    \n",
      "    >>> df1.merge(df2, how='inner', on='a')\n",
      "          a  b  c\n",
      "    0   foo  1  3\n",
      "    \n",
      "    >>> df1.merge(df2, how='left', on='a')\n",
      "          a  b  c\n",
      "    0   foo  1  3.0\n",
      "    1   bar  2  NaN\n",
      "    \n",
      "    >>> df1 = pd.DataFrame({'left': ['foo', 'bar']})\n",
      "    >>> df2 = pd.DataFrame({'right': [7, 8]})\n",
      "    >>> df1\n",
      "        left\n",
      "    0   foo\n",
      "    1   bar\n",
      "    >>> df2\n",
      "        right\n",
      "    0   7\n",
      "    1   8\n",
      "    \n",
      "    >>> df1.merge(df2, how='cross')\n",
      "       left  right\n",
      "    0   foo      7\n",
      "    1   foo      8\n",
      "    2   bar      7\n",
      "    3   bar      8\n",
      "\n"
     ]
    }
   ],
   "source": [
    "help(pd.merge)"
   ]
  },
  {
   "cell_type": "code",
   "execution_count": 300,
   "id": "da4cfa35",
   "metadata": {},
   "outputs": [
    {
     "data": {
      "text/html": [
       "<div>\n",
       "<style scoped>\n",
       "    .dataframe tbody tr th:only-of-type {\n",
       "        vertical-align: middle;\n",
       "    }\n",
       "\n",
       "    .dataframe tbody tr th {\n",
       "        vertical-align: top;\n",
       "    }\n",
       "\n",
       "    .dataframe thead th {\n",
       "        text-align: right;\n",
       "    }\n",
       "</style>\n",
       "<table border=\"1\" class=\"dataframe\">\n",
       "  <thead>\n",
       "    <tr style=\"text-align: right;\">\n",
       "      <th></th>\n",
       "      <th>ID</th>\n",
       "      <th>Name</th>\n",
       "      <th>Age</th>\n",
       "    </tr>\n",
       "  </thead>\n",
       "  <tbody>\n",
       "    <tr>\n",
       "      <th>0</th>\n",
       "      <td>1</td>\n",
       "      <td>John</td>\n",
       "      <td>25</td>\n",
       "    </tr>\n",
       "    <tr>\n",
       "      <th>1</th>\n",
       "      <td>2</td>\n",
       "      <td>Alice</td>\n",
       "      <td>30</td>\n",
       "    </tr>\n",
       "    <tr>\n",
       "      <th>2</th>\n",
       "      <td>3</td>\n",
       "      <td>Bob</td>\n",
       "      <td>35</td>\n",
       "    </tr>\n",
       "    <tr>\n",
       "      <th>3</th>\n",
       "      <td>4</td>\n",
       "      <td>Charlie</td>\n",
       "      <td>40</td>\n",
       "    </tr>\n",
       "    <tr>\n",
       "      <th>4</th>\n",
       "      <td>5</td>\n",
       "      <td>Eve</td>\n",
       "      <td>45</td>\n",
       "    </tr>\n",
       "  </tbody>\n",
       "</table>\n",
       "</div>"
      ],
      "text/plain": [
       "   ID     Name  Age\n",
       "0   1     John   25\n",
       "1   2    Alice   30\n",
       "2   3      Bob   35\n",
       "3   4  Charlie   40\n",
       "4   5      Eve   45"
      ]
     },
     "execution_count": 300,
     "metadata": {},
     "output_type": "execute_result"
    }
   ],
   "source": [
    "df1"
   ]
  },
  {
   "cell_type": "code",
   "execution_count": 301,
   "id": "ac8791e6",
   "metadata": {},
   "outputs": [
    {
     "data": {
      "text/html": [
       "<div>\n",
       "<style scoped>\n",
       "    .dataframe tbody tr th:only-of-type {\n",
       "        vertical-align: middle;\n",
       "    }\n",
       "\n",
       "    .dataframe tbody tr th {\n",
       "        vertical-align: top;\n",
       "    }\n",
       "\n",
       "    .dataframe thead th {\n",
       "        text-align: right;\n",
       "    }\n",
       "</style>\n",
       "<table border=\"1\" class=\"dataframe\">\n",
       "  <thead>\n",
       "    <tr style=\"text-align: right;\">\n",
       "      <th></th>\n",
       "      <th>ID</th>\n",
       "      <th>Salary</th>\n",
       "      <th>Department</th>\n",
       "    </tr>\n",
       "  </thead>\n",
       "  <tbody>\n",
       "    <tr>\n",
       "      <th>0</th>\n",
       "      <td>3</td>\n",
       "      <td>5000</td>\n",
       "      <td>IT</td>\n",
       "    </tr>\n",
       "    <tr>\n",
       "      <th>1</th>\n",
       "      <td>4</td>\n",
       "      <td>6000</td>\n",
       "      <td>Finance</td>\n",
       "    </tr>\n",
       "    <tr>\n",
       "      <th>2</th>\n",
       "      <td>5</td>\n",
       "      <td>7000</td>\n",
       "      <td>Sales</td>\n",
       "    </tr>\n",
       "    <tr>\n",
       "      <th>3</th>\n",
       "      <td>6</td>\n",
       "      <td>8000</td>\n",
       "      <td>Marketing</td>\n",
       "    </tr>\n",
       "    <tr>\n",
       "      <th>4</th>\n",
       "      <td>7</td>\n",
       "      <td>9000</td>\n",
       "      <td>HR</td>\n",
       "    </tr>\n",
       "  </tbody>\n",
       "</table>\n",
       "</div>"
      ],
      "text/plain": [
       "   ID  Salary Department\n",
       "0   3    5000         IT\n",
       "1   4    6000    Finance\n",
       "2   5    7000      Sales\n",
       "3   6    8000  Marketing\n",
       "4   7    9000         HR"
      ]
     },
     "execution_count": 301,
     "metadata": {},
     "output_type": "execute_result"
    }
   ],
   "source": [
    "df2"
   ]
  },
  {
   "cell_type": "code",
   "execution_count": null,
   "id": "87ed7924",
   "metadata": {},
   "outputs": [],
   "source": []
  }
 ],
 "metadata": {
  "kernelspec": {
   "display_name": "Python 3 (ipykernel)",
   "language": "python",
   "name": "python3"
  },
  "language_info": {
   "codemirror_mode": {
    "name": "ipython",
    "version": 3
   },
   "file_extension": ".py",
   "mimetype": "text/x-python",
   "name": "python",
   "nbconvert_exporter": "python",
   "pygments_lexer": "ipython3",
   "version": "3.10.9"
  }
 },
 "nbformat": 4,
 "nbformat_minor": 5
}
