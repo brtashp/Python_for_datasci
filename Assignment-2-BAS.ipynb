{
 "cells": [
  {
   "cell_type": "markdown",
   "metadata": {
    "id": "uuH_ndNKWL87"
   },
   "source": [
    "# Assignment 2: Functions"
   ]
  },
  {
   "cell_type": "code",
   "execution_count": 31,
   "metadata": {
    "id": "_yR9WV3pLHpd"
   },
   "outputs": [],
   "source": [
    "import numpy as np\n",
    "import random as rd\n",
    "import pandas as pd\n",
    "import scipy.stats as st"
   ]
  },
  {
   "cell_type": "markdown",
   "metadata": {
    "id": "XXoA5UJaFEfH"
   },
   "source": [
    "### Question 1 (1 point):\n",
    "Given a list of numbers. Create a function that reports the average, standard deviation, minumum and maximum values as rows of a DataFrame. The indices of the dataframe will be ['average', 'standard deviation', 'minumum', 'maximum'] with a single column named 'output'.Test your function using the list $l1 = [50, 25, 47, 76, 21, 69, 87, 75, 81, 74, 73, 79, 85, 67, 86, 97, 90]$."
   ]
  },
  {
   "cell_type": "markdown",
   "metadata": {
    "id": "6mlitRUnVGW3"
   },
   "source": [
    "### Solution 1:"
   ]
  },
  {
   "cell_type": "code",
   "execution_count": 32,
   "metadata": {
    "id": "O3RnwaabWcO7"
   },
   "outputs": [
    {
     "name": "stdout",
     "output_type": "stream",
     "text": [
      "                       output\n",
      "average             69.529412\n",
      "standard deviation  21.071636\n",
      "minimum             21.000000\n",
      "maximum             97.000000\n"
     ]
    }
   ],
   "source": [
    "def calculate_stats(numbers):\n",
    "    average = np.mean(numbers)\n",
    "    std_dev = np.std(numbers)\n",
    "    minimum = np.min(numbers)\n",
    "    maximum = np.max(numbers)\n",
    "    # creates a function 'calculate_stats' and \n",
    "    # uses NumPy library to do statistical analysis \n",
    "    # we can then pass our list of numbers through the function to find the statistical values\n",
    "    \n",
    "    data = {'output': [average, std_dev, minimum, maximum]}\n",
    "    # creates a dictionary so we can then make a nice looking dataframe\n",
    "    df = pd.DataFrame(data, index=['average', 'standard deviation', 'minimum', 'maximum'])\n",
    "    \n",
    "    return df\n",
    "    # creates a dataframe with the corresponding rows and columns for our statistical analysis \n",
    "    # I am still a little confused with dictionaries so I wanted to test using it anyways\n",
    "    \n",
    "l1=[50,25,47,76,21,69,87,75,81,74,73,79,85,67,86,97,90]\n",
    "result = calculate_stats(l1)\n",
    "print(result)\n",
    "# runs the list through the function and then prints out the dataframe (converted from the dictionary)"
   ]
  },
  {
   "cell_type": "markdown",
   "metadata": {
    "id": "Jkwxavtf6V9v"
   },
   "source": [
    "### Question 2 (1 point):\n",
    "\n",
    "Given three lists of numbers, build a function that combines the three lists in a one sorted list. Test your function with $l1 = [1, 2, 3]$, $l2 = [3, 6, 7]$, and $l3 = [4, 5, 6]$.\n"
   ]
  },
  {
   "cell_type": "markdown",
   "metadata": {
    "id": "kRtNAvEU7qsB"
   },
   "source": [
    "### Solution 2:"
   ]
  },
  {
   "cell_type": "code",
   "execution_count": 33,
   "metadata": {
    "id": "8ouvh3Z2WfBx"
   },
   "outputs": [
    {
     "name": "stdout",
     "output_type": "stream",
     "text": [
      "Combined list: [1, 2, 3, 3, 4, 5, 6, 6, 7]\n"
     ]
    }
   ],
   "source": [
    "def combine_lists(list1, list2, list3):\n",
    "    # creates a function 'combine_lists', note: variables passed in the function\n",
    "    # do not need to be the same, sort of like Matlab notation \n",
    "    combined_list = list1 + list2 + list3\n",
    "    # 'adds' the lists together to make one long list\n",
    "    sorted_list = sorted(combined_list)\n",
    "    # uses the sorted() function to sort them numerically \n",
    "    return sorted_list\n",
    "    # ends the function\n",
    "\n",
    "𝑙1=[1,2,3]\n",
    "𝑙2=[3,6,7]\n",
    "l3=[4,5,6]\n",
    "sorted_combined_list = combine_lists(l1, l2, l3)\n",
    "# uses the function we created \n",
    "print('Combined list:', sorted_combined_list)"
   ]
  },
  {
   "cell_type": "markdown",
   "metadata": {
    "id": "28v20hsot7S9"
   },
   "source": [
    "### Question 3 (1 point):\n",
    "Given a list of numbers and a single target number, build a function that returns the indices of the two numbers from the list such that they add up to the target number. Each input would have exactly one solution: return the two indices as soon as you find a match (you do not care if there are multiple solutions. If you find a solution, it gets returned immediately). If no such numbers are found, return False. Make sure the two indices are not the same."
   ]
  },
  {
   "cell_type": "markdown",
   "metadata": {
    "id": "VI5m5zqTuDeA"
   },
   "source": [
    "### Solution 3:\n",
    "\n"
   ]
  },
  {
   "cell_type": "code",
   "execution_count": 34,
   "metadata": {},
   "outputs": [
    {
     "name": "stdout",
     "output_type": "stream",
     "text": [
      "[1, 4]\n"
     ]
    }
   ],
   "source": [
    "def find_indices(numbers, target): \n",
    "    # creates the function 'find_indices'\n",
    "    \n",
    "    seen = {} \n",
    "    # creates an empty dictionary so we can store numbers 'seen' during the interation \n",
    "    \n",
    "    for i, num in enumerate(numbers):\n",
    "        # for loop to pass through each number in the numbers variable \n",
    "        target_location = target - num\n",
    "        \n",
    "        if target_location in seen and seen[target_location] != i:\n",
    "            # conditional statement to check if target_location is stored in the seen dictionary\n",
    "            # note: != is the same as saying 'is not' like in other languages \n",
    "            return [seen[target_location], i]\n",
    "            # if true, pair of numbers is found that sums to the target, returns the list\n",
    "        \n",
    "        seen[num] = i\n",
    "    \n",
    "    return False\n",
    "# if no pair is found \n",
    "\n",
    "numbers = [2, 7, 11, 15, 3, 8]\n",
    "target = 10\n",
    "result = find_indices(numbers, target)\n",
    "# runs the function made \n",
    "print(result)\n",
    "# prints the result of the function created \n",
    "\n",
    "# I wanted to test a user input method below: \n",
    "#user_input = input(\"Enter a list of numbers (space-separated): \")\n",
    "#numbers = list(map(int, user_input.split()))\n",
    "#target = int(input(\"Enter the target number: \"))\n",
    "#result = find_indices(numbers, target)\n",
    "#text = f\"The location of 2 numbers in the list that add up to {target} is:\"\n",
    "#print(text, result)\n",
    "#print(\"If false is printed, there are no numbers that can add up to the target number\")"
   ]
  },
  {
   "cell_type": "markdown",
   "metadata": {
    "id": "LEw6912lEIwK"
   },
   "source": [
    "### Question 4 (2 point):\n",
    "\n",
    "Let $T$ be an exponential random variable, such that $\\sim$ exp($\\mu$). Build a function named **prob** to compute the probability $P(T \\leq x)$ for any possible $\\mu$ via simulation. Define $\\mu$ and $x$ and the number of runs (iterations) as arguments for the **prob** function. Finally, test your function with $\\mu = 10$ and $x = 15$.\n",
    "\n",
    "**Note:** Set a default value for number of runs (iterations) equal to 10000"
   ]
  },
  {
   "cell_type": "markdown",
   "metadata": {
    "id": "ovbbzhCIEpRG"
   },
   "source": [
    "### Solution 4:"
   ]
  },
  {
   "cell_type": "code",
   "execution_count": 35,
   "metadata": {
    "id": "g4mhWFumWiJd"
   },
   "outputs": [
    {
     "name": "stdout",
     "output_type": "stream",
     "text": [
      "Probability: 1.0\n"
     ]
    }
   ],
   "source": [
    "def prob(mu, x, runs):\n",
    "    # creates a function named 'prob' with input variables mu, x and runs\n",
    "    count = 0\n",
    "    # count is used to initialize \n",
    "    \n",
    "    for _ in range(runs):\n",
    "        # '_' is used as a conventional variable name when actual value of the variable \n",
    "        # is not going to be used within the loop, useful because it lets you know \n",
    "        # that the value is intentionally ignored (aka we dont need a loop variable like i)\n",
    "        # could also use 'for iteration in range(runs):', lets test it: \n",
    "    #for iteration in range(runs): # which aha works! \n",
    "        T = np.random.exponential(scale=1/mu)\n",
    "        # np.random.exponential gives random numbers from an exponential distribution \n",
    "        # scale gives the mean, which is the reciprocal of 1/mu, determines the mean of the exponential distribution \n",
    "        \n",
    "        if T <= x:\n",
    "            # checks if random number 'T' is </= x\n",
    "            # if true count is incremented by 1 \n",
    "            count += 1\n",
    "    \n",
    "    probability = count / runs\n",
    "    # probability = favorable outcomes/total number of outcomes, aka count/runs\n",
    "    return probability\n",
    "\n",
    "mu = 10\n",
    "x = 15\n",
    "runs = 10000\n",
    "\n",
    "result = prob(mu, x, runs)\n",
    "print(\"Probability:\", result)"
   ]
  },
  {
   "cell_type": "markdown",
   "metadata": {
    "id": "vpp3m9A4NHn_"
   },
   "source": [
    "### Question 5 (3 point):\n",
    "\n",
    "Let *$T_{i}$* a set of exponential random variables, such that $\\sim$ exp($\\mu_{i}$). Build a function named **probs** to compute the set of probabilities $P(T_{i} \\leq x)$ for $\\mu_{i}$ $\\in$ $\\{10,...,25\\}$ via simulation. Define $x$ as the only argument for the **probs** function. Return your outcomes as a two-columns DataFrame, *mu_values* and *probs* (indices be automatically set). Finally, test your function when $x = 15$.\n",
    "\n",
    "**Note:** \n",
    "* Use the prob function from previous problem in your new function\n",
    "\n"
   ]
  },
  {
   "cell_type": "markdown",
   "metadata": {
    "id": "aOBum0X5VReu"
   },
   "source": [
    "### Solution 5:"
   ]
  },
  {
   "cell_type": "code",
   "execution_count": 36,
   "metadata": {
    "id": "NK4yGxa7Wiy8"
   },
   "outputs": [
    {
     "name": "stdout",
     "output_type": "stream",
     "text": [
      "    mu_values  probs\n",
      "0          10    1.0\n",
      "1          11    1.0\n",
      "2          12    1.0\n",
      "3          13    1.0\n",
      "4          14    1.0\n",
      "5          15    1.0\n",
      "6          16    1.0\n",
      "7          17    1.0\n",
      "8          18    1.0\n",
      "9          19    1.0\n",
      "10         20    1.0\n",
      "11         21    1.0\n",
      "12         22    1.0\n",
      "13         23    1.0\n",
      "14         24    1.0\n",
      "15         25    1.0\n"
     ]
    }
   ],
   "source": [
    "def probs(x):\n",
    "    # creates function 'probs'\n",
    "    mu_values = range(10, 26)\n",
    "    # mu values between 10 and 25 (doesn't include 26)\n",
    "    probabilities = []\n",
    "    # creates an empty list so we can store probability values later\n",
    "\n",
    "    for mu in mu_values:\n",
    "        # iterates over each mu value \n",
    "        probability = prob(mu, x, 10000)\n",
    "        # uses previous function from Problem 4 \n",
    "        probabilities.append(probability)\n",
    "        # probability is appended to probabilities list\n",
    "\n",
    "    df = pd.DataFrame({'mu_values': mu_values, 'probs': probabilities})\n",
    "    # once iterated through mu_values, dataframe is created \n",
    "    return df\n",
    "\n",
    "x = 15\n",
    "result = probs(x)\n",
    "print(result)"
   ]
  },
  {
   "cell_type": "markdown",
   "metadata": {
    "id": "VBihgdGDczMQ"
   },
   "source": [
    "### Question 6 (2 point):\n",
    "\n",
    "Two fair dices are rolled: if the sum of the up faces is 3 or 11 or if they match (e.g., (1, 1)), the game is won. Build a function to estimate the probability of a win via simulation. Set the number of runs as an argument of the function. Finally, test the function using 10000 runs.\n"
   ]
  },
  {
   "cell_type": "markdown",
   "metadata": {
    "id": "Q_6d8GhVlijq"
   },
   "source": [
    "### Solution 6:"
   ]
  },
  {
   "cell_type": "code",
   "execution_count": 37,
   "metadata": {
    "id": "NS1Jw9p4WkdC"
   },
   "outputs": [
    {
     "name": "stdout",
     "output_type": "stream",
     "text": [
      "Estimated win probability: 0.274\n"
     ]
    }
   ],
   "source": [
    "def estimate_win_probability(runs):\n",
    "    win_count = 0\n",
    "\n",
    "    for _ in range(runs):\n",
    "        dice1 = rd.randint(1, 6)\n",
    "        #rd - comes from the random package\n",
    "        # randint - returns a random integer between 1 and 6 \n",
    "        dice2 = rd.randint(1, 6)\n",
    "        dice_sum = dice1 + dice2\n",
    "\n",
    "        if dice_sum == 3 or dice_sum == 11 or dice1 == dice2:\n",
    "            win_count += 1\n",
    "            # conditional statement to identify if the game is won \n",
    "            # adds a win to the win_count variable\n",
    "\n",
    "    win_probability = win_count / runs\n",
    "    # calculates the win probability by finding probability = instances/total\n",
    "    return win_probability\n",
    "\n",
    "# Testing the function with 10000 runs\n",
    "runs = 10000\n",
    "result = estimate_win_probability(runs)\n",
    "print(\"Estimated win probability:\", result)"
   ]
  }
 ],
 "metadata": {
  "colab": {
   "collapsed_sections": [],
   "name": "Assignment 2 (functions).ipynb",
   "provenance": []
  },
  "kernelspec": {
   "display_name": "Python 3 (ipykernel)",
   "language": "python",
   "name": "python3"
  },
  "language_info": {
   "codemirror_mode": {
    "name": "ipython",
    "version": 3
   },
   "file_extension": ".py",
   "mimetype": "text/x-python",
   "name": "python",
   "nbconvert_exporter": "python",
   "pygments_lexer": "ipython3",
   "version": "3.10.9"
  }
 },
 "nbformat": 4,
 "nbformat_minor": 1
}
