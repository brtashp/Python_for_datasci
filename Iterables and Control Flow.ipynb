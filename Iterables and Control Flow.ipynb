{
 "cells": [
  {
   "cell_type": "markdown",
   "id": "5fec0894",
   "metadata": {},
   "source": [
    "# Control Flow and Iterables"
   ]
  },
  {
   "cell_type": "markdown",
   "id": "3fa4dc4c",
   "metadata": {},
   "source": [
    "## **for** Loops"
   ]
  },
  {
   "cell_type": "markdown",
   "id": "38f2ec4c",
   "metadata": {},
   "source": [
    "Designed to work with lists and other sequence types. A for loop iterates through each element in a list in order."
   ]
  },
  {
   "cell_type": "code",
   "execution_count": 8,
   "id": "7042ded9",
   "metadata": {},
   "outputs": [],
   "source": [
    "my_list = [1, 3, 5, 7, 9]"
   ]
  },
  {
   "cell_type": "code",
   "execution_count": 9,
   "id": "d8983e6f",
   "metadata": {},
   "outputs": [
    {
     "name": "stdout",
     "output_type": "stream",
     "text": [
      "1\n",
      "2\n",
      "3\n",
      "6\n",
      "5\n",
      "10\n",
      "7\n",
      "14\n",
      "9\n",
      "18\n",
      "End\n"
     ]
    }
   ],
   "source": [
    "for element (i,j,k) in my_list:\n",
    "    print(element)\n",
    "    print(element*2)\n",
    "    \n",
    "print('End')"
   ]
  },
  {
   "cell_type": "code",
   "execution_count": 11,
   "id": "6bb56391",
   "metadata": {},
   "outputs": [
    {
     "name": "stdout",
     "output_type": "stream",
     "text": [
      "1\n",
      "2\n",
      "3\n",
      "6\n",
      "5\n",
      "10\n",
      "7\n",
      "14\n",
      "9\n",
      "18\n",
      "End\n"
     ]
    }
   ],
   "source": [
    "for i in my_list:\n",
    "    print(i)\n",
    "    print(i*2)\n",
    "    \n",
    "print('End')"
   ]
  },
  {
   "cell_type": "code",
   "execution_count": 10,
   "id": "dc2b52c3",
   "metadata": {},
   "outputs": [
    {
     "data": {
      "text/plain": [
       "9"
      ]
     },
     "execution_count": 10,
     "metadata": {},
     "output_type": "execute_result"
    }
   ],
   "source": [
    "element"
   ]
  },
  {
   "cell_type": "markdown",
   "id": "a12709f4",
   "metadata": {},
   "source": [
    "This program prints every element from the list. It enumerates every element of the list. For loops follow an appropriate indentation which refers to the spaces at the beginning of a code line. \n",
    "Any indented statement after the loop is included inside the loop.\n"
   ]
  },
  {
   "cell_type": "markdown",
   "id": "020d4355",
   "metadata": {},
   "source": [
    "### range()"
   ]
  },
  {
   "cell_type": "markdown",
   "id": "b7382ad6",
   "metadata": {},
   "source": [
    "**range:** creates list of indexing for loops"
   ]
  },
  {
   "cell_type": "markdown",
   "id": "ea7a1b79",
   "metadata": {},
   "source": [
    "**range($a$):** numbers from 0 to $a$, not including $a$"
   ]
  },
  {
   "cell_type": "code",
   "execution_count": 13,
   "id": "5de787d8",
   "metadata": {},
   "outputs": [
    {
     "data": {
      "text/plain": [
       "[0, 1, 2, 3, 4, 5, 6, 7, 8, 9]"
      ]
     },
     "execution_count": 13,
     "metadata": {},
     "output_type": "execute_result"
    }
   ],
   "source": [
    "list(range(10))"
   ]
  },
  {
   "cell_type": "markdown",
   "id": "aac7b743",
   "metadata": {},
   "source": [
    "**range($b$, $a$):** numbers from $b$ to $a$, not including $b$"
   ]
  },
  {
   "cell_type": "code",
   "execution_count": 14,
   "id": "9ced33ee",
   "metadata": {},
   "outputs": [
    {
     "data": {
      "text/plain": [
       "[5, 6, 7, 8, 9]"
      ]
     },
     "execution_count": 14,
     "metadata": {},
     "output_type": "execute_result"
    }
   ],
   "source": [
    "list(range(5,10))"
   ]
  },
  {
   "cell_type": "markdown",
   "id": "029d98b9",
   "metadata": {},
   "source": [
    "**range($b$, $a$, $c$):** numbers from $b$ to $a$, not including $a$, skipping every $c$ number"
   ]
  },
  {
   "cell_type": "code",
   "execution_count": 19,
   "id": "c5f6cbda",
   "metadata": {},
   "outputs": [
    {
     "data": {
      "text/plain": [
       "[1, 4, 7]"
      ]
     },
     "execution_count": 19,
     "metadata": {},
     "output_type": "execute_result"
    }
   ],
   "source": [
    "list(range(1,10,3))"
   ]
  },
  {
   "cell_type": "code",
   "execution_count": 31,
   "id": "323b9986",
   "metadata": {},
   "outputs": [
    {
     "ename": "TypeError",
     "evalue": "'float' object cannot be interpreted as an integer",
     "output_type": "error",
     "traceback": [
      "\u001b[1;31m---------------------------------------------------------------------------\u001b[0m",
      "\u001b[1;31mTypeError\u001b[0m                                 Traceback (most recent call last)",
      "Cell \u001b[1;32mIn[31], line 1\u001b[0m\n\u001b[1;32m----> 1\u001b[0m \u001b[38;5;28mlist\u001b[39m(\u001b[38;5;28;43mrange\u001b[39;49m\u001b[43m(\u001b[49m\u001b[38;5;241;43m0\u001b[39;49m\u001b[43m,\u001b[49m\u001b[38;5;241;43m-\u001b[39;49m\u001b[38;5;241;43m10\u001b[39;49m\u001b[43m,\u001b[49m\u001b[38;5;241;43m-\u001b[39;49m\u001b[38;5;241;43m1.5\u001b[39;49m\u001b[43m)\u001b[49m)\n",
      "\u001b[1;31mTypeError\u001b[0m: 'float' object cannot be interpreted as an integer"
     ]
    }
   ],
   "source": [
    "list(range(0,-10,-1.5))"
   ]
  },
  {
   "cell_type": "code",
   "execution_count": 32,
   "id": "4e5fd7eb",
   "metadata": {},
   "outputs": [],
   "source": [
    "import numpy as np"
   ]
  },
  {
   "cell_type": "code",
   "execution_count": 39,
   "id": "24c1c7a9",
   "metadata": {},
   "outputs": [
    {
     "data": {
      "text/plain": [
       "array([0. , 0.6, 1.2, 1.8, 2.4, 3. , 3.6, 4.2, 4.8, 5.4, 6. , 6.6, 7.2,\n",
       "       7.8, 8.4, 9. , 9.6])"
      ]
     },
     "execution_count": 39,
     "metadata": {},
     "output_type": "execute_result"
    }
   ],
   "source": [
    "np.arange(0,10,0.6)"
   ]
  },
  {
   "cell_type": "code",
   "execution_count": 40,
   "id": "69832944",
   "metadata": {},
   "outputs": [
    {
     "data": {
      "text/plain": [
       "[0, 1, 2, 3, 4, 5, 6, 7, 8, 9]"
      ]
     },
     "execution_count": 40,
     "metadata": {},
     "output_type": "execute_result"
    }
   ],
   "source": [
    "values = list(range(10))\n",
    "values"
   ]
  },
  {
   "cell_type": "code",
   "execution_count": 41,
   "id": "b44145ab",
   "metadata": {},
   "outputs": [],
   "source": [
    "squares = []"
   ]
  },
  {
   "cell_type": "code",
   "execution_count": 42,
   "id": "a4e55c42",
   "metadata": {},
   "outputs": [
    {
     "name": "stdout",
     "output_type": "stream",
     "text": [
      "Original values:  [0, 1, 2, 3, 4, 5, 6, 7, 8, 9]\n",
      "Squared values:   [0, 1, 4, 9, 16, 25, 36, 49, 64, 81]\n"
     ]
    }
   ],
   "source": [
    "for i in values:\n",
    "    squares.append(i**2) #append squares of elements\n",
    "print('Original values: ', values)\n",
    "print('Squared values:  ', squares)"
   ]
  },
  {
   "cell_type": "code",
   "execution_count": 43,
   "id": "c287d7e8",
   "metadata": {},
   "outputs": [
    {
     "data": {
      "text/plain": [
       "9"
      ]
     },
     "execution_count": 43,
     "metadata": {},
     "output_type": "execute_result"
    }
   ],
   "source": [
    "i"
   ]
  },
  {
   "cell_type": "code",
   "execution_count": 44,
   "id": "3a8d7511",
   "metadata": {},
   "outputs": [
    {
     "data": {
      "text/plain": [
       "[1, 2, 3, 4, 5, 6, 7, 8, 9, 10]"
      ]
     },
     "execution_count": 44,
     "metadata": {},
     "output_type": "execute_result"
    }
   ],
   "source": [
    "list(range(1,11))"
   ]
  },
  {
   "cell_type": "code",
   "execution_count": 47,
   "id": "9329af40",
   "metadata": {},
   "outputs": [
    {
     "name": "stdout",
     "output_type": "stream",
     "text": [
      "Original values:  [1, 2, 3, 4, 5, 6, 7, 8, 9, 10]\n",
      "Squared values:   [1, 4, 9, 16, 25, 36, 49, 64, 81, 100]\n"
     ]
    }
   ],
   "source": [
    "squares = []\n",
    "\n",
    "for i in np.arange(1,11): #two input entry\n",
    "    squares.append(i ** 2) #append squares of elements\n",
    "    \n",
    "print(\"Original values: \", list(range(1,11)))\n",
    "print(\"Squared values:  \", squares) #prints the same output as above given program without range function.\n"
   ]
  },
  {
   "cell_type": "code",
   "execution_count": 48,
   "id": "6c8bae4e",
   "metadata": {},
   "outputs": [
    {
     "data": {
      "text/plain": [
       "10"
      ]
     },
     "execution_count": 48,
     "metadata": {},
     "output_type": "execute_result"
    }
   ],
   "source": [
    "i"
   ]
  },
  {
   "cell_type": "markdown",
   "id": "fba9e729",
   "metadata": {},
   "source": [
    "Prints every element given in the list without using any index"
   ]
  },
  {
   "cell_type": "code",
   "execution_count": 49,
   "id": "6d8c4abd",
   "metadata": {},
   "outputs": [],
   "source": [
    "my_newList = ['abc', 1.2, 5, (1,2), [3,2], {'first key':'first value'}]\n"
   ]
  },
  {
   "cell_type": "code",
   "execution_count": 51,
   "id": "f84990b0",
   "metadata": {},
   "outputs": [
    {
     "data": {
      "text/plain": [
       "{'first key': 'first value'}"
      ]
     },
     "execution_count": 51,
     "metadata": {},
     "output_type": "execute_result"
    }
   ],
   "source": [
    "my_newList[5]"
   ]
  },
  {
   "cell_type": "code",
   "execution_count": 52,
   "id": "051ae134",
   "metadata": {},
   "outputs": [
    {
     "name": "stdout",
     "output_type": "stream",
     "text": [
      "abc\n",
      "1.2\n",
      "5\n",
      "(1, 2)\n",
      "[3, 2]\n",
      "{'first key': 'first value'}\n"
     ]
    }
   ],
   "source": [
    "for element in my_newList:\n",
    "    print(element)"
   ]
  },
  {
   "cell_type": "markdown",
   "id": "8a222f5c",
   "metadata": {},
   "source": [
    "Prints every element given in the list by using index"
   ]
  },
  {
   "cell_type": "code",
   "execution_count": 54,
   "id": "bc82d941",
   "metadata": {},
   "outputs": [
    {
     "data": {
      "text/plain": [
       "[0, 1, 2, 3, 4, 5]"
      ]
     },
     "execution_count": 54,
     "metadata": {},
     "output_type": "execute_result"
    }
   ],
   "source": [
    "list(range(len(my_newList)))"
   ]
  },
  {
   "cell_type": "code",
   "execution_count": 56,
   "id": "794d7379",
   "metadata": {},
   "outputs": [
    {
     "name": "stdout",
     "output_type": "stream",
     "text": [
      "abc\n",
      "(1, 2)\n"
     ]
    }
   ],
   "source": [
    "my_newList = ['abc', 1.2, 5, (1,2), [3,2], {'first key':'first value'}]\n",
    "for i in range(0,len(my_newList),3):\n",
    "    print(my_newList[i]) \n"
   ]
  },
  {
   "cell_type": "markdown",
   "id": "42e34029",
   "metadata": {},
   "source": [
    "Iterate a string"
   ]
  },
  {
   "cell_type": "code",
   "execution_count": 57,
   "id": "d1b33646",
   "metadata": {},
   "outputs": [
    {
     "name": "stdout",
     "output_type": "stream",
     "text": [
      "a\n",
      "H\n",
      "d\n",
      "H\n",
      "e\n",
      "f\n",
      "g\n"
     ]
    }
   ],
   "source": [
    "for char in 'aHdHefg': \n",
    "    print(char)\n"
   ]
  },
  {
   "cell_type": "markdown",
   "id": "bc55a6fb",
   "metadata": {},
   "source": [
    "Iterate a dictionary"
   ]
  },
  {
   "cell_type": "code",
   "execution_count": 61,
   "id": "56c3dbf5",
   "metadata": {},
   "outputs": [
    {
     "data": {
      "text/plain": [
       "{'First Name': ['James', 'Alexander', 'Ashley'],\n",
       " 'Last Name': ['Cook', 'Bell', 'Mason'],\n",
       " 'Age': [38, 42, 23]}"
      ]
     },
     "execution_count": 61,
     "metadata": {},
     "output_type": "execute_result"
    }
   ],
   "source": [
    "my_dict = {'First Name':['James', 'Alexander', 'Ashley'],\n",
    "           'Last Name': ['Cook','Bell','Mason'],\n",
    "           'Age': [38, 42, 23]} \n",
    "my_dict"
   ]
  },
  {
   "cell_type": "code",
   "execution_count": 64,
   "id": "e763a472",
   "metadata": {},
   "outputs": [
    {
     "data": {
      "text/plain": [
       "['James', 'Alexander', 'Ashley']"
      ]
     },
     "execution_count": 64,
     "metadata": {},
     "output_type": "execute_result"
    }
   ],
   "source": [
    "my_dict['First Name']"
   ]
  },
  {
   "cell_type": "code",
   "execution_count": 65,
   "id": "dec3a3c7",
   "metadata": {},
   "outputs": [
    {
     "name": "stdout",
     "output_type": "stream",
     "text": [
      "First Name\n",
      "Last Name\n",
      "Age\n"
     ]
    }
   ],
   "source": [
    "for key in my_dict:\n",
    "    print(key) #prints keys"
   ]
  },
  {
   "cell_type": "code",
   "execution_count": 66,
   "id": "bb9b770e",
   "metadata": {},
   "outputs": [
    {
     "name": "stdout",
     "output_type": "stream",
     "text": [
      "['James', 'Alexander', 'Ashley']\n",
      "['Cook', 'Bell', 'Mason']\n",
      "[38, 42, 23]\n"
     ]
    }
   ],
   "source": [
    "for key in my_dict:\n",
    "    print(my_dict[key]) #prints values for each key\n"
   ]
  },
  {
   "cell_type": "code",
   "execution_count": 68,
   "id": "8da11994",
   "metadata": {},
   "outputs": [
    {
     "name": "stdout",
     "output_type": "stream",
     "text": [
      "First Name\n",
      "Last Name\n",
      "Age\n"
     ]
    }
   ],
   "source": [
    "for key in my_dict.keys():\n",
    "    print(key)"
   ]
  },
  {
   "cell_type": "code",
   "execution_count": 69,
   "id": "f602a1fd",
   "metadata": {},
   "outputs": [
    {
     "data": {
      "text/plain": [
       "dict_values([['James', 'Alexander', 'Ashley'], ['Cook', 'Bell', 'Mason'], [38, 42, 23]])"
      ]
     },
     "execution_count": 69,
     "metadata": {},
     "output_type": "execute_result"
    }
   ],
   "source": [
    "my_dict.values()"
   ]
  },
  {
   "cell_type": "code",
   "execution_count": 70,
   "id": "b5a5a7b9",
   "metadata": {},
   "outputs": [
    {
     "name": "stdout",
     "output_type": "stream",
     "text": [
      "['James', 'Alexander', 'Ashley']\n",
      "['Cook', 'Bell', 'Mason']\n",
      "[38, 42, 23]\n"
     ]
    }
   ],
   "source": [
    "for value in my_dict.values():\n",
    "    print(value)"
   ]
  },
  {
   "cell_type": "code",
   "execution_count": 71,
   "id": "18152130",
   "metadata": {},
   "outputs": [
    {
     "data": {
      "text/plain": [
       "dict_items([('First Name', ['James', 'Alexander', 'Ashley']), ('Last Name', ['Cook', 'Bell', 'Mason']), ('Age', [38, 42, 23])])"
      ]
     },
     "execution_count": 71,
     "metadata": {},
     "output_type": "execute_result"
    }
   ],
   "source": [
    "my_dict.items()"
   ]
  },
  {
   "cell_type": "code",
   "execution_count": 73,
   "id": "89720f4a",
   "metadata": {},
   "outputs": [
    {
     "name": "stdout",
     "output_type": "stream",
     "text": [
      "First Name ::: ['James', 'Alexander', 'Ashley']\n",
      "Last Name ::: ['Cook', 'Bell', 'Mason']\n",
      "Age ::: [38, 42, 23]\n"
     ]
    }
   ],
   "source": [
    "for key, value in my_dict.items():\n",
    "    print(key, ':::', value)"
   ]
  },
  {
   "cell_type": "code",
   "execution_count": 75,
   "id": "85264b70",
   "metadata": {},
   "outputs": [
    {
     "data": {
      "text/plain": [
       "[38, 42, 23]"
      ]
     },
     "execution_count": 75,
     "metadata": {},
     "output_type": "execute_result"
    }
   ],
   "source": [
    "value"
   ]
  },
  {
   "cell_type": "code",
   "execution_count": 84,
   "id": "59c25dec",
   "metadata": {},
   "outputs": [
    {
     "name": "stdout",
     "output_type": "stream",
     "text": [
      "1.1\n",
      "2.1\n"
     ]
    }
   ],
   "source": [
    "my_list = [[1, 1.1, 3],\n",
    "           [2, 2.1, 4]]\n",
    "for i in my_list:\n",
    "    print(i[1])\n",
    "    "
   ]
  },
  {
   "cell_type": "code",
   "execution_count": 82,
   "id": "5c3b3c93",
   "metadata": {},
   "outputs": [
    {
     "name": "stdout",
     "output_type": "stream",
     "text": [
      "1\n",
      "1.1\n",
      "2\n",
      "2.1\n"
     ]
    }
   ],
   "source": [
    "for i in my_list:\n",
    "    for j in i:\n",
    "        print(j)"
   ]
  },
  {
   "cell_type": "code",
   "execution_count": 85,
   "id": "458e97a6",
   "metadata": {},
   "outputs": [
    {
     "name": "stdout",
     "output_type": "stream",
     "text": [
      "1 1.1 3\n",
      "2 2.1 4\n"
     ]
    }
   ],
   "source": [
    "for i_0, i_1, check in my_list:\n",
    "    print(i_0, i_1, check)"
   ]
  },
  {
   "cell_type": "code",
   "execution_count": 86,
   "id": "705583a4",
   "metadata": {},
   "outputs": [
    {
     "data": {
      "text/plain": [
       "4"
      ]
     },
     "execution_count": 86,
     "metadata": {},
     "output_type": "execute_result"
    }
   ],
   "source": [
    "check"
   ]
  },
  {
   "cell_type": "markdown",
   "id": "8b79bde5",
   "metadata": {},
   "source": [
    "### enumerate()"
   ]
  },
  {
   "cell_type": "markdown",
   "id": "3a29b11c",
   "metadata": {},
   "source": [
    "Given any sequence type, enumerate() will return a list of tuples containing an index and an element of the list. "
   ]
  },
  {
   "cell_type": "code",
   "execution_count": 87,
   "id": "66c075f9",
   "metadata": {},
   "outputs": [
    {
     "data": {
      "text/plain": [
       "[(0, 'eggs'), (1, 'hamburgers'), (2, 'steak and potatos')]"
      ]
     },
     "execution_count": 87,
     "metadata": {},
     "output_type": "execute_result"
    }
   ],
   "source": [
    "foodList = ['eggs', 'hamburgers', 'steak and potatos'] \n",
    "myList = enumerate(foodList)\n",
    "list(myList)"
   ]
  },
  {
   "cell_type": "code",
   "execution_count": 89,
   "id": "95a112c1",
   "metadata": {},
   "outputs": [
    {
     "name": "stdout",
     "output_type": "stream",
     "text": [
      "[(0, (0, 'eggs')), (1, (1, 'hamburgers')), (2, (2, 'steak and potatos'))]\n"
     ]
    }
   ],
   "source": [
    "myList = []\n",
    "index = 0\n",
    "\n",
    "for element in enumerate(foodList):\n",
    "    myTuple = (index, element)\n",
    "    myList.append(myTuple)\n",
    "    index = index + 1\n",
    "    \n",
    "print(myList)\n"
   ]
  },
  {
   "cell_type": "code",
   "execution_count": 91,
   "id": "e1a807fb",
   "metadata": {},
   "outputs": [
    {
     "data": {
      "text/plain": [
       "{'First Name': ['James', 'Alexander', 'Ashley'],\n",
       " 'Last Name': ['Cook', 'Bell', 'Mason'],\n",
       " 'Age': [38, 42, 23]}"
      ]
     },
     "execution_count": 91,
     "metadata": {},
     "output_type": "execute_result"
    }
   ],
   "source": [
    "my_dict"
   ]
  },
  {
   "cell_type": "code",
   "execution_count": 93,
   "id": "94304d2e",
   "metadata": {},
   "outputs": [
    {
     "name": "stdout",
     "output_type": "stream",
     "text": [
      "0   ('First Name', ['James', 'Alexander', 'Ashley'])\n",
      "1   ('Last Name', ['Cook', 'Bell', 'Mason'])\n",
      "2   ('Age', [38, 42, 23])\n"
     ]
    }
   ],
   "source": [
    "for index, element in enumerate(my_dict.items()): #enumerate is often used when we need both index and element of a list\n",
    "    print(index,' ',element)"
   ]
  },
  {
   "cell_type": "markdown",
   "id": "5cdc409e",
   "metadata": {},
   "source": [
    "## Conditional statements (**if, elif, else**)"
   ]
  },
  {
   "cell_type": "markdown",
   "id": "37da49ce",
   "metadata": {},
   "source": [
    "These statements are used to determine which branch in your code to follow."
   ]
  },
  {
   "cell_type": "markdown",
   "id": "61bbdf61",
   "metadata": {},
   "source": [
    "The code that follows if or else must be indented. "
   ]
  },
  {
   "cell_type": "code",
   "execution_count": 98,
   "id": "7bc88444",
   "metadata": {},
   "outputs": [
    {
     "name": "stdout",
     "output_type": "stream",
     "text": [
      "Please input a number: 1\n",
      "x and y are equal.\n",
      "End\n"
     ]
    }
   ],
   "source": [
    "x = 1\n",
    "y = int(input(\"Please input a number: \"))\n",
    "\n",
    "if x == y:\n",
    "    print(\"x and y are equal.\")\n",
    "else:\n",
    "    print(\"x and y are not equal.\") \n",
    "    \n",
    "print(\"End\")"
   ]
  },
  {
   "cell_type": "code",
   "execution_count": null,
   "id": "76aae65b",
   "metadata": {},
   "outputs": [],
   "source": [
    "else:\n",
    "    print(\"x and y are not equal.\") \n",
    "\n",
    "print(\"End\")"
   ]
  },
  {
   "cell_type": "markdown",
   "id": "13eb87e1",
   "metadata": {},
   "source": [
    "### Boolean Combination\n",
    "* $a$ **and** $b$: true if both $a$ and $b$ are true\n",
    "* $a$ **or** $b$:  true if either $a$ or $b$ are true\n",
    "* **not** $a$:     true if both $a$ is true"
   ]
  },
  {
   "cell_type": "code",
   "execution_count": 105,
   "id": "0782b459",
   "metadata": {},
   "outputs": [
    {
     "data": {
      "text/plain": [
       "True"
      ]
     },
     "execution_count": 105,
     "metadata": {},
     "output_type": "execute_result"
    }
   ],
   "source": [
    "not 3<2"
   ]
  },
  {
   "cell_type": "markdown",
   "id": "941961df",
   "metadata": {},
   "source": [
    "**Example 1:** Even or odd number? "
   ]
  },
  {
   "cell_type": "code",
   "execution_count": 107,
   "id": "052b0411",
   "metadata": {},
   "outputs": [
    {
     "name": "stdout",
     "output_type": "stream",
     "text": [
      "Please input a number: 5\n",
      "x is odd\n",
      "End\n"
     ]
    }
   ],
   "source": [
    "x = float(input(\"Please input a number: \"))\n",
    "if x %2 == 0: #modulus operator: it gives you the remainder of the division.\n",
    "    print(\"x is even\")\n",
    "else:\n",
    "    print(\"x is odd\")\n",
    "print(\"End\")"
   ]
  },
  {
   "cell_type": "code",
   "execution_count": 111,
   "id": "551edc20",
   "metadata": {},
   "outputs": [
    {
     "name": "stdout",
     "output_type": "stream",
     "text": [
      "Please input a number: 1\n",
      "1 is odd\n",
      "End\n"
     ]
    }
   ],
   "source": [
    "a = int(input(\"Please input a number: \"))\n",
    "\n",
    "for i in range(1, a + 1):\n",
    "    if i %2 == 0: #modulus operator: it gives you the remainder of the division.\n",
    "        print('{} is even'.format(i))\n",
    "    else:\n",
    "        print('{} is odd'.format(i))\n",
    "print(\"End\")\n"
   ]
  },
  {
   "cell_type": "markdown",
   "id": "71fe6fe0",
   "metadata": {},
   "source": [
    "Multiple conditions"
   ]
  },
  {
   "cell_type": "code",
   "execution_count": 119,
   "id": "ac7e31f0",
   "metadata": {},
   "outputs": [
    {
     "name": "stdout",
     "output_type": "stream",
     "text": [
      "Please input the password: hunter2\n",
      "Welcome, administrator 1.\n",
      "Welcome, administrator 2.\n",
      "End!\n"
     ]
    }
   ],
   "source": [
    "password = 'hunter2'\n",
    "also_password = 'hunter2'\n",
    "another_password = 'hunter4'\n",
    "\n",
    "user_pass = input('Please input the password: ')\n",
    "\n",
    "if password == user_pass:\n",
    "    print(\"Welcome, administrator 1.\")\n",
    "\n",
    "if user_pass == also_password:\n",
    "    print(\"Welcome, administrator 2.\")\n",
    "elif user_pass == another_password:\n",
    "    print(\"Welcome, manager.\")    \n",
    "else:\n",
    "    print(\"Wrong password.\") #if no above given conditions are satisfied.\n",
    "print('End!')"
   ]
  },
  {
   "cell_type": "markdown",
   "id": "c823a578",
   "metadata": {},
   "source": [
    "Nested conditionals"
   ]
  },
  {
   "cell_type": "code",
   "execution_count": 122,
   "id": "4db9c21d",
   "metadata": {},
   "outputs": [
    {
     "name": "stdout",
     "output_type": "stream",
     "text": [
      "Enter a value for x: -10\n",
      "Enter a value for y: 10\n",
      "x is smaller or equal to 0\n"
     ]
    }
   ],
   "source": [
    "x = float(input(\"Enter a value for x: \"))\n",
    "y = float(input(\"Enter a value for y: \"))\n",
    "\n",
    "if x > 0:\n",
    "    if y > 0:\n",
    "        print(\"Both are greater than 0.\")\n",
    "    else:\n",
    "        print(\"x is greater than 0, but y is smaller or equal to 0\") #default code if no condition is met except x>0\n",
    "else:\n",
    "    print(\"x is smaller or equal to 0\") #default code if no condition was met\n"
   ]
  },
  {
   "cell_type": "code",
   "execution_count": null,
   "id": "5428b272",
   "metadata": {},
   "outputs": [],
   "source": [
    "x = float(input(\"Enter a value for x: \"))\n",
    "y = float(input(\"Enter a value for y: \"))\n",
    "\n",
    "if x>0 and y>0:\n",
    "    print(\"Both are greater than 0.\")\n",
    "elif x>0 and not y>0:\n",
    "    print(\"x is greater than 0, but y is smaller or equal to 0\")\n",
    "else:\n",
    "    print(\"x is smaller or equal to 0\")\n"
   ]
  },
  {
   "cell_type": "markdown",
   "id": "a6e5b109",
   "metadata": {},
   "source": [
    "* The **elif** and **else** sections are both optional.\n",
    "* **elif** statements can be repeated as many times as you want.\n",
    "* The conditions must be boolean statements.\n",
    "* The code inside **if**, **elif**, and **else** statements must be indented. \n",
    "* You can nest conditional statements. \n"
   ]
  },
  {
   "cell_type": "markdown",
   "id": "33bed24c",
   "metadata": {},
   "source": [
    "## **while** Loop"
   ]
  },
  {
   "cell_type": "markdown",
   "id": "96487da1",
   "metadata": {},
   "source": [
    "The syntax of a while loop is very similar to that of an if statement, but instead of only running the indented block of code once, the while loop will continue running it until the given Boolean statement is no longer **True**. "
   ]
  },
  {
   "cell_type": "code",
   "execution_count": 126,
   "id": "07c8d1f7",
   "metadata": {},
   "outputs": [
    {
     "name": "stdout",
     "output_type": "stream",
     "text": [
      "10\n",
      "9\n",
      "8\n",
      "7\n",
      "6\n",
      "5\n",
      "4\n",
      "3\n",
      "2\n",
      "1\n"
     ]
    }
   ],
   "source": [
    "c = 10\n",
    "while c > 0:  # Condition\n",
    "    print(c)\n",
    "    c = c -1"
   ]
  },
  {
   "cell_type": "code",
   "execution_count": 128,
   "id": "39c1a188",
   "metadata": {},
   "outputs": [
    {
     "data": {
      "text/plain": [
       "0"
      ]
     },
     "execution_count": 128,
     "metadata": {},
     "output_type": "execute_result"
    }
   ],
   "source": [
    "c"
   ]
  },
  {
   "cell_type": "markdown",
   "id": "06fb2004",
   "metadata": {},
   "source": [
    "Indented section is executed until the given condition becomes **False**. If the condition starts out False, then the loop will never execute. "
   ]
  },
  {
   "cell_type": "code",
   "execution_count": 133,
   "id": "1b5a158d",
   "metadata": {},
   "outputs": [
    {
     "name": "stdout",
     "output_type": "stream",
     "text": [
      "10\n"
     ]
    }
   ],
   "source": [
    "c = 10\n",
    "x = 10\n",
    "condition = True\n",
    "while condition is True: # Condition is not satisfied.\n",
    "    print(c)  # will not print out anything\n",
    "    x = x - 1\n",
    "    if not c > 10:\n",
    "        condition=False\n"
   ]
  },
  {
   "cell_type": "markdown",
   "id": "5b5134f9",
   "metadata": {},
   "source": [
    "**if** and **else** can be combined with **while**, as shown below: "
   ]
  },
  {
   "cell_type": "code",
   "execution_count": 131,
   "id": "16c052ab",
   "metadata": {},
   "outputs": [
    {
     "name": "stdout",
     "output_type": "stream",
     "text": [
      "1 is odd.\n",
      "2 is even.\n",
      "3 is odd.\n",
      "4 is even.\n",
      "5 is odd.\n",
      "6 is even.\n",
      "7 is odd.\n",
      "8 is even.\n",
      "9 is odd.\n",
      "10 is even.\n"
     ]
    }
   ],
   "source": [
    "c = 1\n",
    "while True:\n",
    "    if c % 2 == 0:\n",
    "        print('{} is even.'.format(c))\n",
    "    else:\n",
    "        print('{} is odd.'.format(c))\n",
    "    c = c + 1\n",
    "    if not c <= 10:\n",
    "        break"
   ]
  },
  {
   "cell_type": "code",
   "execution_count": null,
   "id": "ca8043ab",
   "metadata": {},
   "outputs": [],
   "source": [
    "c = 1\n",
    "while True: #is always satisfied until break is called.\n",
    "    if c > 10:\n",
    "        break # break the loop\n",
    "    if c % 2 == 0:\n",
    "        print(\"{} is even.\".format(c))\n",
    "    else:\n",
    "        print(\"{} is odd.\".format(c))\n",
    "    c = c + 1\n"
   ]
  },
  {
   "cell_type": "markdown",
   "id": "b281971b",
   "metadata": {},
   "source": [
    "**Example:** Simulation"
   ]
  },
  {
   "attachments": {
    "image.png": {
     "image/png": "[encoded data removed]"
    }
   },
   "cell_type": "markdown",
   "id": "46d69277",
   "metadata": {},
   "source": [
    "Let $t \\sim$ N($\\mu$, $\\sigma$). Find the probability $P(t \\geq value)$\n",
    "![image.png](attachment:image.png)"
   ]
  },
  {
   "cell_type": "code",
   "execution_count": 161,
   "id": "eab8862c",
   "metadata": {},
   "outputs": [],
   "source": [
    "import numpy as np"
   ]
  },
  {
   "cell_type": "code",
   "execution_count": 174,
   "id": "6832549b",
   "metadata": {},
   "outputs": [
    {
     "name": "stdout",
     "output_type": "stream",
     "text": [
      "Enter a value for mu: 0\n",
      "Enter a value for sigma: 1\n",
      "Enter a value for value: 3\n",
      "probs:  0.002\n"
     ]
    }
   ],
   "source": [
    "mu = float(input(\"Enter a value for mu: \"))\n",
    "sigma = float(input(\"Enter a value for sigma: \"))\n",
    "test_value = float(input(\"Enter a value for value: \"))\n",
    "\n",
    "\n",
    "iteration = 0 # run counter\n",
    "count = 0 # incident counter\n",
    "while iteration < 1_000:\n",
    "    t = np.random.normal(loc=mu, scale=sigma)\n",
    "    if t >= test_value:\n",
    "        count = count + 1\n",
    "    iteration += 1\n",
    "print('probs: ', count/iteration)"
   ]
  },
  {
   "attachments": {
    "image-7.png": {
     "image/png": "[encoded data removed]"
    }
   },
   "cell_type": "markdown",
   "id": "f6a46a6c",
   "metadata": {},
   "source": [
    "![image-7.png](attachment:image-7.png)"
   ]
  },
  {
   "cell_type": "markdown",
   "id": "2878b9cb",
   "metadata": {},
   "source": [
    "for $\\mu$ $\\in$ $\\{5,...,25\\}$ and sigma = 1\n",
    "* Find the probability $P(t \\geq 10)$\n",
    "* Find the probability $P(t \\geq 15)$\n",
    "* Find the probability $P(t \\geq 20)$"
   ]
  },
  {
   "cell_type": "code",
   "execution_count": 176,
   "id": "0b49acd8",
   "metadata": {},
   "outputs": [
    {
     "data": {
      "text/plain": [
       "'mu = 0.0'"
      ]
     },
     "execution_count": 176,
     "metadata": {},
     "output_type": "execute_result"
    }
   ],
   "source": [
    "f'mu = {mu}'"
   ]
  },
  {
   "cell_type": "code",
   "execution_count": 185,
   "id": "0c6cfba1",
   "metadata": {},
   "outputs": [],
   "source": [
    "mu_values = range(5, 26)\n",
    "sigma = 1\n",
    "test_values = [10,15,20]\n",
    "p = {} \n",
    "\n",
    "for mu in mu_values:\n",
    "    iteration = 1\n",
    "    count = {}\n",
    "    for test in test_values:\n",
    "        count[test] = 0\n",
    "    while iteration <= 1_000:\n",
    "        t = np.random.normal(loc=mu, scale=sigma)\n",
    "        for test in test_values:\n",
    "            if t >= test: \n",
    "                count[test] = count[test] + 1\n",
    "        iteration = iteration + 1\n",
    "    p[f'mu = {mu}'] = {}\n",
    "    for test in test_values:\n",
    "        p[f'mu = {mu}'][f'P(t > {test})'] = count[test]/iteration\n",
    "    "
   ]
  },
  {
   "cell_type": "code",
   "execution_count": 186,
   "id": "b9cdb7de",
   "metadata": {},
   "outputs": [
    {
     "data": {
      "text/plain": [
       "{'mu = 5': {'P(t > 10)': 0.0, 'P(t > 15)': 0.0, 'P(t > 20)': 0.0},\n",
       " 'mu = 6': {'P(t > 10)': 0.0, 'P(t > 15)': 0.0, 'P(t > 20)': 0.0},\n",
       " 'mu = 7': {'P(t > 10)': 0.000999000999000999,\n",
       "  'P(t > 15)': 0.0,\n",
       "  'P(t > 20)': 0.0},\n",
       " 'mu = 8': {'P(t > 10)': 0.027972027972027972,\n",
       "  'P(t > 15)': 0.0,\n",
       "  'P(t > 20)': 0.0},\n",
       " 'mu = 9': {'P(t > 10)': 0.1838161838161838,\n",
       "  'P(t > 15)': 0.0,\n",
       "  'P(t > 20)': 0.0},\n",
       " 'mu = 10': {'P(t > 10)': 0.5074925074925075,\n",
       "  'P(t > 15)': 0.0,\n",
       "  'P(t > 20)': 0.0},\n",
       " 'mu = 11': {'P(t > 10)': 0.8481518481518482,\n",
       "  'P(t > 15)': 0.0,\n",
       "  'P(t > 20)': 0.0},\n",
       " 'mu = 12': {'P(t > 10)': 0.975024975024975,\n",
       "  'P(t > 15)': 0.001998001998001998,\n",
       "  'P(t > 20)': 0.0},\n",
       " 'mu = 13': {'P(t > 10)': 0.998001998001998,\n",
       "  'P(t > 15)': 0.025974025974025976,\n",
       "  'P(t > 20)': 0.0},\n",
       " 'mu = 14': {'P(t > 10)': 0.999000999000999,\n",
       "  'P(t > 15)': 0.18981018981018982,\n",
       "  'P(t > 20)': 0.0},\n",
       " 'mu = 15': {'P(t > 10)': 0.999000999000999,\n",
       "  'P(t > 15)': 0.5104895104895105,\n",
       "  'P(t > 20)': 0.0},\n",
       " 'mu = 16': {'P(t > 10)': 0.999000999000999,\n",
       "  'P(t > 15)': 0.8371628371628371,\n",
       "  'P(t > 20)': 0.0},\n",
       " 'mu = 17': {'P(t > 10)': 0.999000999000999,\n",
       "  'P(t > 15)': 0.984015984015984,\n",
       "  'P(t > 20)': 0.0},\n",
       " 'mu = 18': {'P(t > 10)': 0.999000999000999,\n",
       "  'P(t > 15)': 0.999000999000999,\n",
       "  'P(t > 20)': 0.024975024975024976},\n",
       " 'mu = 19': {'P(t > 10)': 0.999000999000999,\n",
       "  'P(t > 15)': 0.999000999000999,\n",
       "  'P(t > 20)': 0.15784215784215785},\n",
       " 'mu = 20': {'P(t > 10)': 0.999000999000999,\n",
       "  'P(t > 15)': 0.999000999000999,\n",
       "  'P(t > 20)': 0.4925074925074925},\n",
       " 'mu = 21': {'P(t > 10)': 0.999000999000999,\n",
       "  'P(t > 15)': 0.999000999000999,\n",
       "  'P(t > 20)': 0.8261738261738262},\n",
       " 'mu = 22': {'P(t > 10)': 0.999000999000999,\n",
       "  'P(t > 15)': 0.999000999000999,\n",
       "  'P(t > 20)': 0.971028971028971},\n",
       " 'mu = 23': {'P(t > 10)': 0.999000999000999,\n",
       "  'P(t > 15)': 0.999000999000999,\n",
       "  'P(t > 20)': 0.999000999000999},\n",
       " 'mu = 24': {'P(t > 10)': 0.999000999000999,\n",
       "  'P(t > 15)': 0.999000999000999,\n",
       "  'P(t > 20)': 0.999000999000999},\n",
       " 'mu = 25': {'P(t > 10)': 0.999000999000999,\n",
       "  'P(t > 15)': 0.999000999000999,\n",
       "  'P(t > 20)': 0.999000999000999}}"
      ]
     },
     "execution_count": 186,
     "metadata": {},
     "output_type": "execute_result"
    }
   ],
   "source": [
    "p"
   ]
  },
  {
   "cell_type": "markdown",
   "id": "73c25dfc",
   "metadata": {},
   "source": [
    "Create a DataFrame"
   ]
  },
  {
   "cell_type": "code",
   "execution_count": 187,
   "id": "98b62686",
   "metadata": {},
   "outputs": [],
   "source": [
    "import pandas as pd"
   ]
  },
  {
   "cell_type": "code",
   "execution_count": 189,
   "id": "40975b97",
   "metadata": {},
   "outputs": [
    {
     "data": {
      "text/html": [
       "<div>\n",
       "<style scoped>\n",
       "    .dataframe tbody tr th:only-of-type {\n",
       "        vertical-align: middle;\n",
       "    }\n",
       "\n",
       "    .dataframe tbody tr th {\n",
       "        vertical-align: top;\n",
       "    }\n",
       "\n",
       "    .dataframe thead th {\n",
       "        text-align: right;\n",
       "    }\n",
       "</style>\n",
       "<table border=\"1\" class=\"dataframe\">\n",
       "  <thead>\n",
       "    <tr style=\"text-align: right;\">\n",
       "      <th></th>\n",
       "      <th>P(t &gt; 10)</th>\n",
       "      <th>P(t &gt; 15)</th>\n",
       "      <th>P(t &gt; 20)</th>\n",
       "    </tr>\n",
       "  </thead>\n",
       "  <tbody>\n",
       "    <tr>\n",
       "      <th>mu = 5</th>\n",
       "      <td>0.000000</td>\n",
       "      <td>0.000000</td>\n",
       "      <td>0.000000</td>\n",
       "    </tr>\n",
       "    <tr>\n",
       "      <th>mu = 6</th>\n",
       "      <td>0.000000</td>\n",
       "      <td>0.000000</td>\n",
       "      <td>0.000000</td>\n",
       "    </tr>\n",
       "    <tr>\n",
       "      <th>mu = 7</th>\n",
       "      <td>0.000999</td>\n",
       "      <td>0.000000</td>\n",
       "      <td>0.000000</td>\n",
       "    </tr>\n",
       "    <tr>\n",
       "      <th>mu = 8</th>\n",
       "      <td>0.027972</td>\n",
       "      <td>0.000000</td>\n",
       "      <td>0.000000</td>\n",
       "    </tr>\n",
       "    <tr>\n",
       "      <th>mu = 9</th>\n",
       "      <td>0.183816</td>\n",
       "      <td>0.000000</td>\n",
       "      <td>0.000000</td>\n",
       "    </tr>\n",
       "    <tr>\n",
       "      <th>mu = 10</th>\n",
       "      <td>0.507493</td>\n",
       "      <td>0.000000</td>\n",
       "      <td>0.000000</td>\n",
       "    </tr>\n",
       "    <tr>\n",
       "      <th>mu = 11</th>\n",
       "      <td>0.848152</td>\n",
       "      <td>0.000000</td>\n",
       "      <td>0.000000</td>\n",
       "    </tr>\n",
       "    <tr>\n",
       "      <th>mu = 12</th>\n",
       "      <td>0.975025</td>\n",
       "      <td>0.001998</td>\n",
       "      <td>0.000000</td>\n",
       "    </tr>\n",
       "    <tr>\n",
       "      <th>mu = 13</th>\n",
       "      <td>0.998002</td>\n",
       "      <td>0.025974</td>\n",
       "      <td>0.000000</td>\n",
       "    </tr>\n",
       "    <tr>\n",
       "      <th>mu = 14</th>\n",
       "      <td>0.999001</td>\n",
       "      <td>0.189810</td>\n",
       "      <td>0.000000</td>\n",
       "    </tr>\n",
       "    <tr>\n",
       "      <th>mu = 15</th>\n",
       "      <td>0.999001</td>\n",
       "      <td>0.510490</td>\n",
       "      <td>0.000000</td>\n",
       "    </tr>\n",
       "    <tr>\n",
       "      <th>mu = 16</th>\n",
       "      <td>0.999001</td>\n",
       "      <td>0.837163</td>\n",
       "      <td>0.000000</td>\n",
       "    </tr>\n",
       "    <tr>\n",
       "      <th>mu = 17</th>\n",
       "      <td>0.999001</td>\n",
       "      <td>0.984016</td>\n",
       "      <td>0.000000</td>\n",
       "    </tr>\n",
       "    <tr>\n",
       "      <th>mu = 18</th>\n",
       "      <td>0.999001</td>\n",
       "      <td>0.999001</td>\n",
       "      <td>0.024975</td>\n",
       "    </tr>\n",
       "    <tr>\n",
       "      <th>mu = 19</th>\n",
       "      <td>0.999001</td>\n",
       "      <td>0.999001</td>\n",
       "      <td>0.157842</td>\n",
       "    </tr>\n",
       "    <tr>\n",
       "      <th>mu = 20</th>\n",
       "      <td>0.999001</td>\n",
       "      <td>0.999001</td>\n",
       "      <td>0.492507</td>\n",
       "    </tr>\n",
       "    <tr>\n",
       "      <th>mu = 21</th>\n",
       "      <td>0.999001</td>\n",
       "      <td>0.999001</td>\n",
       "      <td>0.826174</td>\n",
       "    </tr>\n",
       "    <tr>\n",
       "      <th>mu = 22</th>\n",
       "      <td>0.999001</td>\n",
       "      <td>0.999001</td>\n",
       "      <td>0.971029</td>\n",
       "    </tr>\n",
       "    <tr>\n",
       "      <th>mu = 23</th>\n",
       "      <td>0.999001</td>\n",
       "      <td>0.999001</td>\n",
       "      <td>0.999001</td>\n",
       "    </tr>\n",
       "    <tr>\n",
       "      <th>mu = 24</th>\n",
       "      <td>0.999001</td>\n",
       "      <td>0.999001</td>\n",
       "      <td>0.999001</td>\n",
       "    </tr>\n",
       "    <tr>\n",
       "      <th>mu = 25</th>\n",
       "      <td>0.999001</td>\n",
       "      <td>0.999001</td>\n",
       "      <td>0.999001</td>\n",
       "    </tr>\n",
       "  </tbody>\n",
       "</table>\n",
       "</div>"
      ],
      "text/plain": [
       "         P(t > 10)  P(t > 15)  P(t > 20)\n",
       "mu = 5    0.000000   0.000000   0.000000\n",
       "mu = 6    0.000000   0.000000   0.000000\n",
       "mu = 7    0.000999   0.000000   0.000000\n",
       "mu = 8    0.027972   0.000000   0.000000\n",
       "mu = 9    0.183816   0.000000   0.000000\n",
       "mu = 10   0.507493   0.000000   0.000000\n",
       "mu = 11   0.848152   0.000000   0.000000\n",
       "mu = 12   0.975025   0.001998   0.000000\n",
       "mu = 13   0.998002   0.025974   0.000000\n",
       "mu = 14   0.999001   0.189810   0.000000\n",
       "mu = 15   0.999001   0.510490   0.000000\n",
       "mu = 16   0.999001   0.837163   0.000000\n",
       "mu = 17   0.999001   0.984016   0.000000\n",
       "mu = 18   0.999001   0.999001   0.024975\n",
       "mu = 19   0.999001   0.999001   0.157842\n",
       "mu = 20   0.999001   0.999001   0.492507\n",
       "mu = 21   0.999001   0.999001   0.826174\n",
       "mu = 22   0.999001   0.999001   0.971029\n",
       "mu = 23   0.999001   0.999001   0.999001\n",
       "mu = 24   0.999001   0.999001   0.999001\n",
       "mu = 25   0.999001   0.999001   0.999001"
      ]
     },
     "execution_count": 189,
     "metadata": {},
     "output_type": "execute_result"
    }
   ],
   "source": [
    "pd.DataFrame(p).T"
   ]
  },
  {
   "cell_type": "code",
   "execution_count": 190,
   "id": "1d853d74",
   "metadata": {},
   "outputs": [
    {
     "data": {
      "text/html": [
       "<div>\n",
       "<style scoped>\n",
       "    .dataframe tbody tr th:only-of-type {\n",
       "        vertical-align: middle;\n",
       "    }\n",
       "\n",
       "    .dataframe tbody tr th {\n",
       "        vertical-align: top;\n",
       "    }\n",
       "\n",
       "    .dataframe thead th {\n",
       "        text-align: right;\n",
       "    }\n",
       "</style>\n",
       "<table border=\"1\" class=\"dataframe\">\n",
       "  <thead>\n",
       "    <tr style=\"text-align: right;\">\n",
       "      <th></th>\n",
       "      <th>P(t &gt; 10)</th>\n",
       "      <th>P(t &gt; 15)</th>\n",
       "      <th>P(t &gt; 20)</th>\n",
       "    </tr>\n",
       "  </thead>\n",
       "  <tbody>\n",
       "    <tr>\n",
       "      <th>mu = 5</th>\n",
       "      <td>0.000000</td>\n",
       "      <td>0.000000</td>\n",
       "      <td>0.000000</td>\n",
       "    </tr>\n",
       "    <tr>\n",
       "      <th>mu = 6</th>\n",
       "      <td>0.000000</td>\n",
       "      <td>0.000000</td>\n",
       "      <td>0.000000</td>\n",
       "    </tr>\n",
       "    <tr>\n",
       "      <th>mu = 7</th>\n",
       "      <td>0.000999</td>\n",
       "      <td>0.000000</td>\n",
       "      <td>0.000000</td>\n",
       "    </tr>\n",
       "    <tr>\n",
       "      <th>mu = 8</th>\n",
       "      <td>0.027972</td>\n",
       "      <td>0.000000</td>\n",
       "      <td>0.000000</td>\n",
       "    </tr>\n",
       "    <tr>\n",
       "      <th>mu = 9</th>\n",
       "      <td>0.183816</td>\n",
       "      <td>0.000000</td>\n",
       "      <td>0.000000</td>\n",
       "    </tr>\n",
       "    <tr>\n",
       "      <th>mu = 10</th>\n",
       "      <td>0.507493</td>\n",
       "      <td>0.000000</td>\n",
       "      <td>0.000000</td>\n",
       "    </tr>\n",
       "    <tr>\n",
       "      <th>mu = 11</th>\n",
       "      <td>0.848152</td>\n",
       "      <td>0.000000</td>\n",
       "      <td>0.000000</td>\n",
       "    </tr>\n",
       "    <tr>\n",
       "      <th>mu = 12</th>\n",
       "      <td>0.975025</td>\n",
       "      <td>0.001998</td>\n",
       "      <td>0.000000</td>\n",
       "    </tr>\n",
       "    <tr>\n",
       "      <th>mu = 13</th>\n",
       "      <td>0.998002</td>\n",
       "      <td>0.025974</td>\n",
       "      <td>0.000000</td>\n",
       "    </tr>\n",
       "    <tr>\n",
       "      <th>mu = 14</th>\n",
       "      <td>0.999001</td>\n",
       "      <td>0.189810</td>\n",
       "      <td>0.000000</td>\n",
       "    </tr>\n",
       "    <tr>\n",
       "      <th>mu = 15</th>\n",
       "      <td>0.999001</td>\n",
       "      <td>0.510490</td>\n",
       "      <td>0.000000</td>\n",
       "    </tr>\n",
       "    <tr>\n",
       "      <th>mu = 16</th>\n",
       "      <td>0.999001</td>\n",
       "      <td>0.837163</td>\n",
       "      <td>0.000000</td>\n",
       "    </tr>\n",
       "    <tr>\n",
       "      <th>mu = 17</th>\n",
       "      <td>0.999001</td>\n",
       "      <td>0.984016</td>\n",
       "      <td>0.000000</td>\n",
       "    </tr>\n",
       "    <tr>\n",
       "      <th>mu = 18</th>\n",
       "      <td>0.999001</td>\n",
       "      <td>0.999001</td>\n",
       "      <td>0.024975</td>\n",
       "    </tr>\n",
       "    <tr>\n",
       "      <th>mu = 19</th>\n",
       "      <td>0.999001</td>\n",
       "      <td>0.999001</td>\n",
       "      <td>0.157842</td>\n",
       "    </tr>\n",
       "    <tr>\n",
       "      <th>mu = 20</th>\n",
       "      <td>0.999001</td>\n",
       "      <td>0.999001</td>\n",
       "      <td>0.492507</td>\n",
       "    </tr>\n",
       "    <tr>\n",
       "      <th>mu = 21</th>\n",
       "      <td>0.999001</td>\n",
       "      <td>0.999001</td>\n",
       "      <td>0.826174</td>\n",
       "    </tr>\n",
       "    <tr>\n",
       "      <th>mu = 22</th>\n",
       "      <td>0.999001</td>\n",
       "      <td>0.999001</td>\n",
       "      <td>0.971029</td>\n",
       "    </tr>\n",
       "    <tr>\n",
       "      <th>mu = 23</th>\n",
       "      <td>0.999001</td>\n",
       "      <td>0.999001</td>\n",
       "      <td>0.999001</td>\n",
       "    </tr>\n",
       "    <tr>\n",
       "      <th>mu = 24</th>\n",
       "      <td>0.999001</td>\n",
       "      <td>0.999001</td>\n",
       "      <td>0.999001</td>\n",
       "    </tr>\n",
       "    <tr>\n",
       "      <th>mu = 25</th>\n",
       "      <td>0.999001</td>\n",
       "      <td>0.999001</td>\n",
       "      <td>0.999001</td>\n",
       "    </tr>\n",
       "  </tbody>\n",
       "</table>\n",
       "</div>"
      ],
      "text/plain": [
       "         P(t > 10)  P(t > 15)  P(t > 20)\n",
       "mu = 5    0.000000   0.000000   0.000000\n",
       "mu = 6    0.000000   0.000000   0.000000\n",
       "mu = 7    0.000999   0.000000   0.000000\n",
       "mu = 8    0.027972   0.000000   0.000000\n",
       "mu = 9    0.183816   0.000000   0.000000\n",
       "mu = 10   0.507493   0.000000   0.000000\n",
       "mu = 11   0.848152   0.000000   0.000000\n",
       "mu = 12   0.975025   0.001998   0.000000\n",
       "mu = 13   0.998002   0.025974   0.000000\n",
       "mu = 14   0.999001   0.189810   0.000000\n",
       "mu = 15   0.999001   0.510490   0.000000\n",
       "mu = 16   0.999001   0.837163   0.000000\n",
       "mu = 17   0.999001   0.984016   0.000000\n",
       "mu = 18   0.999001   0.999001   0.024975\n",
       "mu = 19   0.999001   0.999001   0.157842\n",
       "mu = 20   0.999001   0.999001   0.492507\n",
       "mu = 21   0.999001   0.999001   0.826174\n",
       "mu = 22   0.999001   0.999001   0.971029\n",
       "mu = 23   0.999001   0.999001   0.999001\n",
       "mu = 24   0.999001   0.999001   0.999001\n",
       "mu = 25   0.999001   0.999001   0.999001"
      ]
     },
     "execution_count": 190,
     "metadata": {},
     "output_type": "execute_result"
    }
   ],
   "source": [
    "results = pd.DataFrame(p).T\n",
    "results"
   ]
  },
  {
   "cell_type": "code",
   "execution_count": 192,
   "id": "e2f23059",
   "metadata": {},
   "outputs": [
    {
     "data": {
      "text/html": [
       "<div>\n",
       "<style scoped>\n",
       "    .dataframe tbody tr th:only-of-type {\n",
       "        vertical-align: middle;\n",
       "    }\n",
       "\n",
       "    .dataframe tbody tr th {\n",
       "        vertical-align: top;\n",
       "    }\n",
       "\n",
       "    .dataframe thead th {\n",
       "        text-align: right;\n",
       "    }\n",
       "</style>\n",
       "<table border=\"1\" class=\"dataframe\">\n",
       "  <thead>\n",
       "    <tr style=\"text-align: right;\">\n",
       "      <th></th>\n",
       "      <th>P(t &gt; 10)</th>\n",
       "      <th>P(t &gt; 15)</th>\n",
       "      <th>P(t &gt; 20)</th>\n",
       "    </tr>\n",
       "  </thead>\n",
       "  <tbody>\n",
       "    <tr>\n",
       "      <th>mu = 9</th>\n",
       "      <td>0.183816</td>\n",
       "      <td>0.0</td>\n",
       "      <td>0.0</td>\n",
       "    </tr>\n",
       "    <tr>\n",
       "      <th>mu = 10</th>\n",
       "      <td>0.507493</td>\n",
       "      <td>0.0</td>\n",
       "      <td>0.0</td>\n",
       "    </tr>\n",
       "    <tr>\n",
       "      <th>mu = 11</th>\n",
       "      <td>0.848152</td>\n",
       "      <td>0.0</td>\n",
       "      <td>0.0</td>\n",
       "    </tr>\n",
       "  </tbody>\n",
       "</table>\n",
       "</div>"
      ],
      "text/plain": [
       "         P(t > 10)  P(t > 15)  P(t > 20)\n",
       "mu = 9    0.183816        0.0        0.0\n",
       "mu = 10   0.507493        0.0        0.0\n",
       "mu = 11   0.848152        0.0        0.0"
      ]
     },
     "execution_count": 192,
     "metadata": {},
     "output_type": "execute_result"
    }
   ],
   "source": [
    "results.loc[results['P(t > 10)'].between(0.1, 0.9)]"
   ]
  },
  {
   "cell_type": "code",
   "execution_count": null,
   "id": "a7316718",
   "metadata": {},
   "outputs": [],
   "source": []
  }
 ],
 "metadata": {
  "kernelspec": {
   "display_name": "Python 3 (ipykernel)",
   "language": "python",
   "name": "python3"
  },
  "language_info": {
   "codemirror_mode": {
    "name": "ipython",
    "version": 3
   },
   "file_extension": ".py",
   "mimetype": "text/x-python",
   "name": "python",
   "nbconvert_exporter": "python",
   "pygments_lexer": "ipython3",
   "version": "3.10.9"
  }
 },
 "nbformat": 4,
 "nbformat_minor": 5
}
